{
 "cells": [
  {
   "cell_type": "code",
   "execution_count": 24,
   "metadata": {},
   "outputs": [],
   "source": [
    "import os\n",
    "import numpy as np\n",
    "import pandas as pd\n",
    "import tensorflow as tf\n",
    "import matplotlib.pyplot as plt\n",
    "import tensorflow.keras.applications as keras_apps\n",
    "import cryptovision.tools as tools\n",
    "from tensorflow.keras import layers"
   ]
  },
  {
   "cell_type": "code",
   "execution_count": 25,
   "metadata": {},
   "outputs": [],
   "source": [
    "df = pd.read_csv(\n",
    "    '/Volumes/T7_shield/CryptoVision/Data/Images/Sources/INaturaList/Species/v250116/images_catalog.csv'\n",
    ")\n",
    "\n",
    "SEED = 42\n",
    "image_size = (128, 128)\n",
    "level = 'family'\n",
    "epochs = 20\n",
    "\n",
    "def clean_dataframe(df, sample_limit):\n",
    "    # Rmv duplicates\n",
    "    df = df.drop_duplicates(subset='hash', keep='first')\n",
    "\n",
    "    # Rmv Species with less than few images\n",
    "    df = df[df['species'].map(df['species'].value_counts()) > sample_limit]\n",
    "    \n",
    "    df.reset_index(drop=True, inplace=True)\n",
    "    \n",
    "    return df\n",
    "\n",
    "df = clean_dataframe(df, 50)\n",
    "\n",
    "train_df, val_df, test_df = tools.split_dataframe(\n",
    "    df,\n",
    "    test_size=0.15,\n",
    "    val_size=0.15,\n",
    "    stratify_by='folder_label',\n",
    "    random_state=SEED,\n",
    ")\n",
    "\n",
    "train_ds = tools.tensorflow_dataset(\n",
    "    train_df,\n",
    "    batch_size=128,\n",
    "    image_size=(128, 128),\n",
    ")\n",
    "\n",
    "val_ds = tools.tensorflow_dataset(\n",
    "    val_df,\n",
    "    batch_size=128,\n",
    "    image_size=(128, 128),\n",
    ")\n",
    "\n",
    "test_ds = tools.tensorflow_dataset(\n",
    "    test_df,\n",
    "    batch_size=128,\n",
    "    image_size=image_size,\n",
    ")\n",
    "\n",
    "train_datasets = {\n",
    "    'all': train_ds,\n",
    "    'family': train_ds.map(lambda image, labels: (image, labels['family'])),\n",
    "    'genus': train_ds.map(lambda image, labels: (image, labels['genus'])),\n",
    "    'species': train_ds.map(lambda image, labels: (image, labels['species'])),\n",
    "}\n",
    "\n",
    "val_datasets = {\n",
    "    'all': val_ds,\n",
    "    'family': val_ds.map(lambda image, labels: (image, labels['family'])),\n",
    "    'genus': val_ds.map(lambda image, labels: (image, labels['genus'])),\n",
    "    'species': val_ds.map(lambda image, labels: (image, labels['species'])),\n",
    "}\n",
    "\n",
    "test_datasets = {\n",
    "    'all': test_ds,\n",
    "    'family': test_ds.map(lambda image, labels: (image, labels['family'])),\n",
    "    'genus': test_ds.map(lambda image, labels: (image, labels['genus'])),\n",
    "    'species': test_ds.map(lambda image, labels: (image, labels['species'])),\n",
    "}"
   ]
  },
  {
   "cell_type": "code",
   "execution_count": 26,
   "metadata": {},
   "outputs": [
    {
     "data": {
      "text/html": [
       "<pre style=\"white-space:pre;overflow-x:auto;line-height:normal;font-family:Menlo,'DejaVu Sans Mono',consolas,'Courier New',monospace\"><span style=\"font-weight: bold\">Model: \"LevelModel_family\"</span>\n",
       "</pre>\n"
      ],
      "text/plain": [
       "\u001b[1mModel: \"LevelModel_family\"\u001b[0m\n"
      ]
     },
     "metadata": {},
     "output_type": "display_data"
    },
    {
     "data": {
      "text/html": [
       "<pre style=\"white-space:pre;overflow-x:auto;line-height:normal;font-family:Menlo,'DejaVu Sans Mono',consolas,'Courier New',monospace\">┏━━━━━━━━━━━━━━━━━━━━━━━━━━━━━━━━━┳━━━━━━━━━━━━━━━━━━━━━━━━┳━━━━━━━━━━━━━━━┓\n",
       "┃<span style=\"font-weight: bold\"> Layer (type)                    </span>┃<span style=\"font-weight: bold\"> Output Shape           </span>┃<span style=\"font-weight: bold\">       Param # </span>┃\n",
       "┡━━━━━━━━━━━━━━━━━━━━━━━━━━━━━━━━━╇━━━━━━━━━━━━━━━━━━━━━━━━╇━━━━━━━━━━━━━━━┩\n",
       "│ input_layer (<span style=\"color: #0087ff; text-decoration-color: #0087ff\">InputLayer</span>)        │ (<span style=\"color: #00d7ff; text-decoration-color: #00d7ff\">None</span>, <span style=\"color: #00af00; text-decoration-color: #00af00\">128</span>, <span style=\"color: #00af00; text-decoration-color: #00af00\">128</span>, <span style=\"color: #00af00; text-decoration-color: #00af00\">3</span>)    │             <span style=\"color: #00af00; text-decoration-color: #00af00\">0</span> │\n",
       "├─────────────────────────────────┼────────────────────────┼───────────────┤\n",
       "│ cast_8 (<span style=\"color: #0087ff; text-decoration-color: #0087ff\">Cast</span>)                   │ (<span style=\"color: #00d7ff; text-decoration-color: #00d7ff\">None</span>, <span style=\"color: #00af00; text-decoration-color: #00af00\">128</span>, <span style=\"color: #00af00; text-decoration-color: #00af00\">128</span>, <span style=\"color: #00af00; text-decoration-color: #00af00\">3</span>)    │             <span style=\"color: #00af00; text-decoration-color: #00af00\">0</span> │\n",
       "├─────────────────────────────────┼────────────────────────┼───────────────┤\n",
       "│ augmentation (<span style=\"color: #0087ff; text-decoration-color: #0087ff\">Sequential</span>)       │ (<span style=\"color: #00d7ff; text-decoration-color: #00d7ff\">None</span>, <span style=\"color: #00af00; text-decoration-color: #00af00\">128</span>, <span style=\"color: #00af00; text-decoration-color: #00af00\">128</span>, <span style=\"color: #00af00; text-decoration-color: #00af00\">3</span>)    │             <span style=\"color: #00af00; text-decoration-color: #00af00\">0</span> │\n",
       "├─────────────────────────────────┼────────────────────────┼───────────────┤\n",
       "│ true_divide_6 (<span style=\"color: #0087ff; text-decoration-color: #0087ff\">TrueDivide</span>)      │ (<span style=\"color: #00d7ff; text-decoration-color: #00d7ff\">None</span>, <span style=\"color: #00af00; text-decoration-color: #00af00\">128</span>, <span style=\"color: #00af00; text-decoration-color: #00af00\">128</span>, <span style=\"color: #00af00; text-decoration-color: #00af00\">3</span>)    │             <span style=\"color: #00af00; text-decoration-color: #00af00\">0</span> │\n",
       "├─────────────────────────────────┼────────────────────────┼───────────────┤\n",
       "│ subtract_6 (<span style=\"color: #0087ff; text-decoration-color: #0087ff\">Subtract</span>)           │ (<span style=\"color: #00d7ff; text-decoration-color: #00d7ff\">None</span>, <span style=\"color: #00af00; text-decoration-color: #00af00\">128</span>, <span style=\"color: #00af00; text-decoration-color: #00af00\">128</span>, <span style=\"color: #00af00; text-decoration-color: #00af00\">3</span>)    │             <span style=\"color: #00af00; text-decoration-color: #00af00\">0</span> │\n",
       "├─────────────────────────────────┼────────────────────────┼───────────────┤\n",
       "│ resnet50v2 (<span style=\"color: #0087ff; text-decoration-color: #0087ff\">Functional</span>)         │ (<span style=\"color: #00d7ff; text-decoration-color: #00d7ff\">None</span>, <span style=\"color: #00af00; text-decoration-color: #00af00\">4</span>, <span style=\"color: #00af00; text-decoration-color: #00af00\">4</span>, <span style=\"color: #00af00; text-decoration-color: #00af00\">2048</span>)     │    <span style=\"color: #00af00; text-decoration-color: #00af00\">23,564,800</span> │\n",
       "├─────────────────────────────────┼────────────────────────┼───────────────┤\n",
       "│ GlobAvgPool2D                   │ (<span style=\"color: #00d7ff; text-decoration-color: #00d7ff\">None</span>, <span style=\"color: #00af00; text-decoration-color: #00af00\">2048</span>)           │             <span style=\"color: #00af00; text-decoration-color: #00af00\">0</span> │\n",
       "│ (<span style=\"color: #0087ff; text-decoration-color: #0087ff\">GlobalAveragePooling2D</span>)        │                        │               │\n",
       "├─────────────────────────────────┼────────────────────────┼───────────────┤\n",
       "│ hidden_layer (<span style=\"color: #0087ff; text-decoration-color: #0087ff\">Dense</span>)            │ (<span style=\"color: #00d7ff; text-decoration-color: #00d7ff\">None</span>, <span style=\"color: #00af00; text-decoration-color: #00af00\">1024</span>)           │     <span style=\"color: #00af00; text-decoration-color: #00af00\">2,098,176</span> │\n",
       "├─────────────────────────────────┼────────────────────────┼───────────────┤\n",
       "│ batch_normalization_13          │ (<span style=\"color: #00d7ff; text-decoration-color: #00d7ff\">None</span>, <span style=\"color: #00af00; text-decoration-color: #00af00\">1024</span>)           │         <span style=\"color: #00af00; text-decoration-color: #00af00\">4,096</span> │\n",
       "│ (<span style=\"color: #0087ff; text-decoration-color: #0087ff\">BatchNormalization</span>)            │                        │               │\n",
       "├─────────────────────────────────┼────────────────────────┼───────────────┤\n",
       "│ activation_13 (<span style=\"color: #0087ff; text-decoration-color: #0087ff\">Activation</span>)      │ (<span style=\"color: #00d7ff; text-decoration-color: #00d7ff\">None</span>, <span style=\"color: #00af00; text-decoration-color: #00af00\">1024</span>)           │             <span style=\"color: #00af00; text-decoration-color: #00af00\">0</span> │\n",
       "├─────────────────────────────────┼────────────────────────┼───────────────┤\n",
       "│ dropout_13 (<span style=\"color: #0087ff; text-decoration-color: #0087ff\">Dropout</span>)            │ (<span style=\"color: #00d7ff; text-decoration-color: #00d7ff\">None</span>, <span style=\"color: #00af00; text-decoration-color: #00af00\">1024</span>)           │             <span style=\"color: #00af00; text-decoration-color: #00af00\">0</span> │\n",
       "├─────────────────────────────────┼────────────────────────┼───────────────┤\n",
       "│ species (<span style=\"color: #0087ff; text-decoration-color: #0087ff\">Dense</span>)                 │ (<span style=\"color: #00d7ff; text-decoration-color: #00d7ff\">None</span>, <span style=\"color: #00af00; text-decoration-color: #00af00\">19</span>)             │        <span style=\"color: #00af00; text-decoration-color: #00af00\">19,475</span> │\n",
       "└─────────────────────────────────┴────────────────────────┴───────────────┘\n",
       "</pre>\n"
      ],
      "text/plain": [
       "┏━━━━━━━━━━━━━━━━━━━━━━━━━━━━━━━━━┳━━━━━━━━━━━━━━━━━━━━━━━━┳━━━━━━━━━━━━━━━┓\n",
       "┃\u001b[1m \u001b[0m\u001b[1mLayer (type)                   \u001b[0m\u001b[1m \u001b[0m┃\u001b[1m \u001b[0m\u001b[1mOutput Shape          \u001b[0m\u001b[1m \u001b[0m┃\u001b[1m \u001b[0m\u001b[1m      Param #\u001b[0m\u001b[1m \u001b[0m┃\n",
       "┡━━━━━━━━━━━━━━━━━━━━━━━━━━━━━━━━━╇━━━━━━━━━━━━━━━━━━━━━━━━╇━━━━━━━━━━━━━━━┩\n",
       "│ input_layer (\u001b[38;5;33mInputLayer\u001b[0m)        │ (\u001b[38;5;45mNone\u001b[0m, \u001b[38;5;34m128\u001b[0m, \u001b[38;5;34m128\u001b[0m, \u001b[38;5;34m3\u001b[0m)    │             \u001b[38;5;34m0\u001b[0m │\n",
       "├─────────────────────────────────┼────────────────────────┼───────────────┤\n",
       "│ cast_8 (\u001b[38;5;33mCast\u001b[0m)                   │ (\u001b[38;5;45mNone\u001b[0m, \u001b[38;5;34m128\u001b[0m, \u001b[38;5;34m128\u001b[0m, \u001b[38;5;34m3\u001b[0m)    │             \u001b[38;5;34m0\u001b[0m │\n",
       "├─────────────────────────────────┼────────────────────────┼───────────────┤\n",
       "│ augmentation (\u001b[38;5;33mSequential\u001b[0m)       │ (\u001b[38;5;45mNone\u001b[0m, \u001b[38;5;34m128\u001b[0m, \u001b[38;5;34m128\u001b[0m, \u001b[38;5;34m3\u001b[0m)    │             \u001b[38;5;34m0\u001b[0m │\n",
       "├─────────────────────────────────┼────────────────────────┼───────────────┤\n",
       "│ true_divide_6 (\u001b[38;5;33mTrueDivide\u001b[0m)      │ (\u001b[38;5;45mNone\u001b[0m, \u001b[38;5;34m128\u001b[0m, \u001b[38;5;34m128\u001b[0m, \u001b[38;5;34m3\u001b[0m)    │             \u001b[38;5;34m0\u001b[0m │\n",
       "├─────────────────────────────────┼────────────────────────┼───────────────┤\n",
       "│ subtract_6 (\u001b[38;5;33mSubtract\u001b[0m)           │ (\u001b[38;5;45mNone\u001b[0m, \u001b[38;5;34m128\u001b[0m, \u001b[38;5;34m128\u001b[0m, \u001b[38;5;34m3\u001b[0m)    │             \u001b[38;5;34m0\u001b[0m │\n",
       "├─────────────────────────────────┼────────────────────────┼───────────────┤\n",
       "│ resnet50v2 (\u001b[38;5;33mFunctional\u001b[0m)         │ (\u001b[38;5;45mNone\u001b[0m, \u001b[38;5;34m4\u001b[0m, \u001b[38;5;34m4\u001b[0m, \u001b[38;5;34m2048\u001b[0m)     │    \u001b[38;5;34m23,564,800\u001b[0m │\n",
       "├─────────────────────────────────┼────────────────────────┼───────────────┤\n",
       "│ GlobAvgPool2D                   │ (\u001b[38;5;45mNone\u001b[0m, \u001b[38;5;34m2048\u001b[0m)           │             \u001b[38;5;34m0\u001b[0m │\n",
       "│ (\u001b[38;5;33mGlobalAveragePooling2D\u001b[0m)        │                        │               │\n",
       "├─────────────────────────────────┼────────────────────────┼───────────────┤\n",
       "│ hidden_layer (\u001b[38;5;33mDense\u001b[0m)            │ (\u001b[38;5;45mNone\u001b[0m, \u001b[38;5;34m1024\u001b[0m)           │     \u001b[38;5;34m2,098,176\u001b[0m │\n",
       "├─────────────────────────────────┼────────────────────────┼───────────────┤\n",
       "│ batch_normalization_13          │ (\u001b[38;5;45mNone\u001b[0m, \u001b[38;5;34m1024\u001b[0m)           │         \u001b[38;5;34m4,096\u001b[0m │\n",
       "│ (\u001b[38;5;33mBatchNormalization\u001b[0m)            │                        │               │\n",
       "├─────────────────────────────────┼────────────────────────┼───────────────┤\n",
       "│ activation_13 (\u001b[38;5;33mActivation\u001b[0m)      │ (\u001b[38;5;45mNone\u001b[0m, \u001b[38;5;34m1024\u001b[0m)           │             \u001b[38;5;34m0\u001b[0m │\n",
       "├─────────────────────────────────┼────────────────────────┼───────────────┤\n",
       "│ dropout_13 (\u001b[38;5;33mDropout\u001b[0m)            │ (\u001b[38;5;45mNone\u001b[0m, \u001b[38;5;34m1024\u001b[0m)           │             \u001b[38;5;34m0\u001b[0m │\n",
       "├─────────────────────────────────┼────────────────────────┼───────────────┤\n",
       "│ species (\u001b[38;5;33mDense\u001b[0m)                 │ (\u001b[38;5;45mNone\u001b[0m, \u001b[38;5;34m19\u001b[0m)             │        \u001b[38;5;34m19,475\u001b[0m │\n",
       "└─────────────────────────────────┴────────────────────────┴───────────────┘\n"
      ]
     },
     "metadata": {},
     "output_type": "display_data"
    },
    {
     "data": {
      "text/html": [
       "<pre style=\"white-space:pre;overflow-x:auto;line-height:normal;font-family:Menlo,'DejaVu Sans Mono',consolas,'Courier New',monospace\"><span style=\"font-weight: bold\"> Total params: </span><span style=\"color: #00af00; text-decoration-color: #00af00\">25,686,547</span> (97.99 MB)\n",
       "</pre>\n"
      ],
      "text/plain": [
       "\u001b[1m Total params: \u001b[0m\u001b[38;5;34m25,686,547\u001b[0m (97.99 MB)\n"
      ]
     },
     "metadata": {},
     "output_type": "display_data"
    },
    {
     "data": {
      "text/html": [
       "<pre style=\"white-space:pre;overflow-x:auto;line-height:normal;font-family:Menlo,'DejaVu Sans Mono',consolas,'Courier New',monospace\"><span style=\"font-weight: bold\"> Trainable params: </span><span style=\"color: #00af00; text-decoration-color: #00af00\">2,119,699</span> (8.09 MB)\n",
       "</pre>\n"
      ],
      "text/plain": [
       "\u001b[1m Trainable params: \u001b[0m\u001b[38;5;34m2,119,699\u001b[0m (8.09 MB)\n"
      ]
     },
     "metadata": {},
     "output_type": "display_data"
    },
    {
     "data": {
      "text/html": [
       "<pre style=\"white-space:pre;overflow-x:auto;line-height:normal;font-family:Menlo,'DejaVu Sans Mono',consolas,'Courier New',monospace\"><span style=\"font-weight: bold\"> Non-trainable params: </span><span style=\"color: #00af00; text-decoration-color: #00af00\">23,566,848</span> (89.90 MB)\n",
       "</pre>\n"
      ],
      "text/plain": [
       "\u001b[1m Non-trainable params: \u001b[0m\u001b[38;5;34m23,566,848\u001b[0m (89.90 MB)\n"
      ]
     },
     "metadata": {},
     "output_type": "display_data"
    }
   ],
   "source": [
    "# Build Model\n",
    "\n",
    "# Augmentation\n",
    "augmentation = tf.keras.Sequential(\n",
    "    [\n",
    "        layers.RandomFlip(\"horizontal\", seed=SEED),\n",
    "        layers.RandomRotation(0.1, seed=SEED),\n",
    "        layers.RandomZoom(height_factor=(0.05, 0.1), width_factor=(0.05, 0.1), seed=SEED),  # Wider zoom range\n",
    "        layers.RandomContrast(0.2, seed=SEED),\n",
    "        layers.RandomBrightness(0.2, seed=SEED),\n",
    "        layers.RandomTranslation(0.1, 0.1, seed=SEED),\n",
    "        layers.RandomCrop(image_size[0], image_size[1], seed=SEED),\n",
    "        layers.GaussianNoise(0.1, seed=SEED),\n",
    "    ],\n",
    "    name='augmentation'\n",
    ")\n",
    "\n",
    "# Pre-trained Model\n",
    "pretrain = keras_apps.ResNet50V2(include_top=False, weights='imagenet', input_shape=(image_size[0], image_size[1], 3))\n",
    "pretrain.trainable = False\n",
    "\n",
    "def pretrain_model(backbone, preprocess, input_shape=(224, 224, 3), name=None, augmentation=None):\n",
    "    \n",
    "    inputs = layers.Input(shape=input_shape, name='input_layer')\n",
    "    x = augmentation(inputs) if augmentation else inputs\n",
    "    x = preprocess(x)\n",
    "    x = backbone(x, training=False)\n",
    "    \n",
    "    return tf.keras.Model(inputs, x, name=name)\n",
    "\n",
    "def dense_block(input_layer, name:str, units:int, dropout:float, activation:str='relu', norm:bool=True):\n",
    "    \n",
    "    x = layers.Dense(units, name=name)(input_layer)\n",
    "    if norm:\n",
    "        x = layers.BatchNormalization()(x)\n",
    "    x = layers.Activation(activation)(x)\n",
    "    x = layers.Dropout(dropout)(x)\n",
    "    return x\n",
    "\n",
    "feature_extractor = pretrain_model(\n",
    "    pretrain, \n",
    "    keras_apps.resnet_v2.preprocess_input, \n",
    "    input_shape=(image_size[0], image_size[1], 3), \n",
    "    name='feature_extractor',\n",
    "    augmentation=augmentation\n",
    ")\n",
    "\n",
    "# Eviota Model\n",
    "features = layers.GlobalAveragePooling2D(name='GlobAvgPool2D')(feature_extractor.output)\n",
    "hidden_layer = dense_block(features, 'hidden_layer', 1024, 0.2)\n",
    "\n",
    "# Species Output\n",
    "species_output = layers.Dense(df[level].nunique(), activation='softmax', name='species')(hidden_layer)\n",
    "\n",
    "model = tf.keras.Model(\n",
    "    feature_extractor.input,\n",
    "    species_output,\n",
    "    name='LevelModel_' + level\n",
    ")\n",
    "\n",
    "model.summary()"
   ]
  },
  {
   "cell_type": "code",
   "execution_count": 27,
   "metadata": {},
   "outputs": [],
   "source": [
    "model.compile(\n",
    "    optimizer=tf.keras.optimizers.Adam(learning_rate=1e-4),\n",
    "    loss=tf.keras.losses.CategoricalCrossentropy(),\n",
    "    metrics=['accuracy'],\n",
    ")"
   ]
  },
  {
   "cell_type": "code",
   "execution_count": 28,
   "metadata": {},
   "outputs": [
    {
     "name": "stdout",
     "output_type": "stream",
     "text": [
      "Epoch 1/20\n"
     ]
    },
    {
     "name": "stderr",
     "output_type": "stream",
     "text": [
      "2025-02-10 18:05:09.042129: I tensorflow/core/kernels/data/shuffle_dataset_op.cc:450] ShuffleDatasetV3:170: Filling up shuffle buffer (this may take a while): 34 of 10872\n",
      "2025-02-10 18:05:24.073309: I tensorflow/core/kernels/data/shuffle_dataset_op.cc:480] Shuffle buffer filled.\n"
     ]
    },
    {
     "name": "stdout",
     "output_type": "stream",
     "text": [
      "\u001b[1m85/85\u001b[0m \u001b[32m━━━━━━━━━━━━━━━━━━━━\u001b[0m\u001b[37m\u001b[0m \u001b[1m62s\u001b[0m 374ms/step - accuracy: 0.2130 - loss: 2.7454 - val_accuracy: 0.4592 - val_loss: 1.8197\n",
      "Epoch 2/20\n",
      "\u001b[1m85/85\u001b[0m \u001b[32m━━━━━━━━━━━━━━━━━━━━\u001b[0m\u001b[37m\u001b[0m \u001b[1m22s\u001b[0m 261ms/step - accuracy: 0.4470 - loss: 1.8418 - val_accuracy: 0.5052 - val_loss: 1.6239\n",
      "Epoch 3/20\n",
      "\u001b[1m85/85\u001b[0m \u001b[32m━━━━━━━━━━━━━━━━━━━━\u001b[0m\u001b[37m\u001b[0m \u001b[1m23s\u001b[0m 269ms/step - accuracy: 0.4878 - loss: 1.6654 - val_accuracy: 0.5391 - val_loss: 1.5230\n",
      "Epoch 4/20\n",
      "\u001b[1m85/85\u001b[0m \u001b[32m━━━━━━━━━━━━━━━━━━━━\u001b[0m\u001b[37m\u001b[0m \u001b[1m22s\u001b[0m 265ms/step - accuracy: 0.5054 - loss: 1.5833 - val_accuracy: 0.5382 - val_loss: 1.4958\n",
      "Epoch 5/20\n",
      "\u001b[1m85/85\u001b[0m \u001b[32m━━━━━━━━━━━━━━━━━━━━\u001b[0m\u001b[37m\u001b[0m \u001b[1m22s\u001b[0m 263ms/step - accuracy: 0.5150 - loss: 1.5368 - val_accuracy: 0.5485 - val_loss: 1.4613\n",
      "Epoch 6/20\n",
      "\u001b[1m85/85\u001b[0m \u001b[32m━━━━━━━━━━━━━━━━━━━━\u001b[0m\u001b[37m\u001b[0m \u001b[1m23s\u001b[0m 265ms/step - accuracy: 0.5274 - loss: 1.4804 - val_accuracy: 0.5433 - val_loss: 1.4460\n",
      "Epoch 7/20\n",
      "\u001b[1m85/85\u001b[0m \u001b[32m━━━━━━━━━━━━━━━━━━━━\u001b[0m\u001b[37m\u001b[0m \u001b[1m23s\u001b[0m 275ms/step - accuracy: 0.5446 - loss: 1.4293 - val_accuracy: 0.5506 - val_loss: 1.4375\n",
      "Epoch 8/20\n",
      "\u001b[1m85/85\u001b[0m \u001b[32m━━━━━━━━━━━━━━━━━━━━\u001b[0m\u001b[37m\u001b[0m \u001b[1m22s\u001b[0m 263ms/step - accuracy: 0.5485 - loss: 1.3956 - val_accuracy: 0.5549 - val_loss: 1.4130\n",
      "Epoch 9/20\n",
      "\u001b[1m85/85\u001b[0m \u001b[32m━━━━━━━━━━━━━━━━━━━━\u001b[0m\u001b[37m\u001b[0m \u001b[1m22s\u001b[0m 260ms/step - accuracy: 0.5525 - loss: 1.3748 - val_accuracy: 0.5549 - val_loss: 1.4084\n",
      "Epoch 10/20\n",
      "\u001b[1m85/85\u001b[0m \u001b[32m━━━━━━━━━━━━━━━━━━━━\u001b[0m\u001b[37m\u001b[0m \u001b[1m22s\u001b[0m 261ms/step - accuracy: 0.5685 - loss: 1.3384 - val_accuracy: 0.5597 - val_loss: 1.3969\n",
      "Epoch 11/20\n",
      "\u001b[1m85/85\u001b[0m \u001b[32m━━━━━━━━━━━━━━━━━━━━\u001b[0m\u001b[37m\u001b[0m \u001b[1m22s\u001b[0m 260ms/step - accuracy: 0.5796 - loss: 1.3056 - val_accuracy: 0.5588 - val_loss: 1.3789\n",
      "Epoch 12/20\n",
      "\u001b[1m85/85\u001b[0m \u001b[32m━━━━━━━━━━━━━━━━━━━━\u001b[0m\u001b[37m\u001b[0m \u001b[1m22s\u001b[0m 261ms/step - accuracy: 0.5797 - loss: 1.2964 - val_accuracy: 0.5648 - val_loss: 1.3720\n",
      "Epoch 13/20\n",
      "\u001b[1m85/85\u001b[0m \u001b[32m━━━━━━━━━━━━━━━━━━━━\u001b[0m\u001b[37m\u001b[0m \u001b[1m22s\u001b[0m 261ms/step - accuracy: 0.5826 - loss: 1.2771 - val_accuracy: 0.5588 - val_loss: 1.3893\n",
      "Epoch 14/20\n",
      "\u001b[1m85/85\u001b[0m \u001b[32m━━━━━━━━━━━━━━━━━━━━\u001b[0m\u001b[37m\u001b[0m \u001b[1m22s\u001b[0m 258ms/step - accuracy: 0.5972 - loss: 1.2356 - val_accuracy: 0.5528 - val_loss: 1.3775\n",
      "Epoch 15/20\n",
      "\u001b[1m85/85\u001b[0m \u001b[32m━━━━━━━━━━━━━━━━━━━━\u001b[0m\u001b[37m\u001b[0m \u001b[1m22s\u001b[0m 259ms/step - accuracy: 0.6026 - loss: 1.2158 - val_accuracy: 0.5588 - val_loss: 1.3938\n",
      "Epoch 16/20\n",
      "\u001b[1m85/85\u001b[0m \u001b[32m━━━━━━━━━━━━━━━━━━━━\u001b[0m\u001b[37m\u001b[0m \u001b[1m22s\u001b[0m 259ms/step - accuracy: 0.6149 - loss: 1.1993 - val_accuracy: 0.5588 - val_loss: 1.3816\n",
      "Epoch 17/20\n",
      "\u001b[1m85/85\u001b[0m \u001b[32m━━━━━━━━━━━━━━━━━━━━\u001b[0m\u001b[37m\u001b[0m \u001b[1m22s\u001b[0m 259ms/step - accuracy: 0.6058 - loss: 1.2081 - val_accuracy: 0.5562 - val_loss: 1.3756\n",
      "Epoch 18/20\n",
      "\u001b[1m85/85\u001b[0m \u001b[32m━━━━━━━━━━━━━━━━━━━━\u001b[0m\u001b[37m\u001b[0m \u001b[1m22s\u001b[0m 260ms/step - accuracy: 0.6167 - loss: 1.1731 - val_accuracy: 0.5674 - val_loss: 1.3576\n",
      "Epoch 19/20\n",
      "\u001b[1m85/85\u001b[0m \u001b[32m━━━━━━━━━━━━━━━━━━━━\u001b[0m\u001b[37m\u001b[0m \u001b[1m22s\u001b[0m 259ms/step - accuracy: 0.6258 - loss: 1.1586 - val_accuracy: 0.5678 - val_loss: 1.3633\n",
      "Epoch 20/20\n",
      "\u001b[1m85/85\u001b[0m \u001b[32m━━━━━━━━━━━━━━━━━━━━\u001b[0m\u001b[37m\u001b[0m \u001b[1m22s\u001b[0m 259ms/step - accuracy: 0.6220 - loss: 1.1572 - val_accuracy: 0.5670 - val_loss: 1.3509\n"
     ]
    }
   ],
   "source": [
    "history = model.fit(\n",
    "    train_datasets[level],\n",
    "    epochs=epochs,\n",
    "    validation_data=val_datasets[level],\n",
    "    verbose=1,\n",
    ")"
   ]
  },
  {
   "cell_type": "code",
   "execution_count": 29,
   "metadata": {},
   "outputs": [
    {
     "data": {
      "image/png": "[encoded data removed]",
      "text/plain": [
       "<Figure size 1400x500 with 2 Axes>"
      ]
     },
     "metadata": {},
     "output_type": "display_data"
    }
   ],
   "source": [
    "import matplotlib.pyplot as plt\n",
    "\n",
    "def plot_training_history(history):\n",
    "    \"\"\"\n",
    "    Plots the training and validation accuracy and loss from a Keras History object.\n",
    "    \n",
    "    Parameters:\n",
    "    -----------\n",
    "    history : keras.callbacks.History\n",
    "        The History object returned by model.fit().\n",
    "    \"\"\"\n",
    "    # Retrieve metrics from the history object\n",
    "    acc      = history.history.get('accuracy', [])\n",
    "    val_acc  = history.history.get('val_accuracy', [])\n",
    "    loss     = history.history.get('loss', [])\n",
    "    val_loss = history.history.get('val_loss', [])\n",
    "    \n",
    "    epochs = range(1, len(loss) + 1)\n",
    "    \n",
    "    # Create subplots for loss and accuracy\n",
    "    plt.figure(figsize=(14, 5))\n",
    "    \n",
    "    # Plot loss\n",
    "    plt.subplot(1, 2, 1)\n",
    "    plt.plot(epochs, loss, 'bo-', label='Training Loss')\n",
    "    if val_loss:\n",
    "        plt.plot(epochs, val_loss, 'ro-', label='Validation Loss')\n",
    "    plt.title('Training and Validation Loss')\n",
    "    plt.xlabel('Epochs')\n",
    "    plt.ylabel('Loss')\n",
    "    plt.legend()\n",
    "    \n",
    "    # Plot accuracy\n",
    "    plt.subplot(1, 2, 2)\n",
    "    plt.plot(epochs, acc, 'bo-', label='Training Accuracy')\n",
    "    if val_acc:\n",
    "        plt.plot(epochs, val_acc, 'ro-', label='Validation Accuracy')\n",
    "    plt.title('Training and Validation Accuracy')\n",
    "    plt.xlabel('Epochs')\n",
    "    plt.ylabel('Accuracy')\n",
    "    plt.legend()\n",
    "    \n",
    "    plt.show()\n",
    "\n",
    "# Example usage:\n",
    "plot_training_history(history)\n"
   ]
  },
  {
   "cell_type": "code",
   "execution_count": 15,
   "metadata": {},
   "outputs": [],
   "source": [
    "test_ds = tools.tensorflow_dataset(\n",
    "    test_df,\n",
    "    batch_size=128,\n",
    "    image_size=(224, 224),\n",
    ")\n",
    "\n",
    "test_ds_sp = test_ds.map(lambda image, labels: (image, labels['species']))"
   ]
  },
  {
   "cell_type": "code",
   "execution_count": null,
   "metadata": {},
   "outputs": [],
   "source": [
    "# Specialist Based Model\n",
    "def specialist(backbone, preprocess, input_shape, output_units, augmentation=None):\n",
    "\n",
    "    inputs = layers.Input(shape=input_shape, name='input_layer')\n",
    "    x = augmentation(inputs) if augmentation else inputs\n",
    "    x = preprocess(x)\n",
    "    \n",
    "    \n",
    "    # Family Specialist\n",
    "    fam_features = backbone(x, training=False)\n",
    "    fam_features = layers.GlobalAveragePooling2D()(fam_features)\n",
    "    fam_hidden = dense_block(fam_features, 1024, 0.3, 'family_hidden')\n",
    "    family_output = layers.Dense(output_units[0], activation='softmax', name='family')(fam_hidden)\n",
    "    \n",
    "    # Genus Specialist\n",
    "    genus_features = backbone(x, training=False)\n",
    "    genus_features = layers.GlobalAveragePooling2D()(genus_features)\n",
    "    genus_hidden = dense_block(genus_features, 512, 0.3, 'genus_hidden')\n",
    "    genus_output = layers.Dense(output_units[1], activation='softmax', name='genus')(genus_hidden)\n",
    "    \n",
    "    # Species Specialist\n",
    "    species_features = backbone(x, training=False)\n",
    "    species_features = layers.GlobalAveragePooling2D()(species_features)\n",
    "    species_hidden = dense_block(species_features, 512, 0.3, 'species_hidden')\n",
    "    species_output = layers.Dense(output_units[2], activation='softmax', name='species')(species_hidden)\n",
    "    \n",
    "    model = tf.keras.Model(\n",
    "        inputs,\n",
    "        [family_output, genus_output, species_output],\n",
    "        name='Specialist'\n",
    "    )\n",
    "    \n",
    "    return model\n",
    "    "
   ]
  }
 ],
 "metadata": {
  "kernelspec": {
   "display_name": "cvenv",
   "language": "python",
   "name": "python3"
  },
  "language_info": {
   "codemirror_mode": {
    "name": "ipython",
    "version": 3
   },
   "file_extension": ".py",
   "mimetype": "text/x-python",
   "name": "python",
   "nbconvert_exporter": "python",
   "pygments_lexer": "ipython3",
   "version": "3.10.14"
  }
 },
 "nbformat": 4,
 "nbformat_minor": 2
}

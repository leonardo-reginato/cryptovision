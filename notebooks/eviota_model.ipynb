{
 "cells": [
  {
   "cell_type": "code",
   "execution_count": 1,
   "metadata": {},
   "outputs": [
    {
     "name": "stderr",
     "output_type": "stream",
     "text": [
      "\u001b[32m2025-02-08 18:07:49.237\u001b[0m | \u001b[1mINFO    \u001b[0m | \u001b[36mcryptovision.config\u001b[0m:\u001b[36m<module>\u001b[0m:\u001b[36m15\u001b[0m - \u001b[1mPROJ_ROOT path is: /Users/leonardo/Documents/Projects/cryptovision\u001b[0m\n"
     ]
    }
   ],
   "source": [
    "import os\n",
    "import numpy as np\n",
    "import pandas as pd\n",
    "import tensorflow as tf\n",
    "import matplotlib.pyplot as plt\n",
    "import tensorflow.keras.applications as keras_apps\n",
    "import cryptovision.tools as tools\n",
    "from tensorflow.keras import layers"
   ]
  },
  {
   "cell_type": "code",
   "execution_count": 16,
   "metadata": {},
   "outputs": [],
   "source": [
    "df = pd.read_csv(\n",
    "    '/Volumes/T7_shield/CryptoVision/Data/Images/Datasets/v3.0.0/image_catalog_clean.csv'\n",
    ")\n",
    "\n",
    "SEED = 42\n",
    "image_size = (128, 128)\n",
    "level = 'species'\n",
    "epochs = 20\n",
    "\n",
    "def clean_dataframe(df, sample_limit):\n",
    "    # Rmv duplicates\n",
    "    df = df.drop_duplicates(subset='hash', keep='first')\n",
    "\n",
    "    # Rmv Species with less than few images\n",
    "    df = df[df['species'].map(df['species'].value_counts()) > sample_limit]\n",
    "    \n",
    "    df.reset_index(drop=True, inplace=True)\n",
    "    \n",
    "    return df\n",
    "\n",
    "df = clean_dataframe(df, 50)\n",
    "\n",
    "train_df, val_df, test_df = tools.split_dataframe(\n",
    "    df,\n",
    "    test_size=0.15,\n",
    "    val_size=0.15,\n",
    "    stratify_by='folder_label',\n",
    "    random_state=SEED,\n",
    ")\n",
    "\n",
    "train_ds = tools.tensorflow_dataset(\n",
    "    train_df,\n",
    "    batch_size=128,\n",
    "    image_size=(128, 128),\n",
    ")\n",
    "\n",
    "val_ds = tools.tensorflow_dataset(\n",
    "    val_df,\n",
    "    batch_size=128,\n",
    "    image_size=(128, 128),\n",
    ")\n",
    "\n",
    "test_ds = tools.tensorflow_dataset(\n",
    "    test_df,\n",
    "    batch_size=128,\n",
    "    image_size=image_size,\n",
    ")\n",
    "\n",
    "train_datasets = {\n",
    "    'all': train_ds,\n",
    "    'family': train_ds.map(lambda image, labels: (image, labels['family'])),\n",
    "    'genus': train_ds.map(lambda image, labels: (image, labels['genus'])),\n",
    "    'species': train_ds.map(lambda image, labels: (image, labels['species'])),\n",
    "}\n",
    "\n",
    "val_datasets = {\n",
    "    'all': val_ds,\n",
    "    'family': val_ds.map(lambda image, labels: (image, labels['family'])),\n",
    "    'genus': val_ds.map(lambda image, labels: (image, labels['genus'])),\n",
    "    'species': val_ds.map(lambda image, labels: (image, labels['species'])),\n",
    "}\n",
    "\n",
    "test_datasets = {\n",
    "    'all': test_ds,\n",
    "    'family': test_ds.map(lambda image, labels: (image, labels['family'])),\n",
    "    'genus': test_ds.map(lambda image, labels: (image, labels['genus'])),\n",
    "    'species': test_ds.map(lambda image, labels: (image, labels['species'])),\n",
    "}"
   ]
  },
  {
   "cell_type": "code",
   "execution_count": 18,
   "metadata": {},
   "outputs": [
    {
     "data": {
      "text/plain": [
       "species\n",
       "Nemateleotris magnifica          905\n",
       "Pseudocheilinus hexataenia       733\n",
       "Canthigaster solandri            727\n",
       "Istigobius decoratus             702\n",
       "Corythoichthys flavofasciatus    624\n",
       "Chaetodon quadrimaculatus        620\n",
       "Chromis margaritifer             559\n",
       "Pomacanthus maculosus            555\n",
       "Pomacentrus pavo                 523\n",
       "Acanthemblemaria aspera          523\n",
       "Eviota albolineata               473\n",
       "Labroides dimidiatus             421\n",
       "Koumansetta rainfordi            383\n",
       "Eviota melasma                   380\n",
       "Cypho purpurascens               378\n",
       "Paracirrhites arcatus            357\n",
       "Fusigobius neophytus             356\n",
       "Eviota atriventris               350\n",
       "Pomacentrus amboinensis          350\n",
       "Centropyge bispinosa             346\n",
       "Ostorhinchus angustatus          326\n",
       "Doryrhamphus excisus             320\n",
       "Gomphosus varius                 319\n",
       "Cirripectes variolosus           312\n",
       "Apogon maculatus                 302\n",
       "Trimma macrophthalmus            296\n",
       "Centropyge flavissima            279\n",
       "Eques punctatus                  254\n",
       "Halichoeres claudia              247\n",
       "Pseudogramma polyacantha         243\n",
       "Pristiapogon kallopterus         237\n",
       "Ucla xenogrammus                 226\n",
       "Neocirrhites armatus             226\n",
       "Enneanectes matador              216\n",
       "Paragobiodon modestus            212\n",
       "Gobiodon quinquestrigatus        210\n",
       "Priolepis semidoliatus           203\n",
       "Enneapterygius pyramis           203\n",
       "Sebastapistes fowleri            194\n",
       "Apogon binotatus                 193\n",
       "Ecsenius stictus                 191\n",
       "Caracanthus maculatus            191\n",
       "Plesiops coeruleolineatus        187\n",
       "Pseudocheilinus tetrataenia      179\n",
       "Enneapterygius tutuilae          174\n",
       "Enneapterygius ventermaculus     148\n",
       "Gobiodon histrio                 140\n",
       "Caracanthus unipinna             128\n",
       "Ecsenius pulcher                 127\n",
       "Paragobiodon lacunicolus         121\n",
       "Pleurosicya labiata              118\n",
       "Enchelyurus ater                 104\n",
       "Fowleria vaiulae                  98\n",
       "Limnichthys nitidus               96\n",
       "Scorpaenodes kelloggi             93\n",
       "Helcogramma fuscopinna            71\n",
       "Aioliops megastigma               63\n",
       "Name: count, dtype: int64"
      ]
     },
     "execution_count": 18,
     "metadata": {},
     "output_type": "execute_result"
    }
   ],
   "source": [
    "df_v1 = pd.read_csv(\n",
    "    '/Volumes/T7_shield/CryptoVision/Data/Images/Datasets/v1.0.0/images_catalog.csv'\n",
    ")\n",
    "\n",
    "v1_sp_list = df_v1['species'].unique()\n",
    "\n",
    "v3_sp_list = df['species'].unique()\n",
    "\n",
    "df[df['species'].isin(v1_sp_list)]['species'].value_counts()"
   ]
  },
  {
   "cell_type": "code",
   "execution_count": 3,
   "metadata": {},
   "outputs": [
    {
     "name": "stdout",
     "output_type": "stream",
     "text": [
      "Train size: 19156 | Validation size: 4106 | Test size: 4106\n",
      "Classes sizes - Fam: 21 | Gen: 56 | Spe: 104\n"
     ]
    }
   ],
   "source": [
    "print(f\"Train size: {len(train_df)} | Validation size: {len(val_df)} | Test size: {len(test_df)}\")\n",
    "print(f\"Classes sizes - Fam: {df['family'].nunique()} | Gen: {df['genus'].nunique()} | Spe: {df['species'].nunique()}\")"
   ]
  },
  {
   "cell_type": "code",
   "execution_count": 4,
   "metadata": {},
   "outputs": [
    {
     "data": {
      "text/html": [
       "<pre style=\"white-space:pre;overflow-x:auto;line-height:normal;font-family:Menlo,'DejaVu Sans Mono',consolas,'Courier New',monospace\"><span style=\"font-weight: bold\">Model: \"LevelModel_species\"</span>\n",
       "</pre>\n"
      ],
      "text/plain": [
       "\u001b[1mModel: \"LevelModel_species\"\u001b[0m\n"
      ]
     },
     "metadata": {},
     "output_type": "display_data"
    },
    {
     "data": {
      "text/html": [
       "<pre style=\"white-space:pre;overflow-x:auto;line-height:normal;font-family:Menlo,'DejaVu Sans Mono',consolas,'Courier New',monospace\">┏━━━━━━━━━━━━━━━━━━━━━━━━━━━━━━━━━┳━━━━━━━━━━━━━━━━━━━━━━━━┳━━━━━━━━━━━━━━━┓\n",
       "┃<span style=\"font-weight: bold\"> Layer (type)                    </span>┃<span style=\"font-weight: bold\"> Output Shape           </span>┃<span style=\"font-weight: bold\">       Param # </span>┃\n",
       "┡━━━━━━━━━━━━━━━━━━━━━━━━━━━━━━━━━╇━━━━━━━━━━━━━━━━━━━━━━━━╇━━━━━━━━━━━━━━━┩\n",
       "│ input_layer (<span style=\"color: #0087ff; text-decoration-color: #0087ff\">InputLayer</span>)        │ (<span style=\"color: #00d7ff; text-decoration-color: #00d7ff\">None</span>, <span style=\"color: #00af00; text-decoration-color: #00af00\">128</span>, <span style=\"color: #00af00; text-decoration-color: #00af00\">128</span>, <span style=\"color: #00af00; text-decoration-color: #00af00\">3</span>)    │             <span style=\"color: #00af00; text-decoration-color: #00af00\">0</span> │\n",
       "├─────────────────────────────────┼────────────────────────┼───────────────┤\n",
       "│ cast_1 (<span style=\"color: #0087ff; text-decoration-color: #0087ff\">Cast</span>)                   │ (<span style=\"color: #00d7ff; text-decoration-color: #00d7ff\">None</span>, <span style=\"color: #00af00; text-decoration-color: #00af00\">128</span>, <span style=\"color: #00af00; text-decoration-color: #00af00\">128</span>, <span style=\"color: #00af00; text-decoration-color: #00af00\">3</span>)    │             <span style=\"color: #00af00; text-decoration-color: #00af00\">0</span> │\n",
       "├─────────────────────────────────┼────────────────────────┼───────────────┤\n",
       "│ augmentation (<span style=\"color: #0087ff; text-decoration-color: #0087ff\">Sequential</span>)       │ (<span style=\"color: #00d7ff; text-decoration-color: #00d7ff\">None</span>, <span style=\"color: #00af00; text-decoration-color: #00af00\">128</span>, <span style=\"color: #00af00; text-decoration-color: #00af00\">128</span>, <span style=\"color: #00af00; text-decoration-color: #00af00\">3</span>)    │             <span style=\"color: #00af00; text-decoration-color: #00af00\">0</span> │\n",
       "├─────────────────────────────────┼────────────────────────┼───────────────┤\n",
       "│ true_divide (<span style=\"color: #0087ff; text-decoration-color: #0087ff\">TrueDivide</span>)        │ (<span style=\"color: #00d7ff; text-decoration-color: #00d7ff\">None</span>, <span style=\"color: #00af00; text-decoration-color: #00af00\">128</span>, <span style=\"color: #00af00; text-decoration-color: #00af00\">128</span>, <span style=\"color: #00af00; text-decoration-color: #00af00\">3</span>)    │             <span style=\"color: #00af00; text-decoration-color: #00af00\">0</span> │\n",
       "├─────────────────────────────────┼────────────────────────┼───────────────┤\n",
       "│ subtract (<span style=\"color: #0087ff; text-decoration-color: #0087ff\">Subtract</span>)             │ (<span style=\"color: #00d7ff; text-decoration-color: #00d7ff\">None</span>, <span style=\"color: #00af00; text-decoration-color: #00af00\">128</span>, <span style=\"color: #00af00; text-decoration-color: #00af00\">128</span>, <span style=\"color: #00af00; text-decoration-color: #00af00\">3</span>)    │             <span style=\"color: #00af00; text-decoration-color: #00af00\">0</span> │\n",
       "├─────────────────────────────────┼────────────────────────┼───────────────┤\n",
       "│ resnet50v2 (<span style=\"color: #0087ff; text-decoration-color: #0087ff\">Functional</span>)         │ (<span style=\"color: #00d7ff; text-decoration-color: #00d7ff\">None</span>, <span style=\"color: #00af00; text-decoration-color: #00af00\">4</span>, <span style=\"color: #00af00; text-decoration-color: #00af00\">4</span>, <span style=\"color: #00af00; text-decoration-color: #00af00\">2048</span>)     │    <span style=\"color: #00af00; text-decoration-color: #00af00\">23,564,800</span> │\n",
       "├─────────────────────────────────┼────────────────────────┼───────────────┤\n",
       "│ GlobAvgPool2D                   │ (<span style=\"color: #00d7ff; text-decoration-color: #00d7ff\">None</span>, <span style=\"color: #00af00; text-decoration-color: #00af00\">2048</span>)           │             <span style=\"color: #00af00; text-decoration-color: #00af00\">0</span> │\n",
       "│ (<span style=\"color: #0087ff; text-decoration-color: #0087ff\">GlobalAveragePooling2D</span>)        │                        │               │\n",
       "├─────────────────────────────────┼────────────────────────┼───────────────┤\n",
       "│ hidden_layer (<span style=\"color: #0087ff; text-decoration-color: #0087ff\">Dense</span>)            │ (<span style=\"color: #00d7ff; text-decoration-color: #00d7ff\">None</span>, <span style=\"color: #00af00; text-decoration-color: #00af00\">1024</span>)           │     <span style=\"color: #00af00; text-decoration-color: #00af00\">2,098,176</span> │\n",
       "├─────────────────────────────────┼────────────────────────┼───────────────┤\n",
       "│ batch_normalization             │ (<span style=\"color: #00d7ff; text-decoration-color: #00d7ff\">None</span>, <span style=\"color: #00af00; text-decoration-color: #00af00\">1024</span>)           │         <span style=\"color: #00af00; text-decoration-color: #00af00\">4,096</span> │\n",
       "│ (<span style=\"color: #0087ff; text-decoration-color: #0087ff\">BatchNormalization</span>)            │                        │               │\n",
       "├─────────────────────────────────┼────────────────────────┼───────────────┤\n",
       "│ activation (<span style=\"color: #0087ff; text-decoration-color: #0087ff\">Activation</span>)         │ (<span style=\"color: #00d7ff; text-decoration-color: #00d7ff\">None</span>, <span style=\"color: #00af00; text-decoration-color: #00af00\">1024</span>)           │             <span style=\"color: #00af00; text-decoration-color: #00af00\">0</span> │\n",
       "├─────────────────────────────────┼────────────────────────┼───────────────┤\n",
       "│ dropout (<span style=\"color: #0087ff; text-decoration-color: #0087ff\">Dropout</span>)               │ (<span style=\"color: #00d7ff; text-decoration-color: #00d7ff\">None</span>, <span style=\"color: #00af00; text-decoration-color: #00af00\">1024</span>)           │             <span style=\"color: #00af00; text-decoration-color: #00af00\">0</span> │\n",
       "├─────────────────────────────────┼────────────────────────┼───────────────┤\n",
       "│ species (<span style=\"color: #0087ff; text-decoration-color: #0087ff\">Dense</span>)                 │ (<span style=\"color: #00d7ff; text-decoration-color: #00d7ff\">None</span>, <span style=\"color: #00af00; text-decoration-color: #00af00\">104</span>)            │       <span style=\"color: #00af00; text-decoration-color: #00af00\">106,600</span> │\n",
       "└─────────────────────────────────┴────────────────────────┴───────────────┘\n",
       "</pre>\n"
      ],
      "text/plain": [
       "┏━━━━━━━━━━━━━━━━━━━━━━━━━━━━━━━━━┳━━━━━━━━━━━━━━━━━━━━━━━━┳━━━━━━━━━━━━━━━┓\n",
       "┃\u001b[1m \u001b[0m\u001b[1mLayer (type)                   \u001b[0m\u001b[1m \u001b[0m┃\u001b[1m \u001b[0m\u001b[1mOutput Shape          \u001b[0m\u001b[1m \u001b[0m┃\u001b[1m \u001b[0m\u001b[1m      Param #\u001b[0m\u001b[1m \u001b[0m┃\n",
       "┡━━━━━━━━━━━━━━━━━━━━━━━━━━━━━━━━━╇━━━━━━━━━━━━━━━━━━━━━━━━╇━━━━━━━━━━━━━━━┩\n",
       "│ input_layer (\u001b[38;5;33mInputLayer\u001b[0m)        │ (\u001b[38;5;45mNone\u001b[0m, \u001b[38;5;34m128\u001b[0m, \u001b[38;5;34m128\u001b[0m, \u001b[38;5;34m3\u001b[0m)    │             \u001b[38;5;34m0\u001b[0m │\n",
       "├─────────────────────────────────┼────────────────────────┼───────────────┤\n",
       "│ cast_1 (\u001b[38;5;33mCast\u001b[0m)                   │ (\u001b[38;5;45mNone\u001b[0m, \u001b[38;5;34m128\u001b[0m, \u001b[38;5;34m128\u001b[0m, \u001b[38;5;34m3\u001b[0m)    │             \u001b[38;5;34m0\u001b[0m │\n",
       "├─────────────────────────────────┼────────────────────────┼───────────────┤\n",
       "│ augmentation (\u001b[38;5;33mSequential\u001b[0m)       │ (\u001b[38;5;45mNone\u001b[0m, \u001b[38;5;34m128\u001b[0m, \u001b[38;5;34m128\u001b[0m, \u001b[38;5;34m3\u001b[0m)    │             \u001b[38;5;34m0\u001b[0m │\n",
       "├─────────────────────────────────┼────────────────────────┼───────────────┤\n",
       "│ true_divide (\u001b[38;5;33mTrueDivide\u001b[0m)        │ (\u001b[38;5;45mNone\u001b[0m, \u001b[38;5;34m128\u001b[0m, \u001b[38;5;34m128\u001b[0m, \u001b[38;5;34m3\u001b[0m)    │             \u001b[38;5;34m0\u001b[0m │\n",
       "├─────────────────────────────────┼────────────────────────┼───────────────┤\n",
       "│ subtract (\u001b[38;5;33mSubtract\u001b[0m)             │ (\u001b[38;5;45mNone\u001b[0m, \u001b[38;5;34m128\u001b[0m, \u001b[38;5;34m128\u001b[0m, \u001b[38;5;34m3\u001b[0m)    │             \u001b[38;5;34m0\u001b[0m │\n",
       "├─────────────────────────────────┼────────────────────────┼───────────────┤\n",
       "│ resnet50v2 (\u001b[38;5;33mFunctional\u001b[0m)         │ (\u001b[38;5;45mNone\u001b[0m, \u001b[38;5;34m4\u001b[0m, \u001b[38;5;34m4\u001b[0m, \u001b[38;5;34m2048\u001b[0m)     │    \u001b[38;5;34m23,564,800\u001b[0m │\n",
       "├─────────────────────────────────┼────────────────────────┼───────────────┤\n",
       "│ GlobAvgPool2D                   │ (\u001b[38;5;45mNone\u001b[0m, \u001b[38;5;34m2048\u001b[0m)           │             \u001b[38;5;34m0\u001b[0m │\n",
       "│ (\u001b[38;5;33mGlobalAveragePooling2D\u001b[0m)        │                        │               │\n",
       "├─────────────────────────────────┼────────────────────────┼───────────────┤\n",
       "│ hidden_layer (\u001b[38;5;33mDense\u001b[0m)            │ (\u001b[38;5;45mNone\u001b[0m, \u001b[38;5;34m1024\u001b[0m)           │     \u001b[38;5;34m2,098,176\u001b[0m │\n",
       "├─────────────────────────────────┼────────────────────────┼───────────────┤\n",
       "│ batch_normalization             │ (\u001b[38;5;45mNone\u001b[0m, \u001b[38;5;34m1024\u001b[0m)           │         \u001b[38;5;34m4,096\u001b[0m │\n",
       "│ (\u001b[38;5;33mBatchNormalization\u001b[0m)            │                        │               │\n",
       "├─────────────────────────────────┼────────────────────────┼───────────────┤\n",
       "│ activation (\u001b[38;5;33mActivation\u001b[0m)         │ (\u001b[38;5;45mNone\u001b[0m, \u001b[38;5;34m1024\u001b[0m)           │             \u001b[38;5;34m0\u001b[0m │\n",
       "├─────────────────────────────────┼────────────────────────┼───────────────┤\n",
       "│ dropout (\u001b[38;5;33mDropout\u001b[0m)               │ (\u001b[38;5;45mNone\u001b[0m, \u001b[38;5;34m1024\u001b[0m)           │             \u001b[38;5;34m0\u001b[0m │\n",
       "├─────────────────────────────────┼────────────────────────┼───────────────┤\n",
       "│ species (\u001b[38;5;33mDense\u001b[0m)                 │ (\u001b[38;5;45mNone\u001b[0m, \u001b[38;5;34m104\u001b[0m)            │       \u001b[38;5;34m106,600\u001b[0m │\n",
       "└─────────────────────────────────┴────────────────────────┴───────────────┘\n"
      ]
     },
     "metadata": {},
     "output_type": "display_data"
    },
    {
     "data": {
      "text/html": [
       "<pre style=\"white-space:pre;overflow-x:auto;line-height:normal;font-family:Menlo,'DejaVu Sans Mono',consolas,'Courier New',monospace\"><span style=\"font-weight: bold\"> Total params: </span><span style=\"color: #00af00; text-decoration-color: #00af00\">25,773,672</span> (98.32 MB)\n",
       "</pre>\n"
      ],
      "text/plain": [
       "\u001b[1m Total params: \u001b[0m\u001b[38;5;34m25,773,672\u001b[0m (98.32 MB)\n"
      ]
     },
     "metadata": {},
     "output_type": "display_data"
    },
    {
     "data": {
      "text/html": [
       "<pre style=\"white-space:pre;overflow-x:auto;line-height:normal;font-family:Menlo,'DejaVu Sans Mono',consolas,'Courier New',monospace\"><span style=\"font-weight: bold\"> Trainable params: </span><span style=\"color: #00af00; text-decoration-color: #00af00\">2,206,824</span> (8.42 MB)\n",
       "</pre>\n"
      ],
      "text/plain": [
       "\u001b[1m Trainable params: \u001b[0m\u001b[38;5;34m2,206,824\u001b[0m (8.42 MB)\n"
      ]
     },
     "metadata": {},
     "output_type": "display_data"
    },
    {
     "data": {
      "text/html": [
       "<pre style=\"white-space:pre;overflow-x:auto;line-height:normal;font-family:Menlo,'DejaVu Sans Mono',consolas,'Courier New',monospace\"><span style=\"font-weight: bold\"> Non-trainable params: </span><span style=\"color: #00af00; text-decoration-color: #00af00\">23,566,848</span> (89.90 MB)\n",
       "</pre>\n"
      ],
      "text/plain": [
       "\u001b[1m Non-trainable params: \u001b[0m\u001b[38;5;34m23,566,848\u001b[0m (89.90 MB)\n"
      ]
     },
     "metadata": {},
     "output_type": "display_data"
    }
   ],
   "source": [
    "# Build Model\n",
    "\n",
    "# Augmentation\n",
    "augmentation = tf.keras.Sequential(\n",
    "    [\n",
    "        layers.RandomFlip(\"horizontal\", seed=SEED),\n",
    "        layers.RandomRotation(0.1, seed=SEED),\n",
    "        layers.RandomZoom(height_factor=(0.05, 0.1), width_factor=(0.05, 0.1), seed=SEED),  # Wider zoom range\n",
    "        layers.RandomContrast(0.2, seed=SEED),\n",
    "        layers.RandomBrightness(0.2, seed=SEED),\n",
    "        layers.RandomTranslation(0.1, 0.1, seed=SEED),\n",
    "        layers.RandomCrop(image_size[0], image_size[1], seed=SEED),\n",
    "        layers.GaussianNoise(0.1, seed=SEED),\n",
    "    ],\n",
    "    name='augmentation'\n",
    ")\n",
    "\n",
    "\n",
    "# Pre-trained Model\n",
    "pretrain = keras_apps.ResNet50V2(include_top=False, weights='imagenet', input_shape=(image_size[0], image_size[1], 3))\n",
    "pretrain.trainable = False\n",
    "\n",
    "def pretrain_model(backbone, preprocess, input_shape=(224, 224, 3), name=None, augmentation=None):\n",
    "    \n",
    "    inputs = layers.Input(shape=input_shape, name='input_layer')\n",
    "    x = augmentation(inputs) if augmentation else inputs\n",
    "    x = preprocess(x)\n",
    "    x = backbone(x, training=False)\n",
    "    \n",
    "    return tf.keras.Model(inputs, x, name=name)\n",
    "\n",
    "def dense_block(input_layer, name:str, units:int, dropout:float, activation:str='relu', norm:bool=True):\n",
    "    \n",
    "    x = layers.Dense(units, name=name)(input_layer)\n",
    "    if norm:\n",
    "        x = layers.BatchNormalization()(x)\n",
    "    x = layers.Activation(activation)(x)\n",
    "    x = layers.Dropout(dropout)(x)\n",
    "    return x\n",
    "\n",
    "feature_extractor = pretrain_model(\n",
    "    pretrain, \n",
    "    keras_apps.resnet_v2.preprocess_input, \n",
    "    input_shape=(image_size[0], image_size[1], 3), \n",
    "    name='feature_extractor',\n",
    "    augmentation=augmentation\n",
    ")\n",
    "\n",
    "# Eviota Model\n",
    "features = layers.GlobalAveragePooling2D(name='GlobAvgPool2D')(feature_extractor.output)\n",
    "hidden_layer = dense_block(features, 'hidden_layer', 1024, 0.2)\n",
    "\n",
    "# Species Output\n",
    "species_output = layers.Dense(df[level].nunique(), activation='softmax', name='species')(hidden_layer)\n",
    "\n",
    "model = tf.keras.Model(\n",
    "    feature_extractor.input,\n",
    "    species_output,\n",
    "    name='LevelModel_' + level\n",
    ")\n",
    "\n",
    "model.summary()"
   ]
  },
  {
   "cell_type": "code",
   "execution_count": 5,
   "metadata": {},
   "outputs": [],
   "source": [
    "model.compile(\n",
    "    optimizer=tf.keras.optimizers.Adam(learning_rate=1e-4),\n",
    "    loss=tf.keras.losses.CategoricalCrossentropy(),\n",
    "    metrics=[\"accuracy\"],\n",
    ")"
   ]
  },
  {
   "cell_type": "code",
   "execution_count": 6,
   "metadata": {},
   "outputs": [
    {
     "name": "stdout",
     "output_type": "stream",
     "text": [
      "Epoch 1/20\n"
     ]
    },
    {
     "name": "stderr",
     "output_type": "stream",
     "text": [
      "2025-02-08 18:07:53.650520: I tensorflow/core/grappler/optimizers/custom_graph_optimizer_registry.cc:117] Plugin optimizer for device_type GPU is enabled.\n",
      "2025-02-08 18:08:05.988741: I tensorflow/core/kernels/data/shuffle_dataset_op.cc:450] ShuffleDatasetV3:5: Filling up shuffle buffer (this may take a while): 25 of 19156\n",
      "2025-02-08 18:08:16.168120: I tensorflow/core/kernels/data/shuffle_dataset_op.cc:450] ShuffleDatasetV3:5: Filling up shuffle buffer (this may take a while): 50 of 19156\n",
      "2025-02-08 18:08:35.907046: I tensorflow/core/kernels/data/shuffle_dataset_op.cc:450] ShuffleDatasetV3:5: Filling up shuffle buffer (this may take a while): 105 of 19156\n",
      "2025-02-08 18:08:45.923707: I tensorflow/core/kernels/data/shuffle_dataset_op.cc:450] ShuffleDatasetV3:5: Filling up shuffle buffer (this may take a while): 133 of 19156\n",
      "2025-02-08 18:08:51.774785: I tensorflow/core/kernels/data/shuffle_dataset_op.cc:480] Shuffle buffer filled.\n"
     ]
    },
    {
     "name": "stdout",
     "output_type": "stream",
     "text": [
      "\u001b[1m150/150\u001b[0m \u001b[32m━━━━━━━━━━━━━━━━━━━━\u001b[0m\u001b[37m\u001b[0m \u001b[1m0s\u001b[0m 224ms/step - accuracy: 0.0910 - loss: 4.4842"
     ]
    },
    {
     "name": "stderr",
     "output_type": "stream",
     "text": [
      "2025-02-08 18:09:37.238229: I tensorflow/core/kernels/data/shuffle_dataset_op.cc:450] ShuffleDatasetV3:11: Filling up shuffle buffer (this may take a while): 26 of 4106\n",
      "2025-02-08 18:09:39.461788: I tensorflow/core/kernels/data/shuffle_dataset_op.cc:480] Shuffle buffer filled.\n"
     ]
    },
    {
     "name": "stdout",
     "output_type": "stream",
     "text": [
      "\u001b[1m150/150\u001b[0m \u001b[32m━━━━━━━━━━━━━━━━━━━━\u001b[0m\u001b[37m\u001b[0m \u001b[1m115s\u001b[0m 360ms/step - accuracy: 0.0915 - loss: 4.4802 - val_accuracy: 0.3412 - val_loss: 2.8954\n",
      "Epoch 2/20\n",
      "\u001b[1m150/150\u001b[0m \u001b[32m━━━━━━━━━━━━━━━━━━━━\u001b[0m\u001b[37m\u001b[0m \u001b[1m39s\u001b[0m 262ms/step - accuracy: 0.3382 - loss: 2.9242 - val_accuracy: 0.4277 - val_loss: 2.4020\n",
      "Epoch 3/20\n",
      "\u001b[1m150/150\u001b[0m \u001b[32m━━━━━━━━━━━━━━━━━━━━\u001b[0m\u001b[37m\u001b[0m \u001b[1m40s\u001b[0m 268ms/step - accuracy: 0.4053 - loss: 2.5254 - val_accuracy: 0.4586 - val_loss: 2.2076\n",
      "Epoch 4/20\n",
      "\u001b[1m150/150\u001b[0m \u001b[32m━━━━━━━━━━━━━━━━━━━━\u001b[0m\u001b[37m\u001b[0m \u001b[1m40s\u001b[0m 267ms/step - accuracy: 0.4481 - loss: 2.3069 - val_accuracy: 0.4800 - val_loss: 2.0827\n",
      "Epoch 5/20\n",
      "\u001b[1m150/150\u001b[0m \u001b[32m━━━━━━━━━━━━━━━━━━━━\u001b[0m\u001b[37m\u001b[0m \u001b[1m40s\u001b[0m 267ms/step - accuracy: 0.4779 - loss: 2.1324 - val_accuracy: 0.4988 - val_loss: 1.9911\n",
      "Epoch 6/20\n",
      "\u001b[1m150/150\u001b[0m \u001b[32m━━━━━━━━━━━━━━━━━━━━\u001b[0m\u001b[37m\u001b[0m \u001b[1m40s\u001b[0m 269ms/step - accuracy: 0.4935 - loss: 2.0435 - val_accuracy: 0.5080 - val_loss: 1.9263\n",
      "Epoch 7/20\n",
      "\u001b[1m150/150\u001b[0m \u001b[32m━━━━━━━━━━━━━━━━━━━━\u001b[0m\u001b[37m\u001b[0m \u001b[1m41s\u001b[0m 272ms/step - accuracy: 0.5105 - loss: 1.9497 - val_accuracy: 0.5192 - val_loss: 1.8733\n",
      "Epoch 8/20\n",
      "\u001b[1m150/150\u001b[0m \u001b[32m━━━━━━━━━━━━━━━━━━━━\u001b[0m\u001b[37m\u001b[0m \u001b[1m39s\u001b[0m 263ms/step - accuracy: 0.5400 - loss: 1.8619 - val_accuracy: 0.5317 - val_loss: 1.8300\n",
      "Epoch 9/20\n",
      "\u001b[1m150/150\u001b[0m \u001b[32m━━━━━━━━━━━━━━━━━━━━\u001b[0m\u001b[37m\u001b[0m \u001b[1m40s\u001b[0m 268ms/step - accuracy: 0.5430 - loss: 1.8024 - val_accuracy: 0.5373 - val_loss: 1.8003\n",
      "Epoch 10/20\n",
      "\u001b[1m150/150\u001b[0m \u001b[32m━━━━━━━━━━━━━━━━━━━━\u001b[0m\u001b[37m\u001b[0m \u001b[1m39s\u001b[0m 258ms/step - accuracy: 0.5541 - loss: 1.7510 - val_accuracy: 0.5368 - val_loss: 1.7750\n",
      "Epoch 11/20\n",
      "\u001b[1m150/150\u001b[0m \u001b[32m━━━━━━━━━━━━━━━━━━━━\u001b[0m\u001b[37m\u001b[0m \u001b[1m40s\u001b[0m 264ms/step - accuracy: 0.5754 - loss: 1.6883 - val_accuracy: 0.5453 - val_loss: 1.7528\n",
      "Epoch 12/20\n",
      "\u001b[1m150/150\u001b[0m \u001b[32m━━━━━━━━━━━━━━━━━━━━\u001b[0m\u001b[37m\u001b[0m \u001b[1m40s\u001b[0m 267ms/step - accuracy: 0.5774 - loss: 1.6413 - val_accuracy: 0.5485 - val_loss: 1.7417\n",
      "Epoch 13/20\n",
      "\u001b[1m150/150\u001b[0m \u001b[32m━━━━━━━━━━━━━━━━━━━━\u001b[0m\u001b[37m\u001b[0m \u001b[1m40s\u001b[0m 270ms/step - accuracy: 0.5919 - loss: 1.5978 - val_accuracy: 0.5511 - val_loss: 1.7230\n",
      "Epoch 14/20\n",
      "\u001b[1m150/150\u001b[0m \u001b[32m━━━━━━━━━━━━━━━━━━━━\u001b[0m\u001b[37m\u001b[0m \u001b[1m39s\u001b[0m 262ms/step - accuracy: 0.5983 - loss: 1.5687 - val_accuracy: 0.5541 - val_loss: 1.7073\n",
      "Epoch 15/20\n",
      "\u001b[1m150/150\u001b[0m \u001b[32m━━━━━━━━━━━━━━━━━━━━\u001b[0m\u001b[37m\u001b[0m \u001b[1m39s\u001b[0m 258ms/step - accuracy: 0.6099 - loss: 1.5195 - val_accuracy: 0.5599 - val_loss: 1.6938\n",
      "Epoch 16/20\n",
      "\u001b[1m150/150\u001b[0m \u001b[32m━━━━━━━━━━━━━━━━━━━━\u001b[0m\u001b[37m\u001b[0m \u001b[1m40s\u001b[0m 265ms/step - accuracy: 0.6043 - loss: 1.5204 - val_accuracy: 0.5609 - val_loss: 1.6765\n",
      "Epoch 17/20\n",
      "\u001b[1m150/150\u001b[0m \u001b[32m━━━━━━━━━━━━━━━━━━━━\u001b[0m\u001b[37m\u001b[0m \u001b[1m38s\u001b[0m 254ms/step - accuracy: 0.6224 - loss: 1.4623 - val_accuracy: 0.5643 - val_loss: 1.6711\n",
      "Epoch 18/20\n",
      "\u001b[1m150/150\u001b[0m \u001b[32m━━━━━━━━━━━━━━━━━━━━\u001b[0m\u001b[37m\u001b[0m \u001b[1m39s\u001b[0m 258ms/step - accuracy: 0.6249 - loss: 1.4344 - val_accuracy: 0.5653 - val_loss: 1.6610\n",
      "Epoch 19/20\n",
      "\u001b[1m150/150\u001b[0m \u001b[32m━━━━━━━━━━━━━━━━━━━━\u001b[0m\u001b[37m\u001b[0m \u001b[1m39s\u001b[0m 261ms/step - accuracy: 0.6366 - loss: 1.3910 - val_accuracy: 0.5731 - val_loss: 1.6525\n",
      "Epoch 20/20\n",
      "\u001b[1m150/150\u001b[0m \u001b[32m━━━━━━━━━━━━━━━━━━━━\u001b[0m\u001b[37m\u001b[0m \u001b[1m39s\u001b[0m 258ms/step - accuracy: 0.6351 - loss: 1.3865 - val_accuracy: 0.5765 - val_loss: 1.6363\n"
     ]
    }
   ],
   "source": [
    "history = model.fit(\n",
    "    train_datasets[level],\n",
    "    epochs=epochs,\n",
    "    validation_data=val_datasets[level],\n",
    "    verbose=1,\n",
    ")"
   ]
  },
  {
   "cell_type": "code",
   "execution_count": 7,
   "metadata": {},
   "outputs": [
    {
     "data": {
      "image/png": "[encoded data removed]",
      "text/plain": [
       "<Figure size 1400x500 with 2 Axes>"
      ]
     },
     "metadata": {},
     "output_type": "display_data"
    }
   ],
   "source": [
    "import matplotlib.pyplot as plt\n",
    "\n",
    "def plot_training_history(history):\n",
    "    \"\"\"\n",
    "    Plots the training and validation accuracy and loss from a Keras History object.\n",
    "    \n",
    "    Parameters:\n",
    "    -----------\n",
    "    history : keras.callbacks.History\n",
    "        The History object returned by model.fit().\n",
    "    \"\"\"\n",
    "    # Retrieve metrics from the history object\n",
    "    acc      = history.history.get('accuracy', [])\n",
    "    val_acc  = history.history.get('val_accuracy', [])\n",
    "    loss     = history.history.get('loss', [])\n",
    "    val_loss = history.history.get('val_loss', [])\n",
    "    \n",
    "    epochs = range(1, len(loss) + 1)\n",
    "    \n",
    "    # Create subplots for loss and accuracy\n",
    "    plt.figure(figsize=(14, 5))\n",
    "    \n",
    "    # Plot loss\n",
    "    plt.subplot(1, 2, 1)\n",
    "    plt.plot(epochs, loss, 'bo-', label='Training Loss')\n",
    "    if val_loss:\n",
    "        plt.plot(epochs, val_loss, 'ro-', label='Validation Loss')\n",
    "    plt.title('Training and Validation Loss')\n",
    "    plt.xlabel('Epochs')\n",
    "    plt.ylabel('Loss')\n",
    "    plt.legend()\n",
    "    \n",
    "    # Plot accuracy\n",
    "    plt.subplot(1, 2, 2)\n",
    "    plt.plot(epochs, acc, 'bo-', label='Training Accuracy')\n",
    "    if val_acc:\n",
    "        plt.plot(epochs, val_acc, 'ro-', label='Validation Accuracy')\n",
    "    plt.title('Training and Validation Accuracy')\n",
    "    plt.xlabel('Epochs')\n",
    "    plt.ylabel('Accuracy')\n",
    "    plt.legend()\n",
    "    \n",
    "    plt.show()\n",
    "\n",
    "# Example usage:\n",
    "plot_training_history(history)\n"
   ]
  },
  {
   "cell_type": "code",
   "execution_count": 15,
   "metadata": {},
   "outputs": [],
   "source": [
    "test_ds = tools.tensorflow_dataset(\n",
    "    test_df,\n",
    "    batch_size=128,\n",
    "    image_size=(224, 224),\n",
    ")\n",
    "\n",
    "test_ds_sp = test_ds.map(lambda image, labels: (image, labels['species']))"
   ]
  },
  {
   "cell_type": "code",
   "execution_count": 16,
   "metadata": {},
   "outputs": [
    {
     "name": "stderr",
     "output_type": "stream",
     "text": [
      "2025-02-08 00:47:18.084735: W tensorflow/core/framework/local_rendezvous.cc:404] Local rendezvous is aborting with status: OUT_OF_RANGE: End of sequence\n"
     ]
    }
   ],
   "source": [
    "import seaborn as sns\n",
    "from sklearn.metrics import confusion_matrix\n",
    "\n",
    "all_true = []\n",
    "all_pred = []\n",
    "all_conf = []\n",
    "\n",
    "#sp_labels = sorted(df_eviota['species'].unique())\n",
    "\n",
    "for batch in test_ds_sp:\n",
    "    images, labels = batch\n",
    "    \n",
    "    true = tf.argmax(labels, axis=1).numpy()\n",
    "    pred = model.predict(images, verbose=0)\n",
    "    \n",
    "    pred = tf.argmax(pred, axis=1)\n",
    "    #conf = tf.reduce_max(pred, axis=1)\n",
    "    \n",
    "    all_true.extend(true)\n",
    "    all_pred.extend(pred)\n",
    "    #all_conf.extend(conf)"
   ]
  }
 ],
 "metadata": {
  "kernelspec": {
   "display_name": "cvenv",
   "language": "python",
   "name": "python3"
  },
  "language_info": {
   "codemirror_mode": {
    "name": "ipython",
    "version": 3
   },
   "file_extension": ".py",
   "mimetype": "text/x-python",
   "name": "python",
   "nbconvert_exporter": "python",
   "pygments_lexer": "ipython3",
   "version": "3.10.14"
  }
 },
 "nbformat": 4,
 "nbformat_minor": 2
}

{
 "cells": [
  {
   "cell_type": "code",
   "execution_count": 3,
   "metadata": {},
   "outputs": [],
   "source": [
    "import pandas as pd\n",
    "from cryptovision.tools import image_directory_to_pandas"
   ]
  },
  {
   "cell_type": "code",
   "execution_count": 4,
   "metadata": {},
   "outputs": [],
   "source": [
    "old_df = image_directory_to_pandas(\n",
    "    '/Volumes/T7_shield/CryptoVision/Data/Images/Datasets/v1.0.0'\n",
    ")\n",
    "\n",
    "names = {\n",
    "        'family': sorted(old_df['family'].unique()),\n",
    "        'genus': sorted(old_df['genus'].unique()),\n",
    "        'species': sorted(old_df['species'].unique()),\n",
    "    }"
   ]
  },
  {
   "cell_type": "code",
   "execution_count": 23,
   "metadata": {},
   "outputs": [],
   "source": [
    "df_lab = image_directory_to_pandas(\n",
    "    '/Volumes/T7_shield/CryptoVision/Data/Images/Sources/Lab/SJB/Processed/Species/v250106'\n",
    ")\n",
    "\n",
    "df_web = image_directory_to_pandas(\n",
    "    '/Volumes/T7_shield/CryptoVision/Data/Images/Sources/Web/Species/v250117'\n",
    ")\n",
    "\n",
    "df_inatlst = image_directory_to_pandas(\n",
    "    '/Volumes/T7_shield/CryptoVision/Data/Images/Sources/Lab/SJB/Processed/Species/v250106'\n",
    ")\n",
    "\n",
    "new_df = pd.concat([df_lab, df_web, df_inatlst], ignore_index=True, axis=0)"
   ]
  },
  {
   "cell_type": "code",
   "execution_count": null,
   "metadata": {},
   "outputs": [],
   "source": []
  },
  {
   "cell_type": "code",
   "execution_count": 6,
   "metadata": {},
   "outputs": [
    {
     "name": "stdout",
     "output_type": "stream",
     "text": [
      "Total images: 15725\n",
      "Unique families: 18\n",
      "Unique genera: 45\n",
      "Unique species: 57\n"
     ]
    }
   ],
   "source": [
    "new_df = new_df[new_df['family'].isin(names['family'])]\n",
    "new_df = new_df[new_df['genus'].isin(names['genus'])]\n",
    "new_df = new_df[new_df['species'].isin(names['species'])]\n",
    "\n",
    "print(f\"Total images: {len(new_df)}\")\n",
    "print(f\"Unique families: {len(new_df['family'].unique())}\")\n",
    "print(f\"Unique genera: {len(new_df['genus'].unique())}\")\n",
    "print(f\"Unique species: {len(new_df['species'].unique())}\")"
   ]
  },
  {
   "cell_type": "code",
   "execution_count": 9,
   "metadata": {},
   "outputs": [
    {
     "data": {
      "text/plain": [
       "19.999999999999996"
      ]
     },
     "execution_count": 9,
     "metadata": {},
     "output_type": "execute_result"
    }
   ],
   "source": [
    "(120/100 - 1) * 100"
   ]
  },
  {
   "cell_type": "code",
   "execution_count": 19,
   "metadata": {},
   "outputs": [
    {
     "name": "stdout",
     "output_type": "stream",
     "text": [
      "\n",
      "Average increase: 116.64%\n",
      "Min increase: -15.47%\n",
      "Max increase: 766.30%\n",
      "STD increase: 147.70%\n",
      "Number of decreases: 4\n",
      "\n",
      "Avg (Max - Min) New Images per Species: 275.88 (797 - 56.00)\n"
     ]
    }
   ],
   "source": [
    "# Compare the number of images in the old and new dataframes by each species\n",
    "inc_percent = []\n",
    "new_counts = []\n",
    "old_counts = []\n",
    "\n",
    "for species in new_df['species'].unique():\n",
    "    old_count = len(old_df[old_df['species'] == species])\n",
    "    new_count = len(new_df[new_df['species'] == species])\n",
    "    \n",
    "    old_counts.append(old_count)\n",
    "    new_counts.append(new_count)\n",
    "    \n",
    "    inc_percent.append((new_count/old_count-1)*100)\n",
    "    #print(f\"{species}: {old_count} -> {new_count} ({(new_count/old_count-1)*100:.2f}% of increase)\")\n",
    "    \n",
    "    \n",
    "print(f\"\\nAverage increase: {sum(inc_percent)/len(inc_percent):.2f}%\")\n",
    "print(f\"Min increase: {min(inc_percent):.2f}%\")\n",
    "print(f\"Max increase: {max(inc_percent):.2f}%\")\n",
    "print(f\"STD increase: {pd.Series(inc_percent).std():.2f}%\")\n",
    "print(f\"Number of decreases: {len([i for i in inc_percent if i < 0])}\")\n",
    "print(f\"\\nAvg (Max - Min) New Images per Species: {sum(new_counts)/len(new_counts):.2f} ({max(new_counts)} - {min(new_counts):.2f})\")"
   ]
  },
  {
   "cell_type": "code",
   "execution_count": 20,
   "metadata": {},
   "outputs": [
    {
     "data": {
      "text/plain": [
       "(9016, 5)"
      ]
     },
     "execution_count": 20,
     "metadata": {},
     "output_type": "execute_result"
    }
   ],
   "source": [
    "old_df.shape"
   ]
  },
  {
   "cell_type": "code",
   "execution_count": 21,
   "metadata": {},
   "outputs": [
    {
     "data": {
      "text/plain": [
       "(15725, 5)"
      ]
     },
     "execution_count": 21,
     "metadata": {},
     "output_type": "execute_result"
    }
   ],
   "source": [
    "new_df.shape"
   ]
  },
  {
   "cell_type": "code",
   "execution_count": 24,
   "metadata": {},
   "outputs": [
    {
     "data": {
      "text/plain": [
       "107"
      ]
     },
     "execution_count": 24,
     "metadata": {},
     "output_type": "execute_result"
    }
   ],
   "source": [
    "new_df['species'].nunique()"
   ]
  },
  {
   "cell_type": "code",
   "execution_count": 1,
   "metadata": {},
   "outputs": [
    {
     "name": "stderr",
     "output_type": "stream",
     "text": [
      "\u001b[32m2025-01-25 12:11:08.023\u001b[0m | \u001b[1mINFO    \u001b[0m | \u001b[36mcryptovision.config\u001b[0m:\u001b[36m<module>\u001b[0m:\u001b[36m15\u001b[0m - \u001b[1mPROJ_ROOT path is: /Users/leonardo/Documents/Projects/cryptovision\u001b[0m\n"
     ]
    },
    {
     "name": "stdout",
     "output_type": "stream",
     "text": [
      "9016\n",
      "57\n",
      "45\n",
      "18\n"
     ]
    }
   ],
   "source": [
    "import pandas as pd\n",
    "from cryptovision.tools import image_directory_to_pandas\n",
    "\n",
    "df_ = image_directory_to_pandas(\n",
    "    '/Volumes/T7_shield/CryptoVision/Data/Images/Datasets/v1.0.0/images'\n",
    ")\n",
    "\n",
    "print(df_.shape[0])\n",
    "print(df_['species'].nunique())\n",
    "print(df_['genus'].nunique())\n",
    "print(df_['family'].nunique())"
   ]
  },
  {
   "cell_type": "code",
   "execution_count": null,
   "metadata": {},
   "outputs": [],
   "source": [
    "'/Volumes/T7_shield/CryptoVision/Data/Images/Sources/Lab/SJB/Processed/Species/v241226/images'"
   ]
  },
  {
   "cell_type": "code",
   "execution_count": 2,
   "metadata": {},
   "outputs": [],
   "source": [
    "df_lab = image_directory_to_pandas(\n",
    "    \"/Volumes/T7_shield/CryptoVision/Data/Images/Sources/Lab/SJB/Processed/Species/v241226\", 'lab')\n",
    "df_web = image_directory_to_pandas(\n",
    "    \"/Volumes/T7_shield/CryptoVision/Data/Images/Sources/Web/Species/v250117\", 'web')\n",
    "df_inatlist = image_directory_to_pandas(\n",
    "    \"/Volumes/T7_shield/CryptoVision/Data/Images/Sources/inaturalist/Species/v250116\", 'inatlist')\n",
    "df_lirs23 = image_directory_to_pandas(\n",
    "    '/Volumes/T7_shield/CryptoVision/Data/Images/Sources/Lab/LIRS23/Processed/Species/v250115/images'\n",
    ")\n",
    "df_cbc24 = image_directory_to_pandas(\n",
    "    '/Volumes/T7_shield/CryptoVision/Data/Images/Sources/Lab/CBC24/Processed/Species/v250115/images'\n",
    ")\n",
    "df_scls = image_directory_to_pandas(\n",
    "    '/Volumes/T7_shield/CryptoVision/Data/Images/Sources/Lab/SCLS/Processed/Species/v250115/images'\n",
    ")\n",
    "\n",
    "df = pd.concat(\n",
    "    [\n",
    "        df_lab, \n",
    "        df_web, \n",
    "        df_inatlist,\n",
    "        df_lirs23,\n",
    "        df_cbc24,\n",
    "        df_scls \n",
    "    ], \n",
    "    ignore_index=True, \n",
    "    axis=0\n",
    ")\n",
    "\n"
   ]
  },
  {
   "cell_type": "code",
   "execution_count": 3,
   "metadata": {},
   "outputs": [
    {
     "name": "stdout",
     "output_type": "stream",
     "text": [
      "32833\n",
      "191\n",
      "81\n",
      "29\n"
     ]
    }
   ],
   "source": [
    "print(df.shape[0])\n",
    "print(df['species'].nunique())\n",
    "print(df['genus'].nunique())\n",
    "print(df['family'].nunique())"
   ]
  },
  {
   "cell_type": "code",
   "execution_count": 4,
   "metadata": {},
   "outputs": [
    {
     "data": {
      "text/plain": [
       "species\n",
       "Nemateleotris magnifica       911\n",
       "Pseudocheilinus hexataenia    793\n",
       "Canthigaster solandri         738\n",
       "Istigobius decoratus          712\n",
       "Chaetodon quadrimaculatus     646\n",
       "                             ... \n",
       "Hetereleotris vulgaris          1\n",
       "Eviota melanophena              1\n",
       "Thalassoma quiquevittatum       1\n",
       "Scorpanoides guamensis          1\n",
       "Callogobius clittellus          1\n",
       "Name: count, Length: 191, dtype: int64"
      ]
     },
     "execution_count": 4,
     "metadata": {},
     "output_type": "execute_result"
    }
   ],
   "source": [
    "df['species'].value_counts()"
   ]
  },
  {
   "cell_type": "code",
   "execution_count": null,
   "metadata": {},
   "outputs": [],
   "source": []
  }
 ],
 "metadata": {
  "kernelspec": {
   "display_name": "cvenv",
   "language": "python",
   "name": "python3"
  },
  "language_info": {
   "codemirror_mode": {
    "name": "ipython",
    "version": 3
   },
   "file_extension": ".py",
   "mimetype": "text/x-python",
   "name": "python",
   "nbconvert_exporter": "python",
   "pygments_lexer": "ipython3",
   "version": "3.10.14"
  }
 },
 "nbformat": 4,
 "nbformat_minor": 2
}

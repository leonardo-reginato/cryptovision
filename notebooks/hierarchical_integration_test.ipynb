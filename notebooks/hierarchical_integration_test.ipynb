{
 "cells": [
  {
   "cell_type": "code",
   "execution_count": 1,
   "metadata": {},
   "outputs": [
    {
     "name": "stderr",
     "output_type": "stream",
     "text": [
      "\u001b[32m2025-01-08 11:26:18.946\u001b[0m | \u001b[1mINFO    \u001b[0m | \u001b[36mcryptovision.config\u001b[0m:\u001b[36m<module>\u001b[0m:\u001b[36m15\u001b[0m - \u001b[1mPROJ_ROOT path is: /Users/leonardo/Documents/Projects/cryptovision\u001b[0m\n"
     ]
    }
   ],
   "source": [
    "import os\n",
    "import numpy as np\n",
    "import pandas as pd\n",
    "import tensorflow as tf\n",
    "import matplotlib.pyplot as plt\n",
    "\n",
    "from cryptovision.tools import (\n",
    "    image_directory_to_pandas,\n",
    "    split_image_dataframe,\n",
    "    tf_dataset_from_pandas\n",
    ")\n",
    "\n",
    "from tensorflow.keras.applications import ResNet50V2, EfficientNetV2B0                                          # type: ignore\n",
    "from tensorflow.keras.applications.resnet_v2 import preprocess_input as resnet_preprocess                       # type: ignore\n",
    "from tensorflow.keras.applications.efficientnet_v2 import preprocess_input as efficientnet_preprocess           # type: ignore\n",
    "from tensorflow.keras.layers import (                                                                           # type: ignore    \n",
    "    Input, RandomFlip, RandomRotation, RandomZoom, \n",
    "    RandomTranslation, RandomContrast, RandomBrightness,\n",
    "    GlobalAveragePooling2D, Dense, BatchNormalization, Activation,\n",
    "    Concatenate, Dropout, LeakyReLU\n",
    ") \n",
    "\n",
    "# Enable mixed precision for Apple Silicon\n",
    "tf.keras.mixed_precision.set_global_policy('mixed_float16')"
   ]
  },
  {
   "cell_type": "code",
   "execution_count": 11,
   "metadata": {},
   "outputs": [],
   "source": [
    "# Dataset\n",
    "class_samples_threshold = 99\n",
    "test_size = .15\n",
    "validation_size = .15\n",
    "batch_size = 128\n",
    "\n",
    "# Training\n",
    "image_shape = (224, 224, 3)"
   ]
  },
  {
   "cell_type": "code",
   "execution_count": 12,
   "metadata": {},
   "outputs": [],
   "source": [
    "df_lab = image_directory_to_pandas(\"/Users/leonardo/Library/CloudStorage/Box-Box/CryptoVision/Data/fish_functions/Species_v03\")\n",
    "df_web = image_directory_to_pandas(\"/Users/leonardo/Library/CloudStorage/Box-Box/CryptoVision/Data/web/Species_v01\")\n",
    "df_inatlist = image_directory_to_pandas(\"/Users/leonardo/Library/CloudStorage/Box-Box/CryptoVision/Data/inaturalist/Species_v02\")\n",
    "\n",
    "df = pd.concat([df_lab, df_web, df_inatlist], ignore_index=True, axis=0)\n",
    "\n",
    "# find in the species column the values with lass than 50 occurences\n",
    "counts = df['species'].value_counts()\n",
    "df = df[df['species'].isin(counts[counts > class_samples_threshold].index)]\n",
    "\n",
    "train_df, val_df, test_df = split_image_dataframe(df, test_size=0.15, val_size=0.15, stratify_by='folder_label')\n",
    "\n",
    "names = {\n",
    "    'family': sorted(df['family'].unique()),\n",
    "    'genus': sorted(df['genus'].unique()),\n",
    "    'species': sorted(df['species'].unique()),\n",
    "}\n",
    "\n",
    "train_ds, _, _, _ = tf_dataset_from_pandas(train_df, batch_size=128, image_size=image_shape[:2])\n",
    "val_ds, _, _, _ = tf_dataset_from_pandas(val_df, batch_size=128, image_size=image_shape[:2])\n",
    "test_ds, _, _, _ = tf_dataset_from_pandas(test_df, batch_size=128, image_size=image_shape[:2])\n",
    "\n",
    "AUTOTUNE = tf.data.AUTOTUNE\n",
    "\n",
    "train_ds = train_ds.cache().shuffle(1000).prefetch(buffer_size=AUTOTUNE)\n",
    "valid_ds = val_ds.cache().prefetch(buffer_size=AUTOTUNE)"
   ]
  },
  {
   "cell_type": "code",
   "execution_count": 16,
   "metadata": {},
   "outputs": [
    {
     "name": "stderr",
     "output_type": "stream",
     "text": [
      "Epoch 5/5:  34%|███▎      | 31/92 [02:20<04:35,  4.52s/batch, loss=1.2092, family_acc=0.5841, genus_acc=0.5158, species_acc=0.4571]\n",
      "Epoch 1/5:  16%|█▋        | 15/92 [01:06<05:39,  4.41s/batch, loss=2.6278, family_acc=0.0483, genus_acc=0.0163, species_acc=0.0114]\n"
     ]
    },
    {
     "data": {
      "text/html": [
       "<pre style=\"white-space:pre;overflow-x:auto;line-height:normal;font-family:Menlo,'DejaVu Sans Mono',consolas,'Courier New',monospace\"><span style=\"font-weight: bold\">Model: \"CryptoVisionSimple\"</span>\n",
       "</pre>\n"
      ],
      "text/plain": [
       "\u001b[1mModel: \"CryptoVisionSimple\"\u001b[0m\n"
      ]
     },
     "metadata": {},
     "output_type": "display_data"
    },
    {
     "data": {
      "text/html": [
       "<pre style=\"white-space:pre;overflow-x:auto;line-height:normal;font-family:Menlo,'DejaVu Sans Mono',consolas,'Courier New',monospace\">┏━━━━━━━━━━━━━━━━━━━━━┳━━━━━━━━━━━━━━━━━━━┳━━━━━━━━━━━━┳━━━━━━━━━━━━━━━━━━━┓\n",
       "┃<span style=\"font-weight: bold\"> Layer (type)        </span>┃<span style=\"font-weight: bold\"> Output Shape      </span>┃<span style=\"font-weight: bold\">    Param # </span>┃<span style=\"font-weight: bold\"> Connected to      </span>┃\n",
       "┡━━━━━━━━━━━━━━━━━━━━━╇━━━━━━━━━━━━━━━━━━━╇━━━━━━━━━━━━╇━━━━━━━━━━━━━━━━━━━┩\n",
       "│ input (<span style=\"color: #0087ff; text-decoration-color: #0087ff\">InputLayer</span>)  │ (<span style=\"color: #00d7ff; text-decoration-color: #00d7ff\">None</span>, <span style=\"color: #00af00; text-decoration-color: #00af00\">224</span>, <span style=\"color: #00af00; text-decoration-color: #00af00\">224</span>,  │          <span style=\"color: #00af00; text-decoration-color: #00af00\">0</span> │ -                 │\n",
       "│                     │ <span style=\"color: #00af00; text-decoration-color: #00af00\">3</span>)                │            │                   │\n",
       "├─────────────────────┼───────────────────┼────────────┼───────────────────┤\n",
       "│ cast_12 (<span style=\"color: #0087ff; text-decoration-color: #0087ff\">Cast</span>)      │ (<span style=\"color: #00d7ff; text-decoration-color: #00d7ff\">None</span>, <span style=\"color: #00af00; text-decoration-color: #00af00\">224</span>, <span style=\"color: #00af00; text-decoration-color: #00af00\">224</span>,  │          <span style=\"color: #00af00; text-decoration-color: #00af00\">0</span> │ input[<span style=\"color: #00af00; text-decoration-color: #00af00\">0</span>][<span style=\"color: #00af00; text-decoration-color: #00af00\">0</span>]       │\n",
       "│                     │ <span style=\"color: #00af00; text-decoration-color: #00af00\">3</span>)                │            │                   │\n",
       "├─────────────────────┼───────────────────┼────────────┼───────────────────┤\n",
       "│ augmentation        │ (<span style=\"color: #00d7ff; text-decoration-color: #00d7ff\">None</span>, <span style=\"color: #00af00; text-decoration-color: #00af00\">224</span>, <span style=\"color: #00af00; text-decoration-color: #00af00\">224</span>,  │          <span style=\"color: #00af00; text-decoration-color: #00af00\">0</span> │ cast_12[<span style=\"color: #00af00; text-decoration-color: #00af00\">0</span>][<span style=\"color: #00af00; text-decoration-color: #00af00\">0</span>]     │\n",
       "│ (<span style=\"color: #0087ff; text-decoration-color: #0087ff\">Sequential</span>)        │ <span style=\"color: #00af00; text-decoration-color: #00af00\">3</span>)                │            │                   │\n",
       "├─────────────────────┼───────────────────┼────────────┼───────────────────┤\n",
       "│ preprocess (<span style=\"color: #0087ff; text-decoration-color: #0087ff\">Lambda</span>) │ (<span style=\"color: #00d7ff; text-decoration-color: #00d7ff\">None</span>, <span style=\"color: #00af00; text-decoration-color: #00af00\">224</span>, <span style=\"color: #00af00; text-decoration-color: #00af00\">224</span>,  │          <span style=\"color: #00af00; text-decoration-color: #00af00\">0</span> │ augmentation[<span style=\"color: #00af00; text-decoration-color: #00af00\">0</span>][<span style=\"color: #00af00; text-decoration-color: #00af00\">…</span> │\n",
       "│                     │ <span style=\"color: #00af00; text-decoration-color: #00af00\">3</span>)                │            │                   │\n",
       "├─────────────────────┼───────────────────┼────────────┼───────────────────┤\n",
       "│ efficientnetv2-b0   │ (<span style=\"color: #00d7ff; text-decoration-color: #00d7ff\">None</span>, <span style=\"color: #00af00; text-decoration-color: #00af00\">7</span>, <span style=\"color: #00af00; text-decoration-color: #00af00\">7</span>,      │  <span style=\"color: #00af00; text-decoration-color: #00af00\">5,919,312</span> │ preprocess[<span style=\"color: #00af00; text-decoration-color: #00af00\">0</span>][<span style=\"color: #00af00; text-decoration-color: #00af00\">0</span>]  │\n",
       "│ (<span style=\"color: #0087ff; text-decoration-color: #0087ff\">Functional</span>)        │ <span style=\"color: #00af00; text-decoration-color: #00af00\">1280</span>)             │            │                   │\n",
       "├─────────────────────┼───────────────────┼────────────┼───────────────────┤\n",
       "│ GlobAvgPool2D       │ (<span style=\"color: #00d7ff; text-decoration-color: #00d7ff\">None</span>, <span style=\"color: #00af00; text-decoration-color: #00af00\">1280</span>)      │          <span style=\"color: #00af00; text-decoration-color: #00af00\">0</span> │ efficientnetv2-b… │\n",
       "│ (<span style=\"color: #0087ff; text-decoration-color: #0087ff\">GlobalAveragePool…</span> │                   │            │                   │\n",
       "├─────────────────────┼───────────────────┼────────────┼───────────────────┤\n",
       "│ family (<span style=\"color: #0087ff; text-decoration-color: #0087ff\">Dense</span>)      │ (<span style=\"color: #00d7ff; text-decoration-color: #00d7ff\">None</span>, <span style=\"color: #00af00; text-decoration-color: #00af00\">18</span>)        │     <span style=\"color: #00af00; text-decoration-color: #00af00\">23,058</span> │ GlobAvgPool2D[<span style=\"color: #00af00; text-decoration-color: #00af00\">0</span>]… │\n",
       "├─────────────────────┼───────────────────┼────────────┼───────────────────┤\n",
       "│ genus (<span style=\"color: #0087ff; text-decoration-color: #0087ff\">Dense</span>)       │ (<span style=\"color: #00d7ff; text-decoration-color: #00d7ff\">None</span>, <span style=\"color: #00af00; text-decoration-color: #00af00\">43</span>)        │     <span style=\"color: #00af00; text-decoration-color: #00af00\">55,083</span> │ GlobAvgPool2D[<span style=\"color: #00af00; text-decoration-color: #00af00\">0</span>]… │\n",
       "├─────────────────────┼───────────────────┼────────────┼───────────────────┤\n",
       "│ species (<span style=\"color: #0087ff; text-decoration-color: #0087ff\">Dense</span>)     │ (<span style=\"color: #00d7ff; text-decoration-color: #00d7ff\">None</span>, <span style=\"color: #00af00; text-decoration-color: #00af00\">61</span>)        │     <span style=\"color: #00af00; text-decoration-color: #00af00\">78,141</span> │ GlobAvgPool2D[<span style=\"color: #00af00; text-decoration-color: #00af00\">0</span>]… │\n",
       "└─────────────────────┴───────────────────┴────────────┴───────────────────┘\n",
       "</pre>\n"
      ],
      "text/plain": [
       "┏━━━━━━━━━━━━━━━━━━━━━┳━━━━━━━━━━━━━━━━━━━┳━━━━━━━━━━━━┳━━━━━━━━━━━━━━━━━━━┓\n",
       "┃\u001b[1m \u001b[0m\u001b[1mLayer (type)       \u001b[0m\u001b[1m \u001b[0m┃\u001b[1m \u001b[0m\u001b[1mOutput Shape     \u001b[0m\u001b[1m \u001b[0m┃\u001b[1m \u001b[0m\u001b[1m   Param #\u001b[0m\u001b[1m \u001b[0m┃\u001b[1m \u001b[0m\u001b[1mConnected to     \u001b[0m\u001b[1m \u001b[0m┃\n",
       "┡━━━━━━━━━━━━━━━━━━━━━╇━━━━━━━━━━━━━━━━━━━╇━━━━━━━━━━━━╇━━━━━━━━━━━━━━━━━━━┩\n",
       "│ input (\u001b[38;5;33mInputLayer\u001b[0m)  │ (\u001b[38;5;45mNone\u001b[0m, \u001b[38;5;34m224\u001b[0m, \u001b[38;5;34m224\u001b[0m,  │          \u001b[38;5;34m0\u001b[0m │ -                 │\n",
       "│                     │ \u001b[38;5;34m3\u001b[0m)                │            │                   │\n",
       "├─────────────────────┼───────────────────┼────────────┼───────────────────┤\n",
       "│ cast_12 (\u001b[38;5;33mCast\u001b[0m)      │ (\u001b[38;5;45mNone\u001b[0m, \u001b[38;5;34m224\u001b[0m, \u001b[38;5;34m224\u001b[0m,  │          \u001b[38;5;34m0\u001b[0m │ input[\u001b[38;5;34m0\u001b[0m][\u001b[38;5;34m0\u001b[0m]       │\n",
       "│                     │ \u001b[38;5;34m3\u001b[0m)                │            │                   │\n",
       "├─────────────────────┼───────────────────┼────────────┼───────────────────┤\n",
       "│ augmentation        │ (\u001b[38;5;45mNone\u001b[0m, \u001b[38;5;34m224\u001b[0m, \u001b[38;5;34m224\u001b[0m,  │          \u001b[38;5;34m0\u001b[0m │ cast_12[\u001b[38;5;34m0\u001b[0m][\u001b[38;5;34m0\u001b[0m]     │\n",
       "│ (\u001b[38;5;33mSequential\u001b[0m)        │ \u001b[38;5;34m3\u001b[0m)                │            │                   │\n",
       "├─────────────────────┼───────────────────┼────────────┼───────────────────┤\n",
       "│ preprocess (\u001b[38;5;33mLambda\u001b[0m) │ (\u001b[38;5;45mNone\u001b[0m, \u001b[38;5;34m224\u001b[0m, \u001b[38;5;34m224\u001b[0m,  │          \u001b[38;5;34m0\u001b[0m │ augmentation[\u001b[38;5;34m0\u001b[0m][\u001b[38;5;34m…\u001b[0m │\n",
       "│                     │ \u001b[38;5;34m3\u001b[0m)                │            │                   │\n",
       "├─────────────────────┼───────────────────┼────────────┼───────────────────┤\n",
       "│ efficientnetv2-b0   │ (\u001b[38;5;45mNone\u001b[0m, \u001b[38;5;34m7\u001b[0m, \u001b[38;5;34m7\u001b[0m,      │  \u001b[38;5;34m5,919,312\u001b[0m │ preprocess[\u001b[38;5;34m0\u001b[0m][\u001b[38;5;34m0\u001b[0m]  │\n",
       "│ (\u001b[38;5;33mFunctional\u001b[0m)        │ \u001b[38;5;34m1280\u001b[0m)             │            │                   │\n",
       "├─────────────────────┼───────────────────┼────────────┼───────────────────┤\n",
       "│ GlobAvgPool2D       │ (\u001b[38;5;45mNone\u001b[0m, \u001b[38;5;34m1280\u001b[0m)      │          \u001b[38;5;34m0\u001b[0m │ efficientnetv2-b… │\n",
       "│ (\u001b[38;5;33mGlobalAveragePool…\u001b[0m │                   │            │                   │\n",
       "├─────────────────────┼───────────────────┼────────────┼───────────────────┤\n",
       "│ family (\u001b[38;5;33mDense\u001b[0m)      │ (\u001b[38;5;45mNone\u001b[0m, \u001b[38;5;34m18\u001b[0m)        │     \u001b[38;5;34m23,058\u001b[0m │ GlobAvgPool2D[\u001b[38;5;34m0\u001b[0m]… │\n",
       "├─────────────────────┼───────────────────┼────────────┼───────────────────┤\n",
       "│ genus (\u001b[38;5;33mDense\u001b[0m)       │ (\u001b[38;5;45mNone\u001b[0m, \u001b[38;5;34m43\u001b[0m)        │     \u001b[38;5;34m55,083\u001b[0m │ GlobAvgPool2D[\u001b[38;5;34m0\u001b[0m]… │\n",
       "├─────────────────────┼───────────────────┼────────────┼───────────────────┤\n",
       "│ species (\u001b[38;5;33mDense\u001b[0m)     │ (\u001b[38;5;45mNone\u001b[0m, \u001b[38;5;34m61\u001b[0m)        │     \u001b[38;5;34m78,141\u001b[0m │ GlobAvgPool2D[\u001b[38;5;34m0\u001b[0m]… │\n",
       "└─────────────────────┴───────────────────┴────────────┴───────────────────┘\n"
      ]
     },
     "metadata": {},
     "output_type": "display_data"
    },
    {
     "data": {
      "text/html": [
       "<pre style=\"white-space:pre;overflow-x:auto;line-height:normal;font-family:Menlo,'DejaVu Sans Mono',consolas,'Courier New',monospace\"><span style=\"font-weight: bold\"> Total params: </span><span style=\"color: #00af00; text-decoration-color: #00af00\">6,075,594</span> (23.18 MB)\n",
       "</pre>\n"
      ],
      "text/plain": [
       "\u001b[1m Total params: \u001b[0m\u001b[38;5;34m6,075,594\u001b[0m (23.18 MB)\n"
      ]
     },
     "metadata": {},
     "output_type": "display_data"
    },
    {
     "data": {
      "text/html": [
       "<pre style=\"white-space:pre;overflow-x:auto;line-height:normal;font-family:Menlo,'DejaVu Sans Mono',consolas,'Courier New',monospace\"><span style=\"font-weight: bold\"> Trainable params: </span><span style=\"color: #00af00; text-decoration-color: #00af00\">156,282</span> (610.48 KB)\n",
       "</pre>\n"
      ],
      "text/plain": [
       "\u001b[1m Trainable params: \u001b[0m\u001b[38;5;34m156,282\u001b[0m (610.48 KB)\n"
      ]
     },
     "metadata": {},
     "output_type": "display_data"
    },
    {
     "data": {
      "text/html": [
       "<pre style=\"white-space:pre;overflow-x:auto;line-height:normal;font-family:Menlo,'DejaVu Sans Mono',consolas,'Courier New',monospace\"><span style=\"font-weight: bold\"> Non-trainable params: </span><span style=\"color: #00af00; text-decoration-color: #00af00\">5,919,312</span> (22.58 MB)\n",
       "</pre>\n"
      ],
      "text/plain": [
       "\u001b[1m Non-trainable params: \u001b[0m\u001b[38;5;34m5,919,312\u001b[0m (22.58 MB)\n"
      ]
     },
     "metadata": {},
     "output_type": "display_data"
    }
   ],
   "source": [
    "#from cryptovision.model import simple\n",
    "\n",
    "resnet = ResNet50V2(include_top=False, weights='imagenet', input_shape=image_shape)\n",
    "resnet.trainable = False\n",
    "\n",
    "effnet = EfficientNetV2B0(include_top=False, weights='imagenet', input_shape=image_shape)\n",
    "effnet.trainable = False\n",
    "\n",
    "def simple (name, labels, pretrain, preprocess, input_shape, augmentation_layer):\n",
    "    \n",
    "    inputs = Input(shape=input_shape, name='input')\n",
    "    x = augmentation_layer(inputs)\n",
    "    x = tf.keras.layers.Lambda(preprocess, name='preprocess')(x)\n",
    "    x = pretrain(x, training=False)\n",
    "    \n",
    "    # Feature Extracion from Pretrained Model\n",
    "    features = GlobalAveragePooling2D(name='GlobAvgPool2D')(x)\n",
    "    \n",
    "    # Family Output\n",
    "    family_output = Dense(len(labels['family']), activation='softmax', name='family')(features)\n",
    "    \n",
    "    # Genus Output\n",
    "    genus_output = Dense(len(labels['genus']), activation='softmax', name='genus')(features)\n",
    "    \n",
    "    # Species Output\n",
    "    species_output = Dense(len(labels['species']), activation='softmax', name='species')(features)\n",
    "    \n",
    "    model = tf.keras.Model(inputs, [family_output, genus_output, species_output], name=name)\n",
    "    \n",
    "    return model\n",
    "\n",
    "augmentation = tf.keras.Sequential(\n",
    "    [\n",
    "        RandomFlip(\"horizontal\"),\n",
    "        RandomRotation(0.1),\n",
    "        RandomZoom(0.1),\n",
    "        RandomTranslation(0.05, 0.05),\n",
    "        RandomContrast(0.1),\n",
    "        RandomBrightness(0.1),\n",
    "    ],\n",
    "    name='augmentation'\n",
    ")\n",
    "\n",
    "model_simple = simple(\n",
    "    \"CryptoVisionSimple\",\n",
    "    labels=names,\n",
    "    pretrain = effnet,\n",
    "    preprocess = efficientnet_preprocess,\n",
    "    augmentation_layer = augmentation,\n",
    "    input_shape = image_shape\n",
    ")\n",
    "\n",
    "model_simple.summary()"
   ]
  },
  {
   "cell_type": "code",
   "execution_count": 17,
   "metadata": {},
   "outputs": [
    {
     "name": "stderr",
     "output_type": "stream",
     "text": [
      "Epoch 1/5:   0%|          | 0/92 [00:00<?, ?batch/s]"
     ]
    },
    {
     "name": "stderr",
     "output_type": "stream",
     "text": [
      "Epoch 1/5: 100%|██████████| 92/92 [01:31<00:00,  1.01batch/s, loss=2.2634, family_acc=0.2556, genus_acc=0.1332, species_acc=0.0810]\n"
     ]
    },
    {
     "ename": "TypeError",
     "evalue": "TQDMProgressBar.colorize_accuracy() takes 1 positional argument but 2 were given",
     "output_type": "error",
     "traceback": [
      "\u001b[0;31m---------------------------------------------------------------------------\u001b[0m",
      "\u001b[0;31mTypeError\u001b[0m                                 Traceback (most recent call last)",
      "Cell \u001b[0;32mIn[17], line 14\u001b[0m\n\u001b[1;32m      2\u001b[0m \u001b[38;5;28;01mfrom\u001b[39;00m \u001b[38;5;21;01mcryptovision\u001b[39;00m\u001b[38;5;21;01m.\u001b[39;00m\u001b[38;5;21;01mmodel\u001b[39;00m \u001b[38;5;28;01mimport\u001b[39;00m TQDMProgressBar\n\u001b[1;32m      4\u001b[0m model_simple\u001b[38;5;241m.\u001b[39mcompile(\n\u001b[1;32m      5\u001b[0m     optimizer\u001b[38;5;241m=\u001b[39mtf\u001b[38;5;241m.\u001b[39mkeras\u001b[38;5;241m.\u001b[39moptimizers\u001b[38;5;241m.\u001b[39mAdam(learning_rate\u001b[38;5;241m=\u001b[39m\u001b[38;5;241m0.0001\u001b[39m),\n\u001b[1;32m      6\u001b[0m     loss\u001b[38;5;241m=\u001b[39mtf\u001b[38;5;241m.\u001b[39mkeras\u001b[38;5;241m.\u001b[39mlosses\u001b[38;5;241m.\u001b[39mCategoricalFocalCrossentropy(),\n\u001b[0;32m   (...)\u001b[0m\n\u001b[1;32m     11\u001b[0m     },\n\u001b[1;32m     12\u001b[0m )\n\u001b[0;32m---> 14\u001b[0m history \u001b[38;5;241m=\u001b[39m \u001b[43mmodel_simple\u001b[49m\u001b[38;5;241;43m.\u001b[39;49m\u001b[43mfit\u001b[49m\u001b[43m(\u001b[49m\n\u001b[1;32m     15\u001b[0m \u001b[43m    \u001b[49m\u001b[43mtrain_ds\u001b[49m\u001b[43m,\u001b[49m\n\u001b[1;32m     16\u001b[0m \u001b[43m    \u001b[49m\u001b[43mvalidation_data\u001b[49m\u001b[38;5;241;43m=\u001b[39;49m\u001b[43mval_ds\u001b[49m\u001b[43m,\u001b[49m\n\u001b[1;32m     17\u001b[0m \u001b[43m    \u001b[49m\u001b[43mepochs\u001b[49m\u001b[38;5;241;43m=\u001b[39;49m\u001b[38;5;241;43m5\u001b[39;49m\u001b[43m,\u001b[49m\n\u001b[1;32m     18\u001b[0m \u001b[43m    \u001b[49m\u001b[43mcallbacks\u001b[49m\u001b[38;5;241;43m=\u001b[39;49m\u001b[43m[\u001b[49m\n\u001b[1;32m     19\u001b[0m \u001b[43m        \u001b[49m\u001b[43mTQDMProgressBar\u001b[49m\u001b[43m(\u001b[49m\u001b[43m)\u001b[49m\u001b[43m,\u001b[49m\u001b[43m   \u001b[49m\n\u001b[1;32m     20\u001b[0m \u001b[43m    \u001b[49m\u001b[43m]\u001b[49m\u001b[43m,\u001b[49m\n\u001b[1;32m     21\u001b[0m \u001b[43m    \u001b[49m\u001b[43mverbose\u001b[49m\u001b[38;5;241;43m=\u001b[39;49m\u001b[38;5;241;43m0\u001b[39;49m\n\u001b[1;32m     22\u001b[0m \u001b[43m)\u001b[49m\n",
      "File \u001b[0;32m~/miniconda3/envs/cvenv/lib/python3.10/site-packages/keras/src/utils/traceback_utils.py:122\u001b[0m, in \u001b[0;36mfilter_traceback.<locals>.error_handler\u001b[0;34m(*args, **kwargs)\u001b[0m\n\u001b[1;32m    119\u001b[0m     filtered_tb \u001b[38;5;241m=\u001b[39m _process_traceback_frames(e\u001b[38;5;241m.\u001b[39m__traceback__)\n\u001b[1;32m    120\u001b[0m     \u001b[38;5;66;03m# To get the full stack trace, call:\u001b[39;00m\n\u001b[1;32m    121\u001b[0m     \u001b[38;5;66;03m# `keras.config.disable_traceback_filtering()`\u001b[39;00m\n\u001b[0;32m--> 122\u001b[0m     \u001b[38;5;28;01mraise\u001b[39;00m e\u001b[38;5;241m.\u001b[39mwith_traceback(filtered_tb) \u001b[38;5;28;01mfrom\u001b[39;00m \u001b[38;5;28;01mNone\u001b[39;00m\n\u001b[1;32m    123\u001b[0m \u001b[38;5;28;01mfinally\u001b[39;00m:\n\u001b[1;32m    124\u001b[0m     \u001b[38;5;28;01mdel\u001b[39;00m filtered_tb\n",
      "File \u001b[0;32m~/Documents/Projects/cryptovision/cryptovision/model.py:54\u001b[0m, in \u001b[0;36mTQDMProgressBar.on_epoch_end\u001b[0;34m(self, epoch, logs)\u001b[0m\n\u001b[1;32m     51\u001b[0m val_genus_acc \u001b[38;5;241m=\u001b[39m logs\u001b[38;5;241m.\u001b[39mget(\u001b[38;5;124m'\u001b[39m\u001b[38;5;124mval_genus_accuracy\u001b[39m\u001b[38;5;124m'\u001b[39m, \u001b[38;5;241m0\u001b[39m)\n\u001b[1;32m     52\u001b[0m val_species_acc \u001b[38;5;241m=\u001b[39m logs\u001b[38;5;241m.\u001b[39mget(\u001b[38;5;124m'\u001b[39m\u001b[38;5;124mval_species_accuracy\u001b[39m\u001b[38;5;124m'\u001b[39m, \u001b[38;5;241m0\u001b[39m)\n\u001b[0;32m---> 54\u001b[0m val_family_acc_colored \u001b[38;5;241m=\u001b[39m \u001b[38;5;28;43mself\u001b[39;49m\u001b[38;5;241;43m.\u001b[39;49m\u001b[43mcolorize_accuracy\u001b[49m\u001b[43m(\u001b[49m\u001b[43mval_family_acc\u001b[49m\u001b[43m)\u001b[49m\n\u001b[1;32m     55\u001b[0m val_genus_acc_colored \u001b[38;5;241m=\u001b[39m \u001b[38;5;28mself\u001b[39m\u001b[38;5;241m.\u001b[39mcolorize_accuracy(val_genus_acc)\n\u001b[1;32m     56\u001b[0m val_species_acc_colored \u001b[38;5;241m=\u001b[39m \u001b[38;5;28mself\u001b[39m\u001b[38;5;241m.\u001b[39mcolorize_accuracy(val_species_acc)\n",
      "\u001b[0;31mTypeError\u001b[0m: TQDMProgressBar.colorize_accuracy() takes 1 positional argument but 2 were given"
     ]
    }
   ],
   "source": [
    "from loguru import logger\n",
    "from cryptovision.model import TQDMProgressBar\n",
    "\n",
    "model_simple.compile(\n",
    "    optimizer=tf.keras.optimizers.Adam(learning_rate=0.0001),\n",
    "    loss=tf.keras.losses.CategoricalFocalCrossentropy(),\n",
    "    metrics = {\n",
    "        'family': [\"accuracy\", \"AUC\", \"Precision\", \"Recall\"],\n",
    "        'genus': [\"accuracy\", \"AUC\", \"Precision\", \"Recall\"],\n",
    "        'species': [\"accuracy\", \"AUC\", \"Precision\", \"Recall\"],\n",
    "    },\n",
    ")\n",
    "\n",
    "history = model_simple.fit(\n",
    "    train_ds,\n",
    "    validation_data=val_ds,\n",
    "    epochs=5,\n",
    "    callbacks=[\n",
    "        TQDMProgressBar(),   \n",
    "    ],\n",
    "    verbose=0\n",
    ")"
   ]
  },
  {
   "cell_type": "code",
   "execution_count": 4,
   "metadata": {},
   "outputs": [],
   "source": [
    "# Data Augmentation Function\n",
    "data_augmentation = tf.keras.Sequential(\n",
    "    [\n",
    "        RandomFlip(\"horizontal\"),\n",
    "        RandomRotation(0.2),\n",
    "        RandomZoom(0.2),\n",
    "        RandomTranslation(0.1, 0.1),\n",
    "        RandomContrast(0.2),\n",
    "        RandomBrightness(0.2),\n",
    "    ],\n",
    "    name='data_augmentation'\n",
    ")"
   ]
  },
  {
   "cell_type": "code",
   "execution_count": 11,
   "metadata": {},
   "outputs": [],
   "source": [
    "augmentation = tf.keras.Sequential(\n",
    "        [\n",
    "            RandomFlip(\"horizontal\"),\n",
    "            RandomRotation(0.2),\n",
    "            RandomZoom(0.2),\n",
    "            RandomTranslation(0.1, 0.1),\n",
    "            RandomContrast(0.2),\n",
    "            RandomBrightness(0.2),\n",
    "            tf.keras.layers.Lambda(resnet_preprocess)\n",
    "        ],\n",
    "        name='augmentation'\n",
    "    )"
   ]
  },
  {
   "cell_type": "code",
   "execution_count": 6,
   "metadata": {},
   "outputs": [],
   "source": [
    "from tqdm import tqdm\n",
    "from tensorflow.keras.callbacks import Callback     # type: ignore\n",
    "from loguru import logger\n",
    "from colorama import Fore, Style, init\n",
    "\n",
    "\n",
    "def colorize_accuracy(value):\n",
    "    if value < 0.75:\n",
    "        return Fore.RED + f\"{value:.4f}\" + Style.RESET_ALL\n",
    "    elif 0.75 <= value < 0.85:\n",
    "        return Fore.YELLOW + f\"{value:.4f}\" + Style.RESET_ALL\n",
    "    elif 0.85 <= value < 0.92:\n",
    "        return Fore.GREEN + f\"{value:.4f}\" + Style.RESET_ALL\n",
    "    else:\n",
    "        return Fore.MAGENTA + f\"{value:.4f}\" + Style.RESET_ALL\n",
    "\n",
    "class TQDMProgressBar(Callback):\n",
    "    def on_epoch_begin(self, epoch, logs=None):\n",
    "        self.epoch_bar = tqdm(total=self.params['steps'], \n",
    "                              desc=f\"Epoch {epoch+1}/{self.params['epochs']}\", \n",
    "                              unit=\"batch\", \n",
    "                              dynamic_ncols=True)\n",
    "\n",
    "    def on_batch_end(self, batch, logs=None):\n",
    "        self.epoch_bar.update(1)\n",
    "        # Update the progress bar for every 10 batches to reduce terminal clutter\n",
    "        if batch % 10 == 0 or batch == self.params['steps'] - 1:\n",
    "            self.epoch_bar.set_postfix({\n",
    "                'loss': f\"{logs['loss']:.4f}\",\n",
    "                'family_acc': f\"{logs.get('family_accuracy', 0):.4f}\",\n",
    "                'genus_acc': f\"{logs.get('genus_accuracy', 0):.4f}\",\n",
    "                'species_acc': f\"{logs.get('species_accuracy', 0):.4f}\",\n",
    "            })\n",
    "\n",
    "    def on_epoch_end(self, epoch, logs=None):\n",
    "        self.epoch_bar.close()\n",
    "\n",
    "        val_family_acc = logs.get('val_family_accuracy', 0)\n",
    "        val_genus_acc = logs.get('val_genus_accuracy', 0)\n",
    "        val_species_acc = logs.get('val_species_accuracy', 0)\n",
    "\n",
    "        val_family_acc_colored = colorize_accuracy(val_family_acc)\n",
    "        val_genus_acc_colored = colorize_accuracy(val_genus_acc)\n",
    "        val_species_acc_colored = colorize_accuracy(val_species_acc)\n",
    "\n",
    "        summary_message = (\n",
    "            f\"Epoch {epoch+1} completed - Loss: {logs['loss']:.4f}, \"\n",
    "            f\"Val Family Accuracy: {val_family_acc_colored}, \"\n",
    "            f\"Val Genus Accuracy: {val_genus_acc_colored}, \"\n",
    "            f\"Val Species Accuracy: {val_species_acc_colored}\"\n",
    "        )\n",
    "        #tqdm.write(summary_message)  # Write without interfering with progress bar\n",
    "        logger.info(summary_message)\n",
    "\n",
    "# Integrating the callback\n",
    "callbacks = [\n",
    "    TQDMProgressBar(),\n",
    "    tf.keras.callbacks.EarlyStopping(patience=5, monitor='val_loss')\n",
    "]\n"
   ]
  },
  {
   "cell_type": "code",
   "execution_count": 6,
   "metadata": {},
   "outputs": [],
   "source": [
    "import tensorflow as tf\n",
    "from tensorflow.keras.layers import (\n",
    "    Dense, GlobalAveragePooling2D, Dropout, BatchNormalization, Activation,\n",
    "    Input, Multiply, Reshape, Layer, Add, MultiHeadAttention, Conv2D, MaxPooling2D, Flatten\n",
    ")\n",
    "from tensorflow.keras.applications import EfficientNetV2B0\n",
    "from tensorflow.keras.models import Model\n",
    "\n",
    "# Define Self-Attention Layer\n",
    "class SelfAttention(Layer):\n",
    "    def __init__(self, **kwargs):\n",
    "        super(SelfAttention, self).__init__(**kwargs)\n",
    "\n",
    "    def build(self, input_shape):\n",
    "        self.query_dense = Dense(input_shape[-1])\n",
    "        self.key_dense = Dense(input_shape[-1])\n",
    "        self.value_dense = Dense(input_shape[-1])\n",
    "        super(SelfAttention, self).build(input_shape)\n",
    "\n",
    "    def call(self, inputs):\n",
    "        q = self.query_dense(inputs)\n",
    "        k = self.key_dense(inputs)\n",
    "        v = self.value_dense(inputs)\n",
    "        \n",
    "        attention_scores = tf.matmul(q, k, transpose_b=True)\n",
    "        attention_scores = tf.nn.softmax(attention_scores, axis=-1)\n",
    "        return tf.matmul(attention_scores, v) + inputs\n",
    "\n",
    "# Squeeze-and-Excite (SE) Block\n",
    "def squeeze_excite_block(input_tensor, ratio=16):\n",
    "    filters = input_tensor.shape[-1]\n",
    "    se_shape = (1, 1, filters)\n",
    "\n",
    "    se = GlobalAveragePooling2D()(input_tensor)\n",
    "    se = Reshape(se_shape)(se)\n",
    "    se = Dense(filters // ratio, activation='relu')(se)\n",
    "    se = Dense(filters, activation='sigmoid')(se)\n",
    "    return Multiply()([input_tensor, se])"
   ]
  },
  {
   "cell_type": "code",
   "execution_count": 7,
   "metadata": {},
   "outputs": [],
   "source": [
    "# Models Templates\n",
    "def model_simple_v01(model_name, labels, augmentation_layer=data_augmentation, pretrain_model=\"RN50V2\", image_shape=(224, 224, 3)):\n",
    "    \n",
    "    if pretrain_model == \"RN50V2\":\n",
    "        base_model = ResNet50V2(include_top=False, weights='imagenet', input_shape=image_shape)\n",
    "        base_model.trainable = False\n",
    "        preprocess = resnet_preprocess\n",
    "    elif pretrain_model == \"EFFV2B0\":\n",
    "        base_model = EfficientNetV2B0(include_top=False, weights='imagenet', input_shape=image_shape)\n",
    "        base_model.trainable = False\n",
    "        preprocess = efficientnet_preprocess\n",
    "    \n",
    "    inputs = Input(shape=image_shape, name='input')\n",
    "    x = preprocess(inputs)\n",
    "    x = base_model(x, training=False)\n",
    "    \n",
    "    # PreTrain Model Features Extractor\n",
    "    features = GlobalAveragePooling2D()(x)\n",
    "    \n",
    "    # Family Output\n",
    "    family_output = Dense(len(labels['family']), activation='softmax', name='family')(features)\n",
    "    \n",
    "    # Genus Output\n",
    "    genus_output = Dense(len(labels['genus']), activation='softmax', name='genus')(features)\n",
    "    \n",
    "    # Species Output\n",
    "    species_output = Dense(len(labels['species']), activation='softmax', name='species')(features)\n",
    "    \n",
    "    name = f\"{model_name}_{pretrain_model}\"\n",
    "    model = tf.keras.Model(inputs, [family_output, genus_output, species_output], name=name)\n",
    "    \n",
    "    model.compile(\n",
    "        optimizer=tf.keras.optimizers.Adam(learning_rate=0.0001),\n",
    "        loss=tf.keras.losses.CategoricalFocalCrossentropy(),\n",
    "        metrics = {\n",
    "            'family': [\"accuracy\", \"AUC\", \"Precision\", \"Recall\"],\n",
    "            'genus': [\"accuracy\", \"AUC\", \"Precision\", \"Recall\"],\n",
    "            'species': [\"accuracy\", \"AUC\", \"Precision\", \"Recall\"],\n",
    "        },\n",
    "    )\n",
    "    \n",
    "    return model\n",
    "\n",
    "def model_simple_shared_v02(model_name, labels, augmentation_layer=data_augmentation, pretrain_model=\"RN50V2\", image_shape=(224, 224, 3)):\n",
    "    \n",
    "    if pretrain_model == \"RN50V2\":\n",
    "        base_model = ResNet50V2(include_top=False, weights='imagenet', input_shape=image_shape)\n",
    "        base_model.trainable = False\n",
    "        preprocess = resnet_preprocess\n",
    "    elif pretrain_model == \"EFFV2B0\":\n",
    "        base_model = EfficientNetV2B0(include_top=False, weights='imagenet', input_shape=image_shape)\n",
    "        base_model.trainable = False\n",
    "        preprocess = efficientnet_preprocess\n",
    "    \n",
    "    inputs = Input(shape=image_shape, name='input')\n",
    "    x = preprocess(inputs)\n",
    "    x = base_model(x, training=False)\n",
    "    \n",
    "    # PreTrain Model Features Extractor\n",
    "    features = GlobalAveragePooling2D()(x)\n",
    "    \n",
    "    shared_layer = Dense(1024,name='shared_layer')(features)\n",
    "    shared_layer = BatchNormalization()(shared_layer)\n",
    "    shared_layer = Activation('relu')(shared_layer)\n",
    "    \n",
    "    # Family Output\n",
    "    family_output = Dense(len(labels['family']), activation='softmax', name='family')(shared_layer)\n",
    "    \n",
    "    # Genus Output\n",
    "    genus_output = Dense(len(labels['genus']), activation='softmax', name='genus')(shared_layer)\n",
    "    \n",
    "    # Species Output\n",
    "    species_output = Dense(len(labels['species']), activation='softmax', name='species')(shared_layer)\n",
    "    \n",
    "    name = f\"{model_name}_{pretrain_model}\"\n",
    "    model = tf.keras.Model(inputs, [family_output, genus_output, species_output], name=name)\n",
    "    \n",
    "    model.compile(\n",
    "        optimizer=tf.keras.optimizers.Adam(learning_rate=0.0001),\n",
    "        loss=tf.keras.losses.CategoricalFocalCrossentropy(),\n",
    "        metrics = {\n",
    "            'family': [\"accuracy\", \"AUC\", \"Precision\", \"Recall\"],\n",
    "            'genus': [\"accuracy\", \"AUC\", \"Precision\", \"Recall\"],\n",
    "            'species': [\"accuracy\", \"AUC\", \"Precision\", \"Recall\"],\n",
    "        },\n",
    "    )\n",
    "    \n",
    "    return model\n",
    "\n",
    "def model_simple_hidden_v01(model_name, labels, augmentation_layer=data_augmentation, pretrain_model=\"RN50V2\", image_shape=(224, 224, 3)):\n",
    "    \n",
    "    if pretrain_model == \"RN50V2\":\n",
    "        base_model = ResNet50V2(include_top=False, weights='imagenet', input_shape=image_shape)\n",
    "        base_model.trainable = False\n",
    "        preprocess = resnet_preprocess\n",
    "    elif pretrain_model == \"EFFV2B0\":\n",
    "        base_model = EfficientNetV2B0(include_top=False, weights='imagenet', input_shape=image_shape)\n",
    "        base_model.trainable = False\n",
    "        preprocess = efficientnet_preprocess\n",
    "    \n",
    "    inputs = Input(shape=image_shape, name='input')\n",
    "    x = preprocess(inputs)\n",
    "    x = base_model(x, training=False)\n",
    "    \n",
    "    # PreTrain Model Features Extractor\n",
    "    features = GlobalAveragePooling2D()(x)\n",
    "    \n",
    "    # Family Output\n",
    "    family_hidden = Dense(64, activation='relu',name='family_hidden')(features)\n",
    "    family_output = Dense(len(names['family']), activation='softmax',name='family')(family_hidden)\n",
    "\n",
    "    # Genus Output\n",
    "    genus_hidden = Dense(128, activation='relu',name='genus_hidden')(features)\n",
    "    genus_output = Dense(len(names['genus']), activation='softmax',name='genus')(genus_hidden)\n",
    "\n",
    "    # Species Output\n",
    "    species_hidden = Dense(256, activation='relu',name='species_hidden')(features)\n",
    "    species_output = Dense(len(names['species']), activation='softmax',name='species')(species_hidden)\n",
    "    \n",
    "    name = f\"{model_name}_{pretrain_model}\"\n",
    "    model = tf.keras.Model(inputs, [family_output, genus_output, species_output], name=name)\n",
    "    \n",
    "    model.compile(\n",
    "        optimizer=tf.keras.optimizers.Adam(learning_rate=0.0001),\n",
    "        loss=tf.keras.losses.CategoricalFocalCrossentropy(),\n",
    "        metrics = {\n",
    "            'family': [\"accuracy\", \"AUC\", \"Precision\", \"Recall\"],\n",
    "            'genus': [\"accuracy\", \"AUC\", \"Precision\", \"Recall\"],\n",
    "            'species': [\"accuracy\", \"AUC\", \"Precision\", \"Recall\"],\n",
    "        },\n",
    "    )\n",
    "    \n",
    "    return model\n",
    "\n",
    "\n"
   ]
  },
  {
   "cell_type": "code",
   "execution_count": 7,
   "metadata": {},
   "outputs": [
    {
     "data": {
      "text/html": [
       "<pre style=\"white-space:pre;overflow-x:auto;line-height:normal;font-family:Menlo,'DejaVu Sans Mono',consolas,'Courier New',monospace\"><span style=\"font-weight: bold\">Model: \"SimpleModel_RN50V2\"</span>\n",
       "</pre>\n"
      ],
      "text/plain": [
       "\u001b[1mModel: \"SimpleModel_RN50V2\"\u001b[0m\n"
      ]
     },
     "metadata": {},
     "output_type": "display_data"
    },
    {
     "data": {
      "text/html": [
       "<pre style=\"white-space:pre;overflow-x:auto;line-height:normal;font-family:Menlo,'DejaVu Sans Mono',consolas,'Courier New',monospace\">┏━━━━━━━━━━━━━━━━━━━━━┳━━━━━━━━━━━━━━━━━━━┳━━━━━━━━━━━━┳━━━━━━━━━━━━━━━━━━━┓\n",
       "┃<span style=\"font-weight: bold\"> Layer (type)        </span>┃<span style=\"font-weight: bold\"> Output Shape      </span>┃<span style=\"font-weight: bold\">    Param # </span>┃<span style=\"font-weight: bold\"> Connected to      </span>┃\n",
       "┡━━━━━━━━━━━━━━━━━━━━━╇━━━━━━━━━━━━━━━━━━━╇━━━━━━━━━━━━╇━━━━━━━━━━━━━━━━━━━┩\n",
       "│ input (<span style=\"color: #0087ff; text-decoration-color: #0087ff\">InputLayer</span>)  │ (<span style=\"color: #00d7ff; text-decoration-color: #00d7ff\">None</span>, <span style=\"color: #00af00; text-decoration-color: #00af00\">128</span>, <span style=\"color: #00af00; text-decoration-color: #00af00\">128</span>,  │          <span style=\"color: #00af00; text-decoration-color: #00af00\">0</span> │ -                 │\n",
       "│                     │ <span style=\"color: #00af00; text-decoration-color: #00af00\">3</span>)                │            │                   │\n",
       "├─────────────────────┼───────────────────┼────────────┼───────────────────┤\n",
       "│ true_divide         │ (<span style=\"color: #00d7ff; text-decoration-color: #00d7ff\">None</span>, <span style=\"color: #00af00; text-decoration-color: #00af00\">128</span>, <span style=\"color: #00af00; text-decoration-color: #00af00\">128</span>,  │          <span style=\"color: #00af00; text-decoration-color: #00af00\">0</span> │ input[<span style=\"color: #00af00; text-decoration-color: #00af00\">0</span>][<span style=\"color: #00af00; text-decoration-color: #00af00\">0</span>]       │\n",
       "│ (<span style=\"color: #0087ff; text-decoration-color: #0087ff\">TrueDivide</span>)        │ <span style=\"color: #00af00; text-decoration-color: #00af00\">3</span>)                │            │                   │\n",
       "├─────────────────────┼───────────────────┼────────────┼───────────────────┤\n",
       "│ subtract (<span style=\"color: #0087ff; text-decoration-color: #0087ff\">Subtract</span>) │ (<span style=\"color: #00d7ff; text-decoration-color: #00d7ff\">None</span>, <span style=\"color: #00af00; text-decoration-color: #00af00\">128</span>, <span style=\"color: #00af00; text-decoration-color: #00af00\">128</span>,  │          <span style=\"color: #00af00; text-decoration-color: #00af00\">0</span> │ true_divide[<span style=\"color: #00af00; text-decoration-color: #00af00\">0</span>][<span style=\"color: #00af00; text-decoration-color: #00af00\">0</span>] │\n",
       "│                     │ <span style=\"color: #00af00; text-decoration-color: #00af00\">3</span>)                │            │                   │\n",
       "├─────────────────────┼───────────────────┼────────────┼───────────────────┤\n",
       "│ resnet50v2          │ (<span style=\"color: #00d7ff; text-decoration-color: #00d7ff\">None</span>, <span style=\"color: #00af00; text-decoration-color: #00af00\">4</span>, <span style=\"color: #00af00; text-decoration-color: #00af00\">4</span>,      │ <span style=\"color: #00af00; text-decoration-color: #00af00\">23,564,800</span> │ subtract[<span style=\"color: #00af00; text-decoration-color: #00af00\">0</span>][<span style=\"color: #00af00; text-decoration-color: #00af00\">0</span>]    │\n",
       "│ (<span style=\"color: #0087ff; text-decoration-color: #0087ff\">Functional</span>)        │ <span style=\"color: #00af00; text-decoration-color: #00af00\">2048</span>)             │            │                   │\n",
       "├─────────────────────┼───────────────────┼────────────┼───────────────────┤\n",
       "│ global_average_poo… │ (<span style=\"color: #00d7ff; text-decoration-color: #00d7ff\">None</span>, <span style=\"color: #00af00; text-decoration-color: #00af00\">2048</span>)      │          <span style=\"color: #00af00; text-decoration-color: #00af00\">0</span> │ resnet50v2[<span style=\"color: #00af00; text-decoration-color: #00af00\">0</span>][<span style=\"color: #00af00; text-decoration-color: #00af00\">0</span>]  │\n",
       "│ (<span style=\"color: #0087ff; text-decoration-color: #0087ff\">GlobalAveragePool…</span> │                   │            │                   │\n",
       "├─────────────────────┼───────────────────┼────────────┼───────────────────┤\n",
       "│ family (<span style=\"color: #0087ff; text-decoration-color: #0087ff\">Dense</span>)      │ (<span style=\"color: #00d7ff; text-decoration-color: #00d7ff\">None</span>, <span style=\"color: #00af00; text-decoration-color: #00af00\">18</span>)        │     <span style=\"color: #00af00; text-decoration-color: #00af00\">36,882</span> │ global_average_p… │\n",
       "├─────────────────────┼───────────────────┼────────────┼───────────────────┤\n",
       "│ genus (<span style=\"color: #0087ff; text-decoration-color: #0087ff\">Dense</span>)       │ (<span style=\"color: #00d7ff; text-decoration-color: #00d7ff\">None</span>, <span style=\"color: #00af00; text-decoration-color: #00af00\">43</span>)        │     <span style=\"color: #00af00; text-decoration-color: #00af00\">88,107</span> │ global_average_p… │\n",
       "├─────────────────────┼───────────────────┼────────────┼───────────────────┤\n",
       "│ species (<span style=\"color: #0087ff; text-decoration-color: #0087ff\">Dense</span>)     │ (<span style=\"color: #00d7ff; text-decoration-color: #00d7ff\">None</span>, <span style=\"color: #00af00; text-decoration-color: #00af00\">61</span>)        │    <span style=\"color: #00af00; text-decoration-color: #00af00\">124,989</span> │ global_average_p… │\n",
       "└─────────────────────┴───────────────────┴────────────┴───────────────────┘\n",
       "</pre>\n"
      ],
      "text/plain": [
       "┏━━━━━━━━━━━━━━━━━━━━━┳━━━━━━━━━━━━━━━━━━━┳━━━━━━━━━━━━┳━━━━━━━━━━━━━━━━━━━┓\n",
       "┃\u001b[1m \u001b[0m\u001b[1mLayer (type)       \u001b[0m\u001b[1m \u001b[0m┃\u001b[1m \u001b[0m\u001b[1mOutput Shape     \u001b[0m\u001b[1m \u001b[0m┃\u001b[1m \u001b[0m\u001b[1m   Param #\u001b[0m\u001b[1m \u001b[0m┃\u001b[1m \u001b[0m\u001b[1mConnected to     \u001b[0m\u001b[1m \u001b[0m┃\n",
       "┡━━━━━━━━━━━━━━━━━━━━━╇━━━━━━━━━━━━━━━━━━━╇━━━━━━━━━━━━╇━━━━━━━━━━━━━━━━━━━┩\n",
       "│ input (\u001b[38;5;33mInputLayer\u001b[0m)  │ (\u001b[38;5;45mNone\u001b[0m, \u001b[38;5;34m128\u001b[0m, \u001b[38;5;34m128\u001b[0m,  │          \u001b[38;5;34m0\u001b[0m │ -                 │\n",
       "│                     │ \u001b[38;5;34m3\u001b[0m)                │            │                   │\n",
       "├─────────────────────┼───────────────────┼────────────┼───────────────────┤\n",
       "│ true_divide         │ (\u001b[38;5;45mNone\u001b[0m, \u001b[38;5;34m128\u001b[0m, \u001b[38;5;34m128\u001b[0m,  │          \u001b[38;5;34m0\u001b[0m │ input[\u001b[38;5;34m0\u001b[0m][\u001b[38;5;34m0\u001b[0m]       │\n",
       "│ (\u001b[38;5;33mTrueDivide\u001b[0m)        │ \u001b[38;5;34m3\u001b[0m)                │            │                   │\n",
       "├─────────────────────┼───────────────────┼────────────┼───────────────────┤\n",
       "│ subtract (\u001b[38;5;33mSubtract\u001b[0m) │ (\u001b[38;5;45mNone\u001b[0m, \u001b[38;5;34m128\u001b[0m, \u001b[38;5;34m128\u001b[0m,  │          \u001b[38;5;34m0\u001b[0m │ true_divide[\u001b[38;5;34m0\u001b[0m][\u001b[38;5;34m0\u001b[0m] │\n",
       "│                     │ \u001b[38;5;34m3\u001b[0m)                │            │                   │\n",
       "├─────────────────────┼───────────────────┼────────────┼───────────────────┤\n",
       "│ resnet50v2          │ (\u001b[38;5;45mNone\u001b[0m, \u001b[38;5;34m4\u001b[0m, \u001b[38;5;34m4\u001b[0m,      │ \u001b[38;5;34m23,564,800\u001b[0m │ subtract[\u001b[38;5;34m0\u001b[0m][\u001b[38;5;34m0\u001b[0m]    │\n",
       "│ (\u001b[38;5;33mFunctional\u001b[0m)        │ \u001b[38;5;34m2048\u001b[0m)             │            │                   │\n",
       "├─────────────────────┼───────────────────┼────────────┼───────────────────┤\n",
       "│ global_average_poo… │ (\u001b[38;5;45mNone\u001b[0m, \u001b[38;5;34m2048\u001b[0m)      │          \u001b[38;5;34m0\u001b[0m │ resnet50v2[\u001b[38;5;34m0\u001b[0m][\u001b[38;5;34m0\u001b[0m]  │\n",
       "│ (\u001b[38;5;33mGlobalAveragePool…\u001b[0m │                   │            │                   │\n",
       "├─────────────────────┼───────────────────┼────────────┼───────────────────┤\n",
       "│ family (\u001b[38;5;33mDense\u001b[0m)      │ (\u001b[38;5;45mNone\u001b[0m, \u001b[38;5;34m18\u001b[0m)        │     \u001b[38;5;34m36,882\u001b[0m │ global_average_p… │\n",
       "├─────────────────────┼───────────────────┼────────────┼───────────────────┤\n",
       "│ genus (\u001b[38;5;33mDense\u001b[0m)       │ (\u001b[38;5;45mNone\u001b[0m, \u001b[38;5;34m43\u001b[0m)        │     \u001b[38;5;34m88,107\u001b[0m │ global_average_p… │\n",
       "├─────────────────────┼───────────────────┼────────────┼───────────────────┤\n",
       "│ species (\u001b[38;5;33mDense\u001b[0m)     │ (\u001b[38;5;45mNone\u001b[0m, \u001b[38;5;34m61\u001b[0m)        │    \u001b[38;5;34m124,989\u001b[0m │ global_average_p… │\n",
       "└─────────────────────┴───────────────────┴────────────┴───────────────────┘\n"
      ]
     },
     "metadata": {},
     "output_type": "display_data"
    },
    {
     "data": {
      "text/html": [
       "<pre style=\"white-space:pre;overflow-x:auto;line-height:normal;font-family:Menlo,'DejaVu Sans Mono',consolas,'Courier New',monospace\"><span style=\"font-weight: bold\"> Total params: </span><span style=\"color: #00af00; text-decoration-color: #00af00\">23,814,778</span> (90.85 MB)\n",
       "</pre>\n"
      ],
      "text/plain": [
       "\u001b[1m Total params: \u001b[0m\u001b[38;5;34m23,814,778\u001b[0m (90.85 MB)\n"
      ]
     },
     "metadata": {},
     "output_type": "display_data"
    },
    {
     "data": {
      "text/html": [
       "<pre style=\"white-space:pre;overflow-x:auto;line-height:normal;font-family:Menlo,'DejaVu Sans Mono',consolas,'Courier New',monospace\"><span style=\"font-weight: bold\"> Trainable params: </span><span style=\"color: #00af00; text-decoration-color: #00af00\">249,978</span> (976.48 KB)\n",
       "</pre>\n"
      ],
      "text/plain": [
       "\u001b[1m Trainable params: \u001b[0m\u001b[38;5;34m249,978\u001b[0m (976.48 KB)\n"
      ]
     },
     "metadata": {},
     "output_type": "display_data"
    },
    {
     "data": {
      "text/html": [
       "<pre style=\"white-space:pre;overflow-x:auto;line-height:normal;font-family:Menlo,'DejaVu Sans Mono',consolas,'Courier New',monospace\"><span style=\"font-weight: bold\"> Non-trainable params: </span><span style=\"color: #00af00; text-decoration-color: #00af00\">23,564,800</span> (89.89 MB)\n",
       "</pre>\n"
      ],
      "text/plain": [
       "\u001b[1m Non-trainable params: \u001b[0m\u001b[38;5;34m23,564,800\u001b[0m (89.89 MB)\n"
      ]
     },
     "metadata": {},
     "output_type": "display_data"
    }
   ],
   "source": [
    "model_simple = model_simple_v01(\"SimpleModel\", names, image_shape=image_shape)\n",
    "\n",
    "model_simple.summary()\n"
   ]
  },
  {
   "cell_type": "code",
   "execution_count": 8,
   "metadata": {},
   "outputs": [
    {
     "name": "stderr",
     "output_type": "stream",
     "text": [
      "Epoch 1/10:   0%|          | 0/92 [00:00<?, ?batch/s]2025-01-07 14:25:37.310443: I tensorflow/core/grappler/optimizers/custom_graph_optimizer_registry.cc:117] Plugin optimizer for device_type GPU is enabled.\n",
      "2025-01-07 14:25:50.127916: I tensorflow/core/kernels/data/shuffle_dataset_op.cc:450] ShuffleDatasetV3:5: Filling up shuffle buffer (this may take a while): 33 of 11722\n",
      "2025-01-07 14:26:00.142365: I tensorflow/core/kernels/data/shuffle_dataset_op.cc:450] ShuffleDatasetV3:5: Filling up shuffle buffer (this may take a while): 65 of 11722\n",
      "2025-01-07 14:26:08.288777: I tensorflow/core/kernels/data/shuffle_dataset_op.cc:480] Shuffle buffer filled.\n",
      "2025-01-07 14:26:08.288861: I tensorflow/core/kernels/data/shuffle_dataset_op.cc:480] Shuffle buffer filled.\n",
      "Epoch 1/10: 100%|██████████| 92/92 [01:05<00:00,  1.40batch/s, loss=3.1428, family_acc=0.1437, genus_acc=0.0956, species_acc=0.0699]\n"
     ]
    },
    {
     "name": "stdout",
     "output_type": "stream",
     "text": [
      "\u001b[32m2025-01-07 14:26:41.256\u001b[0m | \u001b[1mINFO    \u001b[0m | \u001b[36m__main__\u001b[0m:\u001b[36mon_epoch_end\u001b[0m:\u001b[36m53\u001b[0m - \u001b[1mEpoch 1 completed - Loss: 3.1428, Val Family Accuracy: \u001b[31m0.2869\u001b[0m, Val Genus Accuracy: \u001b[31m0.2256\u001b[0m, Val Species Accuracy: \u001b[31m0.1707\u001b[0m\u001b[0m\n"
     ]
    },
    {
     "name": "stderr",
     "output_type": "stream",
     "text": [
      "Epoch 2/10: 100%|██████████| 92/92 [00:20<00:00,  4.46batch/s, loss=1.6867, family_acc=0.3889, genus_acc=0.3255, species_acc=0.2726]\n"
     ]
    },
    {
     "name": "stdout",
     "output_type": "stream",
     "text": [
      "\u001b[32m2025-01-07 14:27:01.917\u001b[0m | \u001b[1mINFO    \u001b[0m | \u001b[36m__main__\u001b[0m:\u001b[36mon_epoch_end\u001b[0m:\u001b[36m53\u001b[0m - \u001b[1mEpoch 2 completed - Loss: 1.6867, Val Family Accuracy: \u001b[31m0.4680\u001b[0m, Val Genus Accuracy: \u001b[31m0.4103\u001b[0m, Val Species Accuracy: \u001b[31m0.3558\u001b[0m\u001b[0m\n"
     ]
    },
    {
     "name": "stderr",
     "output_type": "stream",
     "text": [
      "Epoch 3/10: 100%|██████████| 92/92 [00:20<00:00,  4.45batch/s, loss=1.1975, family_acc=0.5190, genus_acc=0.4686, species_acc=0.4267]\n"
     ]
    },
    {
     "name": "stdout",
     "output_type": "stream",
     "text": [
      "\u001b[32m2025-01-07 14:27:22.583\u001b[0m | \u001b[1mINFO    \u001b[0m | \u001b[36m__main__\u001b[0m:\u001b[36mon_epoch_end\u001b[0m:\u001b[36m53\u001b[0m - \u001b[1mEpoch 3 completed - Loss: 1.1975, Val Family Accuracy: \u001b[31m0.5480\u001b[0m, Val Genus Accuracy: \u001b[31m0.4998\u001b[0m, Val Species Accuracy: \u001b[31m0.4493\u001b[0m\u001b[0m\n"
     ]
    },
    {
     "name": "stderr",
     "output_type": "stream",
     "text": [
      "Epoch 4/10: 100%|██████████| 92/92 [00:20<00:00,  4.44batch/s, loss=0.9660, family_acc=0.5823, genus_acc=0.5486, species_acc=0.5147]\n"
     ]
    },
    {
     "name": "stdout",
     "output_type": "stream",
     "text": [
      "\u001b[32m2025-01-07 14:27:43.296\u001b[0m | \u001b[1mINFO    \u001b[0m | \u001b[36m__main__\u001b[0m:\u001b[36mon_epoch_end\u001b[0m:\u001b[36m53\u001b[0m - \u001b[1mEpoch 4 completed - Loss: 0.9660, Val Family Accuracy: \u001b[31m0.5965\u001b[0m, Val Genus Accuracy: \u001b[31m0.5503\u001b[0m, Val Species Accuracy: \u001b[31m0.5014\u001b[0m\u001b[0m\n"
     ]
    },
    {
     "name": "stderr",
     "output_type": "stream",
     "text": [
      "Epoch 5/10: 100%|██████████| 92/92 [00:20<00:00,  4.41batch/s, loss=0.8263, family_acc=0.6269, genus_acc=0.5945, species_acc=0.5706]\n"
     ]
    },
    {
     "name": "stdout",
     "output_type": "stream",
     "text": [
      "\u001b[32m2025-01-07 14:28:04.188\u001b[0m | \u001b[1mINFO    \u001b[0m | \u001b[36m__main__\u001b[0m:\u001b[36mon_epoch_end\u001b[0m:\u001b[36m53\u001b[0m - \u001b[1mEpoch 5 completed - Loss: 0.8263, Val Family Accuracy: \u001b[31m0.6240\u001b[0m, Val Genus Accuracy: \u001b[31m0.5858\u001b[0m, Val Species Accuracy: \u001b[31m0.5356\u001b[0m\u001b[0m\n"
     ]
    },
    {
     "name": "stderr",
     "output_type": "stream",
     "text": [
      "Epoch 6/10: 100%|██████████| 92/92 [00:20<00:00,  4.39batch/s, loss=0.7298, family_acc=0.6604, genus_acc=0.6340, species_acc=0.6128]\n"
     ]
    },
    {
     "name": "stdout",
     "output_type": "stream",
     "text": [
      "\u001b[32m2025-01-07 14:28:25.152\u001b[0m | \u001b[1mINFO    \u001b[0m | \u001b[36m__main__\u001b[0m:\u001b[36mon_epoch_end\u001b[0m:\u001b[36m53\u001b[0m - \u001b[1mEpoch 6 completed - Loss: 0.7298, Val Family Accuracy: \u001b[31m0.6462\u001b[0m, Val Genus Accuracy: \u001b[31m0.6152\u001b[0m, Val Species Accuracy: \u001b[31m0.5631\u001b[0m\u001b[0m\n"
     ]
    },
    {
     "name": "stderr",
     "output_type": "stream",
     "text": [
      "Epoch 7/10: 100%|██████████| 92/92 [00:20<00:00,  4.43batch/s, loss=0.6563, family_acc=0.6828, genus_acc=0.6637, species_acc=0.6465]\n"
     ]
    },
    {
     "name": "stdout",
     "output_type": "stream",
     "text": [
      "\u001b[32m2025-01-07 14:28:45.912\u001b[0m | \u001b[1mINFO    \u001b[0m | \u001b[36m__main__\u001b[0m:\u001b[36mon_epoch_end\u001b[0m:\u001b[36m53\u001b[0m - \u001b[1mEpoch 7 completed - Loss: 0.6563, Val Family Accuracy: \u001b[31m0.6681\u001b[0m, Val Genus Accuracy: \u001b[31m0.6295\u001b[0m, Val Species Accuracy: \u001b[31m0.5889\u001b[0m\u001b[0m\n"
     ]
    },
    {
     "name": "stderr",
     "output_type": "stream",
     "text": [
      "Epoch 8/10: 100%|██████████| 92/92 [00:20<00:00,  4.44batch/s, loss=0.5987, family_acc=0.7056, genus_acc=0.6891, species_acc=0.6762]\n"
     ]
    },
    {
     "name": "stdout",
     "output_type": "stream",
     "text": [
      "\u001b[32m2025-01-07 14:29:06.634\u001b[0m | \u001b[1mINFO    \u001b[0m | \u001b[36m__main__\u001b[0m:\u001b[36mon_epoch_end\u001b[0m:\u001b[36m53\u001b[0m - \u001b[1mEpoch 8 completed - Loss: 0.5987, Val Family Accuracy: \u001b[31m0.6769\u001b[0m, Val Genus Accuracy: \u001b[31m0.6427\u001b[0m, Val Species Accuracy: \u001b[31m0.6029\u001b[0m\u001b[0m\n"
     ]
    },
    {
     "name": "stderr",
     "output_type": "stream",
     "text": [
      "Epoch 9/10: 100%|██████████| 92/92 [00:20<00:00,  4.42batch/s, loss=0.5518, family_acc=0.7187, genus_acc=0.7108, species_acc=0.6984]\n"
     ]
    },
    {
     "name": "stdout",
     "output_type": "stream",
     "text": [
      "\u001b[32m2025-01-07 14:29:27.452\u001b[0m | \u001b[1mINFO    \u001b[0m | \u001b[36m__main__\u001b[0m:\u001b[36mon_epoch_end\u001b[0m:\u001b[36m53\u001b[0m - \u001b[1mEpoch 9 completed - Loss: 0.5518, Val Family Accuracy: \u001b[31m0.6912\u001b[0m, Val Genus Accuracy: \u001b[31m0.6594\u001b[0m, Val Species Accuracy: \u001b[31m0.6112\u001b[0m\u001b[0m\n"
     ]
    },
    {
     "name": "stderr",
     "output_type": "stream",
     "text": [
      "Epoch 10/10: 100%|██████████| 92/92 [00:20<00:00,  4.46batch/s, loss=0.5119, family_acc=0.7349, genus_acc=0.7296, species_acc=0.7156]"
     ]
    },
    {
     "name": "stdout",
     "output_type": "stream",
     "text": [
      "\u001b[32m2025-01-07 14:29:48.082\u001b[0m | \u001b[1mINFO    \u001b[0m | \u001b[36m__main__\u001b[0m:\u001b[36mon_epoch_end\u001b[0m:\u001b[36m53\u001b[0m - \u001b[1mEpoch 10 completed - Loss: 0.5119, Val Family Accuracy: \u001b[31m0.6984\u001b[0m, Val Genus Accuracy: \u001b[31m0.6689\u001b[0m, Val Species Accuracy: \u001b[31m0.6275\u001b[0m\u001b[0m\n"
     ]
    },
    {
     "name": "stderr",
     "output_type": "stream",
     "text": [
      "\n"
     ]
    }
   ],
   "source": [
    "history_simple = model_simple.fit(\n",
    "    train_ds,\n",
    "    validation_data=val_ds,\n",
    "    epochs=10,\n",
    "    callbacks=callbacks,\n",
    "    verbose=0\n",
    ")"
   ]
  },
  {
   "cell_type": "code",
   "execution_count": 7,
   "metadata": {},
   "outputs": [
    {
     "name": "stderr",
     "output_type": "stream",
     "text": [
      "Epoch 1/10:   0%|          | 0/92 [00:00<?, ?batch/s]2025-01-07 14:44:39.521606: I tensorflow/core/grappler/optimizers/custom_graph_optimizer_registry.cc:117] Plugin optimizer for device_type GPU is enabled.\n",
      "2025-01-07 14:44:53.900604: I tensorflow/core/kernels/data/shuffle_dataset_op.cc:450] ShuffleDatasetV3:5: Filling up shuffle buffer (this may take a while): 30 of 11722\n",
      "2025-01-07 14:45:04.090574: I tensorflow/core/kernels/data/shuffle_dataset_op.cc:450] ShuffleDatasetV3:5: Filling up shuffle buffer (this may take a while): 62 of 11722\n",
      "2025-01-07 14:45:13.456870: I tensorflow/core/kernels/data/shuffle_dataset_op.cc:480] Shuffle buffer filled.\n",
      "2025-01-07 14:45:13.456946: I tensorflow/core/kernels/data/shuffle_dataset_op.cc:480] Shuffle buffer filled.\n",
      "Epoch 1/10: 100%|██████████| 92/92 [01:24<00:00,  1.09batch/s, loss=2.3151, family_acc=0.2024, genus_acc=0.1156, species_acc=0.0922] \n"
     ]
    },
    {
     "name": "stdout",
     "output_type": "stream",
     "text": [
      "\u001b[32m2025-01-07 14:46:00.987\u001b[0m | \u001b[1mINFO    \u001b[0m | \u001b[36m__main__\u001b[0m:\u001b[36mon_epoch_end\u001b[0m:\u001b[36m53\u001b[0m - \u001b[1mEpoch 1 completed - Loss: 2.3151, Val Family Accuracy: \u001b[31m0.3629\u001b[0m, Val Genus Accuracy: \u001b[31m0.2523\u001b[0m, Val Species Accuracy: \u001b[31m0.2097\u001b[0m\u001b[0m\n"
     ]
    },
    {
     "name": "stderr",
     "output_type": "stream",
     "text": [
      "Epoch 2/10: 100%|██████████| 92/92 [00:32<00:00,  2.81batch/s, loss=1.8026, family_acc=0.4076, genus_acc=0.3022, species_acc=0.2801]\n"
     ]
    },
    {
     "name": "stdout",
     "output_type": "stream",
     "text": [
      "\u001b[32m2025-01-07 14:46:33.801\u001b[0m | \u001b[1mINFO    \u001b[0m | \u001b[36m__main__\u001b[0m:\u001b[36mon_epoch_end\u001b[0m:\u001b[36m53\u001b[0m - \u001b[1mEpoch 2 completed - Loss: 1.8026, Val Family Accuracy: \u001b[31m0.4556\u001b[0m, Val Genus Accuracy: \u001b[31m0.3800\u001b[0m, Val Species Accuracy: \u001b[31m0.3534\u001b[0m\u001b[0m\n"
     ]
    },
    {
     "name": "stderr",
     "output_type": "stream",
     "text": [
      "Epoch 3/10: 100%|██████████| 92/92 [00:31<00:00,  2.90batch/s, loss=1.4840, family_acc=0.4869, genus_acc=0.4161, species_acc=0.3978]\n"
     ]
    },
    {
     "name": "stdout",
     "output_type": "stream",
     "text": [
      "\u001b[32m2025-01-07 14:47:05.546\u001b[0m | \u001b[1mINFO    \u001b[0m | \u001b[36m__main__\u001b[0m:\u001b[36mon_epoch_end\u001b[0m:\u001b[36m53\u001b[0m - \u001b[1mEpoch 3 completed - Loss: 1.4840, Val Family Accuracy: \u001b[31m0.5356\u001b[0m, Val Genus Accuracy: \u001b[31m0.4795\u001b[0m, Val Species Accuracy: \u001b[31m0.4513\u001b[0m\u001b[0m\n"
     ]
    },
    {
     "name": "stderr",
     "output_type": "stream",
     "text": [
      "Epoch 4/10: 100%|██████████| 92/92 [00:31<00:00,  2.96batch/s, loss=1.2575, family_acc=0.5657, genus_acc=0.5111, species_acc=0.4782]\n"
     ]
    },
    {
     "name": "stdout",
     "output_type": "stream",
     "text": [
      "\u001b[32m2025-01-07 14:47:36.695\u001b[0m | \u001b[1mINFO    \u001b[0m | \u001b[36m__main__\u001b[0m:\u001b[36mon_epoch_end\u001b[0m:\u001b[36m53\u001b[0m - \u001b[1mEpoch 4 completed - Loss: 1.2575, Val Family Accuracy: \u001b[31m0.6060\u001b[0m, Val Genus Accuracy: \u001b[31m0.5571\u001b[0m, Val Species Accuracy: \u001b[31m0.5113\u001b[0m\u001b[0m\n"
     ]
    },
    {
     "name": "stderr",
     "output_type": "stream",
     "text": [
      "Epoch 5/10: 100%|██████████| 92/92 [00:32<00:00,  2.79batch/s, loss=1.0909, family_acc=0.6212, genus_acc=0.5712, species_acc=0.5430]\n"
     ]
    },
    {
     "name": "stdout",
     "output_type": "stream",
     "text": [
      "\u001b[32m2025-01-07 14:48:09.639\u001b[0m | \u001b[1mINFO    \u001b[0m | \u001b[36m__main__\u001b[0m:\u001b[36mon_epoch_end\u001b[0m:\u001b[36m53\u001b[0m - \u001b[1mEpoch 5 completed - Loss: 1.0909, Val Family Accuracy: \u001b[31m0.6522\u001b[0m, Val Genus Accuracy: \u001b[31m0.6001\u001b[0m, Val Species Accuracy: \u001b[31m0.5663\u001b[0m\u001b[0m\n"
     ]
    },
    {
     "name": "stderr",
     "output_type": "stream",
     "text": [
      "Epoch 6/10: 100%|██████████| 92/92 [00:32<00:00,  2.87batch/s, loss=0.9648, family_acc=0.6600, genus_acc=0.6187, species_acc=0.5910]\n"
     ]
    },
    {
     "name": "stdout",
     "output_type": "stream",
     "text": [
      "\u001b[32m2025-01-07 14:48:41.699\u001b[0m | \u001b[1mINFO    \u001b[0m | \u001b[36m__main__\u001b[0m:\u001b[36mon_epoch_end\u001b[0m:\u001b[36m53\u001b[0m - \u001b[1mEpoch 6 completed - Loss: 0.9648, Val Family Accuracy: \u001b[31m0.6856\u001b[0m, Val Genus Accuracy: \u001b[31m0.6419\u001b[0m, Val Species Accuracy: \u001b[31m0.6049\u001b[0m\u001b[0m\n"
     ]
    },
    {
     "name": "stderr",
     "output_type": "stream",
     "text": [
      "Epoch 7/10: 100%|██████████| 92/92 [00:33<00:00,  2.77batch/s, loss=0.8665, family_acc=0.6814, genus_acc=0.6577, species_acc=0.6309]\n"
     ]
    },
    {
     "name": "stdout",
     "output_type": "stream",
     "text": [
      "\u001b[32m2025-01-07 14:49:14.871\u001b[0m | \u001b[1mINFO    \u001b[0m | \u001b[36m__main__\u001b[0m:\u001b[36mon_epoch_end\u001b[0m:\u001b[36m53\u001b[0m - \u001b[1mEpoch 7 completed - Loss: 0.8665, Val Family Accuracy: \u001b[31m0.7043\u001b[0m, Val Genus Accuracy: \u001b[31m0.6757\u001b[0m, Val Species Accuracy: \u001b[31m0.6367\u001b[0m\u001b[0m\n"
     ]
    },
    {
     "name": "stderr",
     "output_type": "stream",
     "text": [
      "Epoch 8/10: 100%|██████████| 92/92 [00:33<00:00,  2.78batch/s, loss=0.7912, family_acc=0.7001, genus_acc=0.6786, species_acc=0.6579]\n"
     ]
    },
    {
     "name": "stdout",
     "output_type": "stream",
     "text": [
      "\u001b[32m2025-01-07 14:49:47.940\u001b[0m | \u001b[1mINFO    \u001b[0m | \u001b[36m__main__\u001b[0m:\u001b[36mon_epoch_end\u001b[0m:\u001b[36m53\u001b[0m - \u001b[1mEpoch 8 completed - Loss: 0.7912, Val Family Accuracy: \u001b[31m0.7250\u001b[0m, Val Genus Accuracy: \u001b[31m0.6936\u001b[0m, Val Species Accuracy: \u001b[31m0.6518\u001b[0m\u001b[0m\n"
     ]
    },
    {
     "name": "stderr",
     "output_type": "stream",
     "text": [
      "Epoch 9/10: 100%|██████████| 92/92 [00:34<00:00,  2.65batch/s, loss=0.7299, family_acc=0.7237, genus_acc=0.7054, species_acc=0.6818]\n"
     ]
    },
    {
     "name": "stdout",
     "output_type": "stream",
     "text": [
      "\u001b[32m2025-01-07 14:50:22.644\u001b[0m | \u001b[1mINFO    \u001b[0m | \u001b[36m__main__\u001b[0m:\u001b[36mon_epoch_end\u001b[0m:\u001b[36m53\u001b[0m - \u001b[1mEpoch 9 completed - Loss: 0.7299, Val Family Accuracy: \u001b[31m0.7374\u001b[0m, Val Genus Accuracy: \u001b[31m0.7147\u001b[0m, Val Species Accuracy: \u001b[31m0.6697\u001b[0m\u001b[0m\n"
     ]
    },
    {
     "name": "stderr",
     "output_type": "stream",
     "text": [
      "Epoch 10/10: 100%|██████████| 92/92 [00:33<00:00,  2.76batch/s, loss=0.6815, family_acc=0.7302, genus_acc=0.7166, species_acc=0.6995]"
     ]
    },
    {
     "name": "stdout",
     "output_type": "stream",
     "text": [
      "\u001b[32m2025-01-07 14:50:55.975\u001b[0m | \u001b[1mINFO    \u001b[0m | \u001b[36m__main__\u001b[0m:\u001b[36mon_epoch_end\u001b[0m:\u001b[36m53\u001b[0m - \u001b[1mEpoch 10 completed - Loss: 0.6815, Val Family Accuracy: \u001b[31m0.7489\u001b[0m, Val Genus Accuracy: \u001b[31m0.7234\u001b[0m, Val Species Accuracy: \u001b[31m0.6836\u001b[0m\u001b[0m\n"
     ]
    },
    {
     "name": "stderr",
     "output_type": "stream",
     "text": [
      "\n"
     ]
    }
   ],
   "source": [
    "def model_simple_v01(model_name, labels, augmentation_layer=data_augmentation, pretrain_model=\"RN50V2\", image_shape=(224, 224, 3)):\n",
    "    \n",
    "    if pretrain_model == \"RN50V2\":\n",
    "        base_model = ResNet50V2(include_top=False, weights='imagenet', input_shape=image_shape)\n",
    "        base_model.trainable = False\n",
    "        preprocess = resnet_preprocess\n",
    "    elif pretrain_model == \"EFFV2B0\":\n",
    "        base_model = EfficientNetV2B0(include_top=False, weights='imagenet', input_shape=image_shape)\n",
    "        base_model.trainable = False\n",
    "        preprocess = efficientnet_preprocess\n",
    "    \n",
    "    inputs = Input(shape=image_shape, name='input')\n",
    "    x = preprocess(inputs)\n",
    "    x = base_model(x, training=False)\n",
    "    \n",
    "    # PreTrain Model Features Extractor\n",
    "    features = GlobalAveragePooling2D()(x)\n",
    "    \n",
    "    # Family Output\n",
    "    family_output = Dense(len(labels['family']), activation='softmax', name='family')(features)\n",
    "    \n",
    "    # Genus Output\n",
    "    genus_output = Dense(len(labels['genus']), activation='softmax', name='genus')(features)\n",
    "    \n",
    "    # Species Output\n",
    "    species_output = Dense(len(labels['species']), activation='softmax', name='species')(features)\n",
    "    \n",
    "    name = f\"{model_name}_{pretrain_model}\"\n",
    "    model = tf.keras.Model(inputs, [family_output, genus_output, species_output], name=name)\n",
    "    \n",
    "    model.compile(\n",
    "        optimizer=tf.keras.optimizers.Adam(learning_rate=0.0001),\n",
    "        loss=tf.keras.losses.CategoricalFocalCrossentropy(),\n",
    "        metrics = {\n",
    "            'family': [\"accuracy\", \"AUC\", \"Precision\", \"Recall\"],\n",
    "            'genus': [\"accuracy\", \"AUC\", \"Precision\", \"Recall\"],\n",
    "            'species': [\"accuracy\", \"AUC\", \"Precision\", \"Recall\"],\n",
    "        },\n",
    "    )\n",
    "    \n",
    "    return model\n",
    "\n",
    "model_simple_eff = model_simple_v01(\"SimpleModel\", names, pretrain_model='EFFV2B0', image_shape=image_shape)\n",
    "\n",
    "history_simple_eff = model_simple_eff.fit(\n",
    "    train_ds,\n",
    "    validation_data=val_ds,\n",
    "    epochs=10,\n",
    "    callbacks=callbacks,\n",
    "    verbose=0\n",
    ")"
   ]
  },
  {
   "cell_type": "code",
   "execution_count": 7,
   "metadata": {},
   "outputs": [
    {
     "name": "stderr",
     "output_type": "stream",
     "text": [
      "Epoch 1/10:   0%|          | 0/92 [00:00<?, ?batch/s]2025-01-07 16:07:55.604917: I tensorflow/core/grappler/optimizers/custom_graph_optimizer_registry.cc:117] Plugin optimizer for device_type GPU is enabled.\n",
      "2025-01-07 16:08:10.626941: I tensorflow/core/kernels/data/shuffle_dataset_op.cc:450] ShuffleDatasetV3:5: Filling up shuffle buffer (this may take a while): 31 of 11722\n",
      "2025-01-07 16:08:29.637283: I tensorflow/core/kernels/data/shuffle_dataset_op.cc:480] Shuffle buffer filled.\n",
      "2025-01-07 16:08:29.637306: I tensorflow/core/kernels/data/shuffle_dataset_op.cc:450] ShuffleDatasetV3:19: Filling up shuffle buffer (this may take a while): 1 of 1000\n",
      "2025-01-07 16:08:29.637370: I tensorflow/core/kernels/data/shuffle_dataset_op.cc:480] Shuffle buffer filled.\n",
      "Epoch 1/10: 100%|██████████| 92/92 [01:54<00:00,  1.25s/batch, loss=0.9311, family_acc=0.5589, genus_acc=0.5900, species_acc=0.6620] \n"
     ]
    },
    {
     "name": "stdout",
     "output_type": "stream",
     "text": [
      "\u001b[32m2025-01-07 16:09:46.882\u001b[0m | \u001b[1mINFO    \u001b[0m | \u001b[36m__main__\u001b[0m:\u001b[36mon_epoch_end\u001b[0m:\u001b[36m53\u001b[0m - \u001b[1mEpoch 1 completed - Loss: 0.9311, Val Family Accuracy: \u001b[33m0.7636\u001b[0m, Val Genus Accuracy: \u001b[33m0.8082\u001b[0m, Val Species Accuracy: \u001b[33m0.7577\u001b[0m\u001b[0m\n"
     ]
    },
    {
     "name": "stderr",
     "output_type": "stream",
     "text": [
      "Epoch 2/10: 100%|██████████| 92/92 [01:01<00:00,  1.50batch/s, loss=0.2535, family_acc=0.8111, genus_acc=0.8599, species_acc=0.9051]\n"
     ]
    },
    {
     "name": "stdout",
     "output_type": "stream",
     "text": [
      "\u001b[32m2025-01-07 16:10:48.031\u001b[0m | \u001b[1mINFO    \u001b[0m | \u001b[36m__main__\u001b[0m:\u001b[36mon_epoch_end\u001b[0m:\u001b[36m53\u001b[0m - \u001b[1mEpoch 2 completed - Loss: 0.2535, Val Family Accuracy: \u001b[33m0.8468\u001b[0m, Val Genus Accuracy: \u001b[32m0.8619\u001b[0m, Val Species Accuracy: \u001b[33m0.8432\u001b[0m\u001b[0m\n"
     ]
    },
    {
     "name": "stderr",
     "output_type": "stream",
     "text": [
      "Epoch 3/10: 100%|██████████| 92/92 [01:00<00:00,  1.52batch/s, loss=0.1499, family_acc=0.8645, genus_acc=0.9131, species_acc=0.9487]\n"
     ]
    },
    {
     "name": "stdout",
     "output_type": "stream",
     "text": [
      "\u001b[32m2025-01-07 16:11:48.657\u001b[0m | \u001b[1mINFO    \u001b[0m | \u001b[36m__main__\u001b[0m:\u001b[36mon_epoch_end\u001b[0m:\u001b[36m53\u001b[0m - \u001b[1mEpoch 3 completed - Loss: 0.1499, Val Family Accuracy: \u001b[32m0.8747\u001b[0m, Val Genus Accuracy: \u001b[32m0.8790\u001b[0m, Val Species Accuracy: \u001b[32m0.8679\u001b[0m\u001b[0m\n"
     ]
    },
    {
     "name": "stderr",
     "output_type": "stream",
     "text": [
      "Epoch 4/10: 100%|██████████| 92/92 [01:00<00:00,  1.52batch/s, loss=0.1038, family_acc=0.8844, genus_acc=0.9411, species_acc=0.9681]\n"
     ]
    },
    {
     "name": "stdout",
     "output_type": "stream",
     "text": [
      "\u001b[32m2025-01-07 16:12:49.312\u001b[0m | \u001b[1mINFO    \u001b[0m | \u001b[36m__main__\u001b[0m:\u001b[36mon_epoch_end\u001b[0m:\u001b[36m53\u001b[0m - \u001b[1mEpoch 4 completed - Loss: 0.1038, Val Family Accuracy: \u001b[32m0.8890\u001b[0m, Val Genus Accuracy: \u001b[32m0.8945\u001b[0m, Val Species Accuracy: \u001b[32m0.8826\u001b[0m\u001b[0m\n"
     ]
    },
    {
     "name": "stderr",
     "output_type": "stream",
     "text": [
      "Epoch 5/10: 100%|██████████| 92/92 [01:00<00:00,  1.51batch/s, loss=0.0786, family_acc=0.9072, genus_acc=0.9596, species_acc=0.9756]\n"
     ]
    },
    {
     "name": "stdout",
     "output_type": "stream",
     "text": [
      "\u001b[32m2025-01-07 16:13:50.212\u001b[0m | \u001b[1mINFO    \u001b[0m | \u001b[36m__main__\u001b[0m:\u001b[36mon_epoch_end\u001b[0m:\u001b[36m53\u001b[0m - \u001b[1mEpoch 5 completed - Loss: 0.0786, Val Family Accuracy: \u001b[32m0.8981\u001b[0m, Val Genus Accuracy: \u001b[32m0.9045\u001b[0m, Val Species Accuracy: \u001b[32m0.8838\u001b[0m\u001b[0m\n"
     ]
    },
    {
     "name": "stderr",
     "output_type": "stream",
     "text": [
      "Epoch 6/10: 100%|██████████| 92/92 [01:00<00:00,  1.51batch/s, loss=0.0600, family_acc=0.9226, genus_acc=0.9711, species_acc=0.9829]\n"
     ]
    },
    {
     "name": "stdout",
     "output_type": "stream",
     "text": [
      "\u001b[32m2025-01-07 16:14:50.961\u001b[0m | \u001b[1mINFO    \u001b[0m | \u001b[36m__main__\u001b[0m:\u001b[36mon_epoch_end\u001b[0m:\u001b[36m53\u001b[0m - \u001b[1mEpoch 6 completed - Loss: 0.0600, Val Family Accuracy: \u001b[32m0.9073\u001b[0m, Val Genus Accuracy: \u001b[32m0.9037\u001b[0m, Val Species Accuracy: \u001b[32m0.8814\u001b[0m\u001b[0m\n"
     ]
    },
    {
     "name": "stderr",
     "output_type": "stream",
     "text": [
      "Epoch 7/10: 100%|██████████| 92/92 [01:02<00:00,  1.47batch/s, loss=0.0506, family_acc=0.9309, genus_acc=0.9784, species_acc=0.9853]\n"
     ]
    },
    {
     "name": "stdout",
     "output_type": "stream",
     "text": [
      "\u001b[32m2025-01-07 16:15:53.403\u001b[0m | \u001b[1mINFO    \u001b[0m | \u001b[36m__main__\u001b[0m:\u001b[36mon_epoch_end\u001b[0m:\u001b[36m53\u001b[0m - \u001b[1mEpoch 7 completed - Loss: 0.0506, Val Family Accuracy: \u001b[32m0.9129\u001b[0m, Val Genus Accuracy: \u001b[32m0.9081\u001b[0m, Val Species Accuracy: \u001b[32m0.8854\u001b[0m\u001b[0m\n"
     ]
    },
    {
     "name": "stderr",
     "output_type": "stream",
     "text": [
      "Epoch 8/10: 100%|██████████| 92/92 [01:00<00:00,  1.52batch/s, loss=0.0420, family_acc=0.9426, genus_acc=0.9835, species_acc=0.9851]\n"
     ]
    },
    {
     "name": "stdout",
     "output_type": "stream",
     "text": [
      "\u001b[32m2025-01-07 16:16:54.042\u001b[0m | \u001b[1mINFO    \u001b[0m | \u001b[36m__main__\u001b[0m:\u001b[36mon_epoch_end\u001b[0m:\u001b[36m53\u001b[0m - \u001b[1mEpoch 8 completed - Loss: 0.0420, Val Family Accuracy: \u001b[32m0.9184\u001b[0m, Val Genus Accuracy: \u001b[32m0.9105\u001b[0m, Val Species Accuracy: \u001b[32m0.8898\u001b[0m\u001b[0m\n"
     ]
    },
    {
     "name": "stderr",
     "output_type": "stream",
     "text": [
      "Epoch 9/10: 100%|██████████| 92/92 [01:00<00:00,  1.52batch/s, loss=0.0363, family_acc=0.9474, genus_acc=0.9868, species_acc=0.9858]\n"
     ]
    },
    {
     "name": "stdout",
     "output_type": "stream",
     "text": [
      "\u001b[32m2025-01-07 16:17:54.508\u001b[0m | \u001b[1mINFO    \u001b[0m | \u001b[36m__main__\u001b[0m:\u001b[36mon_epoch_end\u001b[0m:\u001b[36m53\u001b[0m - \u001b[1mEpoch 9 completed - Loss: 0.0363, Val Family Accuracy: \u001b[32m0.9196\u001b[0m, Val Genus Accuracy: \u001b[32m0.9152\u001b[0m, Val Species Accuracy: \u001b[32m0.8870\u001b[0m\u001b[0m\n"
     ]
    },
    {
     "name": "stderr",
     "output_type": "stream",
     "text": [
      "Epoch 10/10: 100%|██████████| 92/92 [01:03<00:00,  1.45batch/s, loss=0.0313, family_acc=0.9538, genus_acc=0.9878, species_acc=0.9878]"
     ]
    },
    {
     "name": "stdout",
     "output_type": "stream",
     "text": [
      "\u001b[32m2025-01-07 16:18:58.044\u001b[0m | \u001b[1mINFO    \u001b[0m | \u001b[36m__main__\u001b[0m:\u001b[36mon_epoch_end\u001b[0m:\u001b[36m53\u001b[0m - \u001b[1mEpoch 10 completed - Loss: 0.0313, Val Family Accuracy: \u001b[32m0.9196\u001b[0m, Val Genus Accuracy: \u001b[32m0.9160\u001b[0m, Val Species Accuracy: \u001b[32m0.8953\u001b[0m\u001b[0m\n"
     ]
    },
    {
     "name": "stderr",
     "output_type": "stream",
     "text": [
      "\n"
     ]
    }
   ],
   "source": [
    "base_model = EfficientNetV2B0(include_top=False, weights='imagenet', input_shape=image_shape)\n",
    "base_model.trainable = False\n",
    "preprocess = efficientnet_preprocess\n",
    "\n",
    "inputs = Input(shape=image_shape, name='input')\n",
    "x = preprocess(inputs)\n",
    "x = base_model(x, training=False)\n",
    "\n",
    "# PreTrain Model Features Extractor\n",
    "features = GlobalAveragePooling2D()(x)\n",
    "\n",
    "shared_layer = Dense(1024,name='shared_layer')(features)\n",
    "shared_layer = BatchNormalization()(shared_layer)\n",
    "shared_layer = Activation('relu')(shared_layer)\n",
    "\n",
    "# Family Output\n",
    "family_output = Dense(len(names['family']), activation='softmax', name='family')(shared_layer)\n",
    "\n",
    "# Genus Output\n",
    "genus_hidden = Dense(2048,name='genus_hidden')(shared_layer)\n",
    "genus_hidden = BatchNormalization()(genus_hidden)\n",
    "genus_hidden = Activation('relu')(genus_hidden)\n",
    "genus_output = Dense(len(names['genus']), activation='softmax', name='genus')(genus_hidden)\n",
    "\n",
    "# Species Output\n",
    "species_hidden = Dense(4096,name='species_hidden')(genus_hidden)\n",
    "species_hidden = BatchNormalization()(species_hidden)\n",
    "species_hidden = Activation('relu')(species_hidden)\n",
    "species_output = Dense(len(names['species']), activation='softmax', name='species')(species_hidden)\n",
    "\n",
    "name = f\"ModelShared_EFFV2B0\"\n",
    "model_shared_eff = tf.keras.Model(inputs, [family_output, genus_output, species_output], name=name)\n",
    "\n",
    "model_shared_eff.compile(\n",
    "    optimizer=tf.keras.optimizers.Adam(learning_rate=0.0001),\n",
    "    loss=tf.keras.losses.CategoricalFocalCrossentropy(),\n",
    "    metrics = {\n",
    "        'family': [\"accuracy\", \"AUC\", \"Precision\", \"Recall\"],\n",
    "        'genus': [\"accuracy\", \"AUC\", \"Precision\", \"Recall\"],\n",
    "        'species': [\"accuracy\", \"AUC\", \"Precision\", \"Recall\"],\n",
    "    },\n",
    ")\n",
    "\n",
    "history = model_shared_eff.fit(\n",
    "    train_ds,\n",
    "    validation_data=val_ds,\n",
    "    epochs=10,\n",
    "    callbacks=callbacks,\n",
    "    verbose=0\n",
    ")"
   ]
  },
  {
   "cell_type": "code",
   "execution_count": 6,
   "metadata": {},
   "outputs": [
    {
     "name": "stderr",
     "output_type": "stream",
     "text": [
      "/Users/leonardo/miniconda3/envs/cvenv/lib/python3.10/site-packages/keras/src/layers/activations/leaky_relu.py:41: UserWarning: Argument `alpha` is deprecated. Use `negative_slope` instead.\n",
      "  warnings.warn(\n",
      "Epoch 1/10:   0%|          | 0/92 [00:00<?, ?batch/s]2025-01-07 15:39:36.827421: I tensorflow/core/grappler/optimizers/custom_graph_optimizer_registry.cc:117] Plugin optimizer for device_type GPU is enabled.\n",
      "2025-01-07 15:39:51.501579: I tensorflow/core/kernels/data/shuffle_dataset_op.cc:450] ShuffleDatasetV3:5: Filling up shuffle buffer (this may take a while): 31 of 11722\n",
      "2025-01-07 15:40:01.616371: I tensorflow/core/kernels/data/shuffle_dataset_op.cc:450] ShuffleDatasetV3:5: Filling up shuffle buffer (this may take a while): 63 of 11722\n",
      "2025-01-07 15:40:10.473097: I tensorflow/core/kernels/data/shuffle_dataset_op.cc:480] Shuffle buffer filled.\n",
      "2025-01-07 15:40:10.473234: I tensorflow/core/kernels/data/shuffle_dataset_op.cc:480] Shuffle buffer filled.\n",
      "Epoch 1/10: 100%|██████████| 92/92 [01:53<00:00,  1.23s/batch, loss=1.4136, family_acc=0.5790, genus_acc=0.4439, species_acc=0.3601]\n"
     ]
    },
    {
     "name": "stdout",
     "output_type": "stream",
     "text": [
      "\u001b[32m2025-01-07 15:41:26.817\u001b[0m | \u001b[1mINFO    \u001b[0m | \u001b[36m__main__\u001b[0m:\u001b[36mon_epoch_end\u001b[0m:\u001b[36m53\u001b[0m - \u001b[1mEpoch 1 completed - Loss: 1.4136, Val Family Accuracy: \u001b[33m0.7604\u001b[0m, Val Genus Accuracy: \u001b[31m0.6892\u001b[0m, Val Species Accuracy: \u001b[31m0.6076\u001b[0m\u001b[0m\n"
     ]
    },
    {
     "name": "stderr",
     "output_type": "stream",
     "text": [
      "Epoch 2/10: 100%|██████████| 92/92 [01:02<00:00,  1.48batch/s, loss=0.5456, family_acc=0.8112, genus_acc=0.7605, species_acc=0.7094]\n"
     ]
    },
    {
     "name": "stdout",
     "output_type": "stream",
     "text": [
      "\u001b[32m2025-01-07 15:42:29.154\u001b[0m | \u001b[1mINFO    \u001b[0m | \u001b[36m__main__\u001b[0m:\u001b[36mon_epoch_end\u001b[0m:\u001b[36m53\u001b[0m - \u001b[1mEpoch 2 completed - Loss: 0.5456, Val Family Accuracy: \u001b[33m0.8424\u001b[0m, Val Genus Accuracy: \u001b[33m0.8201\u001b[0m, Val Species Accuracy: \u001b[33m0.7676\u001b[0m\u001b[0m\n"
     ]
    },
    {
     "name": "stderr",
     "output_type": "stream",
     "text": [
      "Epoch 3/10: 100%|██████████| 92/92 [01:00<00:00,  1.51batch/s, loss=0.3497, family_acc=0.8627, genus_acc=0.8431, species_acc=0.8046]\n"
     ]
    },
    {
     "name": "stdout",
     "output_type": "stream",
     "text": [
      "\u001b[32m2025-01-07 15:43:29.956\u001b[0m | \u001b[1mINFO    \u001b[0m | \u001b[36m__main__\u001b[0m:\u001b[36mon_epoch_end\u001b[0m:\u001b[36m53\u001b[0m - \u001b[1mEpoch 3 completed - Loss: 0.3497, Val Family Accuracy: \u001b[32m0.8671\u001b[0m, Val Genus Accuracy: \u001b[32m0.8548\u001b[0m, Val Species Accuracy: \u001b[33m0.8181\u001b[0m\u001b[0m\n"
     ]
    },
    {
     "name": "stderr",
     "output_type": "stream",
     "text": [
      "Epoch 4/10: 100%|██████████| 92/92 [01:01<00:00,  1.49batch/s, loss=0.2588, family_acc=0.8923, genus_acc=0.8810, species_acc=0.8497]\n"
     ]
    },
    {
     "name": "stdout",
     "output_type": "stream",
     "text": [
      "\u001b[32m2025-01-07 15:44:31.803\u001b[0m | \u001b[1mINFO    \u001b[0m | \u001b[36m__main__\u001b[0m:\u001b[36mon_epoch_end\u001b[0m:\u001b[36m53\u001b[0m - \u001b[1mEpoch 4 completed - Loss: 0.2588, Val Family Accuracy: \u001b[32m0.8786\u001b[0m, Val Genus Accuracy: \u001b[32m0.8655\u001b[0m, Val Species Accuracy: \u001b[33m0.8404\u001b[0m\u001b[0m\n"
     ]
    },
    {
     "name": "stderr",
     "output_type": "stream",
     "text": [
      "Epoch 5/10: 100%|██████████| 92/92 [01:02<00:00,  1.47batch/s, loss=0.2072, family_acc=0.9046, genus_acc=0.8995, species_acc=0.8772]\n"
     ]
    },
    {
     "name": "stdout",
     "output_type": "stream",
     "text": [
      "\u001b[32m2025-01-07 15:45:34.229\u001b[0m | \u001b[1mINFO    \u001b[0m | \u001b[36m__main__\u001b[0m:\u001b[36mon_epoch_end\u001b[0m:\u001b[36m53\u001b[0m - \u001b[1mEpoch 5 completed - Loss: 0.2072, Val Family Accuracy: \u001b[32m0.8878\u001b[0m, Val Genus Accuracy: \u001b[32m0.8798\u001b[0m, Val Species Accuracy: \u001b[32m0.8563\u001b[0m\u001b[0m\n"
     ]
    },
    {
     "name": "stderr",
     "output_type": "stream",
     "text": [
      "Epoch 6/10: 100%|██████████| 92/92 [01:03<00:00,  1.45batch/s, loss=0.1685, family_acc=0.9191, genus_acc=0.9172, species_acc=0.8987]\n"
     ]
    },
    {
     "name": "stdout",
     "output_type": "stream",
     "text": [
      "\u001b[32m2025-01-07 15:46:37.849\u001b[0m | \u001b[1mINFO    \u001b[0m | \u001b[36m__main__\u001b[0m:\u001b[36mon_epoch_end\u001b[0m:\u001b[36m53\u001b[0m - \u001b[1mEpoch 6 completed - Loss: 0.1685, Val Family Accuracy: \u001b[32m0.8985\u001b[0m, Val Genus Accuracy: \u001b[32m0.8878\u001b[0m, Val Species Accuracy: \u001b[32m0.8691\u001b[0m\u001b[0m\n"
     ]
    },
    {
     "name": "stderr",
     "output_type": "stream",
     "text": [
      "Epoch 7/10: 100%|██████████| 92/92 [01:05<00:00,  1.41batch/s, loss=0.1382, family_acc=0.9323, genus_acc=0.9300, species_acc=0.9149]\n"
     ]
    },
    {
     "name": "stdout",
     "output_type": "stream",
     "text": [
      "\u001b[32m2025-01-07 15:47:43.314\u001b[0m | \u001b[1mINFO    \u001b[0m | \u001b[36m__main__\u001b[0m:\u001b[36mon_epoch_end\u001b[0m:\u001b[36m53\u001b[0m - \u001b[1mEpoch 7 completed - Loss: 0.1382, Val Family Accuracy: \u001b[32m0.9065\u001b[0m, Val Genus Accuracy: \u001b[32m0.8910\u001b[0m, Val Species Accuracy: \u001b[32m0.8802\u001b[0m\u001b[0m\n"
     ]
    },
    {
     "name": "stderr",
     "output_type": "stream",
     "text": [
      "Epoch 8/10: 100%|██████████| 92/92 [01:04<00:00,  1.43batch/s, loss=0.1162, family_acc=0.9386, genus_acc=0.9413, species_acc=0.9271]\n"
     ]
    },
    {
     "name": "stdout",
     "output_type": "stream",
     "text": [
      "\u001b[32m2025-01-07 15:48:47.702\u001b[0m | \u001b[1mINFO    \u001b[0m | \u001b[36m__main__\u001b[0m:\u001b[36mon_epoch_end\u001b[0m:\u001b[36m53\u001b[0m - \u001b[1mEpoch 8 completed - Loss: 0.1162, Val Family Accuracy: \u001b[32m0.9065\u001b[0m, Val Genus Accuracy: \u001b[32m0.8977\u001b[0m, Val Species Accuracy: \u001b[32m0.8842\u001b[0m\u001b[0m\n"
     ]
    },
    {
     "name": "stderr",
     "output_type": "stream",
     "text": [
      "Epoch 9/10: 100%|██████████| 92/92 [01:02<00:00,  1.46batch/s, loss=0.1018, family_acc=0.9438, genus_acc=0.9454, species_acc=0.9331]\n"
     ]
    },
    {
     "name": "stdout",
     "output_type": "stream",
     "text": [
      "\u001b[32m2025-01-07 15:49:50.572\u001b[0m | \u001b[1mINFO    \u001b[0m | \u001b[36m__main__\u001b[0m:\u001b[36mon_epoch_end\u001b[0m:\u001b[36m53\u001b[0m - \u001b[1mEpoch 9 completed - Loss: 0.1018, Val Family Accuracy: \u001b[32m0.9117\u001b[0m, Val Genus Accuracy: \u001b[32m0.9005\u001b[0m, Val Species Accuracy: \u001b[32m0.8870\u001b[0m\u001b[0m\n"
     ]
    },
    {
     "name": "stderr",
     "output_type": "stream",
     "text": [
      "Epoch 10/10: 100%|██████████| 92/92 [01:02<00:00,  1.48batch/s, loss=0.0854, family_acc=0.9540, genus_acc=0.9572, species_acc=0.9461]"
     ]
    },
    {
     "name": "stdout",
     "output_type": "stream",
     "text": [
      "\u001b[32m2025-01-07 15:50:52.819\u001b[0m | \u001b[1mINFO    \u001b[0m | \u001b[36m__main__\u001b[0m:\u001b[36mon_epoch_end\u001b[0m:\u001b[36m53\u001b[0m - \u001b[1mEpoch 10 completed - Loss: 0.0854, Val Family Accuracy: \u001b[32m0.9160\u001b[0m, Val Genus Accuracy: \u001b[32m0.9037\u001b[0m, Val Species Accuracy: \u001b[32m0.8898\u001b[0m\u001b[0m\n"
     ]
    },
    {
     "name": "stderr",
     "output_type": "stream",
     "text": [
      "\n"
     ]
    }
   ],
   "source": [
    "base_model = EfficientNetV2B0(include_top=False, weights='imagenet', input_shape=image_shape)\n",
    "base_model.trainable = False\n",
    "preprocess = efficientnet_preprocess\n",
    "\n",
    "inputs = Input(shape=image_shape, name='input')\n",
    "x = preprocess(inputs)\n",
    "x = base_model(x, training=False)\n",
    "\n",
    "# PreTrain Model Features Extractor\n",
    "features = GlobalAveragePooling2D()(x)\n",
    "\n",
    "shared_layer = Dense(1024,name='shared_layer')(features)\n",
    "shared_layer = BatchNormalization()(shared_layer)\n",
    "shared_layer = LeakyReLU(alpha=0.01)(shared_layer)\n",
    "\n",
    "# Family Output\n",
    "family_output = Dense(len(names['family']), activation='softmax', name='family')(shared_layer)\n",
    "\n",
    "# Genus Output\n",
    "genus_output = Dense(len(names['genus']), activation='softmax', name='genus')(shared_layer)\n",
    "\n",
    "# Species Output\n",
    "species_output = Dense(len(names['species']), activation='softmax', name='species')(shared_layer)\n",
    "\n",
    "name = f\"ModelShared_EFFV2B0\"\n",
    "model_shared_eff = tf.keras.Model(inputs, [family_output, genus_output, species_output], name=name)\n",
    "\n",
    "model_shared_eff.compile(\n",
    "    optimizer=tf.keras.optimizers.Adam(learning_rate=0.0001),\n",
    "    loss=tf.keras.losses.CategoricalFocalCrossentropy(),\n",
    "    metrics = {\n",
    "        'family': [\"accuracy\", \"AUC\", \"Precision\", \"Recall\"],\n",
    "        'genus': [\"accuracy\", \"AUC\", \"Precision\", \"Recall\"],\n",
    "        'species': [\"accuracy\", \"AUC\", \"Precision\", \"Recall\"],\n",
    "    },\n",
    ")\n",
    "\n",
    "history = model_shared_eff.fit(\n",
    "    train_ds,\n",
    "    validation_data=val_ds,\n",
    "    epochs=10,\n",
    "    callbacks=callbacks,\n",
    "    verbose=0\n",
    ")"
   ]
  },
  {
   "cell_type": "code",
   "execution_count": 7,
   "metadata": {},
   "outputs": [
    {
     "name": "stderr",
     "output_type": "stream",
     "text": [
      "Epoch 1/10:   0%|          | 0/92 [00:00<?, ?batch/s]2025-01-07 15:07:33.017825: I tensorflow/core/grappler/optimizers/custom_graph_optimizer_registry.cc:117] Plugin optimizer for device_type GPU is enabled.\n",
      "2025-01-07 15:07:47.386865: I tensorflow/core/kernels/data/shuffle_dataset_op.cc:450] ShuffleDatasetV3:5: Filling up shuffle buffer (this may take a while): 32 of 11722\n",
      "2025-01-07 15:08:05.501600: I tensorflow/core/kernels/data/shuffle_dataset_op.cc:480] Shuffle buffer filled.\n",
      "2025-01-07 15:08:05.501623: I tensorflow/core/kernels/data/shuffle_dataset_op.cc:450] ShuffleDatasetV3:19: Filling up shuffle buffer (this may take a while): 1 of 1000\n",
      "2025-01-07 15:08:05.501688: I tensorflow/core/kernels/data/shuffle_dataset_op.cc:480] Shuffle buffer filled.\n",
      "Epoch 1/10: 100%|██████████| 92/92 [01:46<00:00,  1.16s/batch, loss=1.4142, family_acc=0.5569, genus_acc=0.4679, species_acc=0.3575]\n"
     ]
    },
    {
     "name": "stdout",
     "output_type": "stream",
     "text": [
      "\u001b[32m2025-01-07 15:09:16.617\u001b[0m | \u001b[1mINFO    \u001b[0m | \u001b[36m__main__\u001b[0m:\u001b[36mon_epoch_end\u001b[0m:\u001b[36m53\u001b[0m - \u001b[1mEpoch 1 completed - Loss: 1.4142, Val Family Accuracy: \u001b[33m0.7593\u001b[0m, Val Genus Accuracy: \u001b[31m0.6936\u001b[0m, Val Species Accuracy: \u001b[31m0.5941\u001b[0m\u001b[0m\n"
     ]
    },
    {
     "name": "stderr",
     "output_type": "stream",
     "text": [
      "Epoch 2/10: 100%|██████████| 92/92 [01:00<00:00,  1.51batch/s, loss=0.5463, family_acc=0.8102, genus_acc=0.7682, species_acc=0.7035]\n"
     ]
    },
    {
     "name": "stdout",
     "output_type": "stream",
     "text": [
      "\u001b[32m2025-01-07 15:10:17.422\u001b[0m | \u001b[1mINFO    \u001b[0m | \u001b[36m__main__\u001b[0m:\u001b[36mon_epoch_end\u001b[0m:\u001b[36m53\u001b[0m - \u001b[1mEpoch 2 completed - Loss: 0.5463, Val Family Accuracy: \u001b[33m0.8384\u001b[0m, Val Genus Accuracy: \u001b[33m0.8189\u001b[0m, Val Species Accuracy: \u001b[33m0.7660\u001b[0m\u001b[0m\n"
     ]
    },
    {
     "name": "stderr",
     "output_type": "stream",
     "text": [
      "Epoch 3/10: 100%|██████████| 92/92 [01:01<00:00,  1.49batch/s, loss=0.3514, family_acc=0.8620, genus_acc=0.8368, species_acc=0.8079]\n"
     ]
    },
    {
     "name": "stdout",
     "output_type": "stream",
     "text": [
      "\u001b[32m2025-01-07 15:11:19.021\u001b[0m | \u001b[1mINFO    \u001b[0m | \u001b[36m__main__\u001b[0m:\u001b[36mon_epoch_end\u001b[0m:\u001b[36m53\u001b[0m - \u001b[1mEpoch 3 completed - Loss: 0.3514, Val Family Accuracy: \u001b[32m0.8607\u001b[0m, Val Genus Accuracy: \u001b[32m0.8532\u001b[0m, Val Species Accuracy: \u001b[33m0.8233\u001b[0m\u001b[0m\n"
     ]
    },
    {
     "name": "stderr",
     "output_type": "stream",
     "text": [
      "Epoch 4/10: 100%|██████████| 92/92 [01:01<00:00,  1.51batch/s, loss=0.2616, family_acc=0.8863, genus_acc=0.8769, species_acc=0.8513]\n"
     ]
    },
    {
     "name": "stdout",
     "output_type": "stream",
     "text": [
      "\u001b[32m2025-01-07 15:12:20.073\u001b[0m | \u001b[1mINFO    \u001b[0m | \u001b[36m__main__\u001b[0m:\u001b[36mon_epoch_end\u001b[0m:\u001b[36m53\u001b[0m - \u001b[1mEpoch 4 completed - Loss: 0.2616, Val Family Accuracy: \u001b[32m0.8782\u001b[0m, Val Genus Accuracy: \u001b[32m0.8699\u001b[0m, Val Species Accuracy: \u001b[32m0.8520\u001b[0m\u001b[0m\n"
     ]
    },
    {
     "name": "stderr",
     "output_type": "stream",
     "text": [
      "Epoch 5/10: 100%|██████████| 92/92 [01:01<00:00,  1.50batch/s, loss=0.2075, family_acc=0.9058, genus_acc=0.8998, species_acc=0.8774]\n"
     ]
    },
    {
     "name": "stdout",
     "output_type": "stream",
     "text": [
      "\u001b[32m2025-01-07 15:13:21.423\u001b[0m | \u001b[1mINFO    \u001b[0m | \u001b[36m__main__\u001b[0m:\u001b[36mon_epoch_end\u001b[0m:\u001b[36m53\u001b[0m - \u001b[1mEpoch 5 completed - Loss: 0.2075, Val Family Accuracy: \u001b[32m0.8858\u001b[0m, Val Genus Accuracy: \u001b[32m0.8794\u001b[0m, Val Species Accuracy: \u001b[32m0.8671\u001b[0m\u001b[0m\n"
     ]
    },
    {
     "name": "stderr",
     "output_type": "stream",
     "text": [
      "Epoch 6/10: 100%|██████████| 92/92 [00:59<00:00,  1.55batch/s, loss=0.1665, family_acc=0.9228, genus_acc=0.9155, species_acc=0.9013]\n"
     ]
    },
    {
     "name": "stdout",
     "output_type": "stream",
     "text": [
      "\u001b[32m2025-01-07 15:14:20.943\u001b[0m | \u001b[1mINFO    \u001b[0m | \u001b[36m__main__\u001b[0m:\u001b[36mon_epoch_end\u001b[0m:\u001b[36m53\u001b[0m - \u001b[1mEpoch 6 completed - Loss: 0.1665, Val Family Accuracy: \u001b[32m0.8969\u001b[0m, Val Genus Accuracy: \u001b[32m0.8894\u001b[0m, Val Species Accuracy: \u001b[32m0.8731\u001b[0m\u001b[0m\n"
     ]
    },
    {
     "name": "stderr",
     "output_type": "stream",
     "text": [
      "Epoch 7/10: 100%|██████████| 92/92 [01:03<00:00,  1.46batch/s, loss=0.1414, family_acc=0.9313, genus_acc=0.9263, species_acc=0.9120]\n"
     ]
    },
    {
     "name": "stdout",
     "output_type": "stream",
     "text": [
      "\u001b[32m2025-01-07 15:15:24.076\u001b[0m | \u001b[1mINFO    \u001b[0m | \u001b[36m__main__\u001b[0m:\u001b[36mon_epoch_end\u001b[0m:\u001b[36m53\u001b[0m - \u001b[1mEpoch 7 completed - Loss: 0.1414, Val Family Accuracy: \u001b[32m0.9061\u001b[0m, Val Genus Accuracy: \u001b[32m0.8969\u001b[0m, Val Species Accuracy: \u001b[32m0.8774\u001b[0m\u001b[0m\n"
     ]
    },
    {
     "name": "stderr",
     "output_type": "stream",
     "text": [
      "Epoch 8/10: 100%|██████████| 92/92 [01:01<00:00,  1.49batch/s, loss=0.1195, family_acc=0.9393, genus_acc=0.9369, species_acc=0.9237]\n"
     ]
    },
    {
     "name": "stdout",
     "output_type": "stream",
     "text": [
      "\u001b[32m2025-01-07 15:16:25.713\u001b[0m | \u001b[1mINFO    \u001b[0m | \u001b[36m__main__\u001b[0m:\u001b[36mon_epoch_end\u001b[0m:\u001b[36m53\u001b[0m - \u001b[1mEpoch 8 completed - Loss: 0.1195, Val Family Accuracy: \u001b[32m0.9077\u001b[0m, Val Genus Accuracy: \u001b[32m0.9021\u001b[0m, Val Species Accuracy: \u001b[32m0.8830\u001b[0m\u001b[0m\n"
     ]
    },
    {
     "name": "stderr",
     "output_type": "stream",
     "text": [
      "Epoch 9/10: 100%|██████████| 92/92 [01:02<00:00,  1.47batch/s, loss=0.1004, family_acc=0.9449, genus_acc=0.9451, species_acc=0.9370]\n"
     ]
    },
    {
     "name": "stdout",
     "output_type": "stream",
     "text": [
      "\u001b[32m2025-01-07 15:17:28.144\u001b[0m | \u001b[1mINFO    \u001b[0m | \u001b[36m__main__\u001b[0m:\u001b[36mon_epoch_end\u001b[0m:\u001b[36m53\u001b[0m - \u001b[1mEpoch 9 completed - Loss: 0.1004, Val Family Accuracy: \u001b[32m0.9129\u001b[0m, Val Genus Accuracy: \u001b[32m0.9049\u001b[0m, Val Species Accuracy: \u001b[32m0.8846\u001b[0m\u001b[0m\n"
     ]
    },
    {
     "name": "stderr",
     "output_type": "stream",
     "text": [
      "Epoch 10/10: 100%|██████████| 92/92 [01:02<00:00,  1.47batch/s, loss=0.0867, family_acc=0.9526, genus_acc=0.9530, species_acc=0.9414]"
     ]
    },
    {
     "name": "stdout",
     "output_type": "stream",
     "text": [
      "\u001b[32m2025-01-07 15:18:30.648\u001b[0m | \u001b[1mINFO    \u001b[0m | \u001b[36m__main__\u001b[0m:\u001b[36mon_epoch_end\u001b[0m:\u001b[36m53\u001b[0m - \u001b[1mEpoch 10 completed - Loss: 0.0867, Val Family Accuracy: \u001b[32m0.9144\u001b[0m, Val Genus Accuracy: \u001b[32m0.9089\u001b[0m, Val Species Accuracy: \u001b[32m0.8898\u001b[0m\u001b[0m\n"
     ]
    },
    {
     "name": "stderr",
     "output_type": "stream",
     "text": [
      "\n"
     ]
    }
   ],
   "source": [
    "base_model = EfficientNetV2B0(include_top=False, weights='imagenet', input_shape=image_shape)\n",
    "base_model.trainable = False\n",
    "preprocess = efficientnet_preprocess\n",
    "\n",
    "inputs = Input(shape=image_shape, name='input')\n",
    "x = preprocess(inputs)\n",
    "x = base_model(x, training=False)\n",
    "\n",
    "# PreTrain Model Features Extractor\n",
    "features = GlobalAveragePooling2D()(x)\n",
    "\n",
    "shared_layer = Dense(1024,name='shared_layer')(features)\n",
    "shared_layer = BatchNormalization()(shared_layer)\n",
    "shared_layer = Activation('relu')(shared_layer)\n",
    "\n",
    "# Family Output\n",
    "family_output = Dense(len(names['family']), activation='softmax', name='family')(shared_layer)\n",
    "\n",
    "# Genus Output\n",
    "genus_output = Dense(len(names['genus']), activation='softmax', name='genus')(shared_layer)\n",
    "\n",
    "# Species Output\n",
    "species_output = Dense(len(names['species']), activation='softmax', name='species')(shared_layer)\n",
    "\n",
    "name = f\"ModelShared_EFFV2B0\"\n",
    "model_shared_eff = tf.keras.Model(inputs, [family_output, genus_output, species_output], name=name)\n",
    "\n",
    "model_shared_eff.compile(\n",
    "    optimizer=tf.keras.optimizers.Adam(learning_rate=0.0001),\n",
    "    loss=tf.keras.losses.CategoricalFocalCrossentropy(),\n",
    "    metrics = {\n",
    "        'family': [\"accuracy\", \"AUC\", \"Precision\", \"Recall\"],\n",
    "        'genus': [\"accuracy\", \"AUC\", \"Precision\", \"Recall\"],\n",
    "        'species': [\"accuracy\", \"AUC\", \"Precision\", \"Recall\"],\n",
    "    },\n",
    ")\n",
    "\n",
    "history = model_shared_eff.fit(\n",
    "    train_ds,\n",
    "    validation_data=val_ds,\n",
    "    epochs=10,\n",
    "    callbacks=callbacks,\n",
    "    verbose=0\n",
    ")"
   ]
  },
  {
   "cell_type": "code",
   "execution_count": 7,
   "metadata": {},
   "outputs": [
    {
     "name": "stderr",
     "output_type": "stream",
     "text": [
      "Epoch 1/10:   0%|          | 0/92 [00:00<?, ?batch/s]2025-01-07 16:52:22.820304: I tensorflow/core/grappler/optimizers/custom_graph_optimizer_registry.cc:117] Plugin optimizer for device_type GPU is enabled.\n",
      "2025-01-07 16:52:37.391820: I tensorflow/core/kernels/data/shuffle_dataset_op.cc:450] ShuffleDatasetV3:5: Filling up shuffle buffer (this may take a while): 31 of 11722\n",
      "2025-01-07 16:52:47.535875: I tensorflow/core/kernels/data/shuffle_dataset_op.cc:450] ShuffleDatasetV3:5: Filling up shuffle buffer (this may take a while): 64 of 11722\n",
      "2025-01-07 16:52:56.113135: I tensorflow/core/kernels/data/shuffle_dataset_op.cc:480] Shuffle buffer filled.\n",
      "2025-01-07 16:52:56.113215: I tensorflow/core/kernels/data/shuffle_dataset_op.cc:480] Shuffle buffer filled.\n",
      "Epoch 1/10: 100%|██████████| 92/92 [01:54<00:00,  1.24s/batch, loss=1.0763, family_acc=0.6634, genus_acc=0.5664, species_acc=0.4759]\n"
     ]
    },
    {
     "name": "stdout",
     "output_type": "stream",
     "text": [
      "\u001b[32m2025-01-07 16:54:13.906\u001b[0m | \u001b[1mINFO    \u001b[0m | \u001b[36m__main__\u001b[0m:\u001b[36mon_epoch_end\u001b[0m:\u001b[36m53\u001b[0m - \u001b[1mEpoch 1 completed - Loss: 1.0763, Val Family Accuracy: \u001b[33m0.8205\u001b[0m, Val Genus Accuracy: \u001b[33m0.7843\u001b[0m, Val Species Accuracy: \u001b[31m0.7250\u001b[0m\u001b[0m\n"
     ]
    },
    {
     "name": "stderr",
     "output_type": "stream",
     "text": [
      "Epoch 2/10: 100%|██████████| 92/92 [01:01<00:00,  1.49batch/s, loss=0.3500, family_acc=0.8612, genus_acc=0.8339, species_acc=0.7961]\n"
     ]
    },
    {
     "name": "stdout",
     "output_type": "stream",
     "text": [
      "\u001b[32m2025-01-07 16:55:15.659\u001b[0m | \u001b[1mINFO    \u001b[0m | \u001b[36m__main__\u001b[0m:\u001b[36mon_epoch_end\u001b[0m:\u001b[36m53\u001b[0m - \u001b[1mEpoch 2 completed - Loss: 0.3500, Val Family Accuracy: \u001b[32m0.8750\u001b[0m, Val Genus Accuracy: \u001b[32m0.8583\u001b[0m, Val Species Accuracy: \u001b[33m0.8261\u001b[0m\u001b[0m\n"
     ]
    },
    {
     "name": "stderr",
     "output_type": "stream",
     "text": [
      "Epoch 3/10: 100%|██████████| 92/92 [01:01<00:00,  1.48batch/s, loss=0.2185, family_acc=0.9007, genus_acc=0.8925, species_acc=0.8650]\n"
     ]
    },
    {
     "name": "stdout",
     "output_type": "stream",
     "text": [
      "\u001b[32m2025-01-07 16:56:17.626\u001b[0m | \u001b[1mINFO    \u001b[0m | \u001b[36m__main__\u001b[0m:\u001b[36mon_epoch_end\u001b[0m:\u001b[36m53\u001b[0m - \u001b[1mEpoch 3 completed - Loss: 0.2185, Val Family Accuracy: \u001b[32m0.8922\u001b[0m, Val Genus Accuracy: \u001b[32m0.8762\u001b[0m, Val Species Accuracy: \u001b[32m0.8579\u001b[0m\u001b[0m\n"
     ]
    },
    {
     "name": "stderr",
     "output_type": "stream",
     "text": [
      "Epoch 4/10: 100%|██████████| 92/92 [01:01<00:00,  1.49batch/s, loss=0.1583, family_acc=0.9239, genus_acc=0.9144, species_acc=0.8990]\n"
     ]
    },
    {
     "name": "stdout",
     "output_type": "stream",
     "text": [
      "\u001b[32m2025-01-07 16:57:19.507\u001b[0m | \u001b[1mINFO    \u001b[0m | \u001b[36m__main__\u001b[0m:\u001b[36mon_epoch_end\u001b[0m:\u001b[36m53\u001b[0m - \u001b[1mEpoch 4 completed - Loss: 0.1583, Val Family Accuracy: \u001b[32m0.9065\u001b[0m, Val Genus Accuracy: \u001b[32m0.8890\u001b[0m, Val Species Accuracy: \u001b[32m0.8719\u001b[0m\u001b[0m\n"
     ]
    },
    {
     "name": "stderr",
     "output_type": "stream",
     "text": [
      "Epoch 5/10: 100%|██████████| 92/92 [01:01<00:00,  1.48batch/s, loss=0.1211, family_acc=0.9370, genus_acc=0.9366, species_acc=0.9208]\n"
     ]
    },
    {
     "name": "stdout",
     "output_type": "stream",
     "text": [
      "\u001b[32m2025-01-07 16:58:21.509\u001b[0m | \u001b[1mINFO    \u001b[0m | \u001b[36m__main__\u001b[0m:\u001b[36mon_epoch_end\u001b[0m:\u001b[36m53\u001b[0m - \u001b[1mEpoch 5 completed - Loss: 0.1211, Val Family Accuracy: \u001b[32m0.9129\u001b[0m, Val Genus Accuracy: \u001b[32m0.9001\u001b[0m, Val Species Accuracy: \u001b[32m0.8806\u001b[0m\u001b[0m\n"
     ]
    },
    {
     "name": "stderr",
     "output_type": "stream",
     "text": [
      "Epoch 6/10: 100%|██████████| 92/92 [01:01<00:00,  1.50batch/s, loss=0.0926, family_acc=0.9469, genus_acc=0.9516, species_acc=0.9373]\n"
     ]
    },
    {
     "name": "stdout",
     "output_type": "stream",
     "text": [
      "\u001b[32m2025-01-07 16:59:22.826\u001b[0m | \u001b[1mINFO    \u001b[0m | \u001b[36m__main__\u001b[0m:\u001b[36mon_epoch_end\u001b[0m:\u001b[36m53\u001b[0m - \u001b[1mEpoch 6 completed - Loss: 0.0926, Val Family Accuracy: \u001b[32m0.9156\u001b[0m, Val Genus Accuracy: \u001b[32m0.9061\u001b[0m, Val Species Accuracy: \u001b[32m0.8870\u001b[0m\u001b[0m\n"
     ]
    },
    {
     "name": "stderr",
     "output_type": "stream",
     "text": [
      "Epoch 7/10: 100%|██████████| 92/92 [01:03<00:00,  1.46batch/s, loss=0.0753, family_acc=0.9586, genus_acc=0.9593, species_acc=0.9513]\n"
     ]
    },
    {
     "name": "stdout",
     "output_type": "stream",
     "text": [
      "\u001b[32m2025-01-07 17:00:26.050\u001b[0m | \u001b[1mINFO    \u001b[0m | \u001b[36m__main__\u001b[0m:\u001b[36mon_epoch_end\u001b[0m:\u001b[36m53\u001b[0m - \u001b[1mEpoch 7 completed - Loss: 0.0753, Val Family Accuracy: \u001b[32m0.9188\u001b[0m, Val Genus Accuracy: \u001b[32m0.9093\u001b[0m, Val Species Accuracy: \u001b[32m0.8834\u001b[0m\u001b[0m\n"
     ]
    },
    {
     "name": "stderr",
     "output_type": "stream",
     "text": [
      "Epoch 8/10: 100%|██████████| 92/92 [01:03<00:00,  1.44batch/s, loss=0.0598, family_acc=0.9642, genus_acc=0.9681, species_acc=0.9587]\n"
     ]
    },
    {
     "name": "stdout",
     "output_type": "stream",
     "text": [
      "\u001b[32m2025-01-07 17:01:30.034\u001b[0m | \u001b[1mINFO    \u001b[0m | \u001b[36m__main__\u001b[0m:\u001b[36mon_epoch_end\u001b[0m:\u001b[36m53\u001b[0m - \u001b[1mEpoch 8 completed - Loss: 0.0598, Val Family Accuracy: \u001b[35m0.9256\u001b[0m, Val Genus Accuracy: \u001b[32m0.9097\u001b[0m, Val Species Accuracy: \u001b[32m0.8910\u001b[0m\u001b[0m\n"
     ]
    },
    {
     "name": "stderr",
     "output_type": "stream",
     "text": [
      "Epoch 9/10: 100%|██████████| 92/92 [01:02<00:00,  1.47batch/s, loss=0.0498, family_acc=0.9696, genus_acc=0.9717, species_acc=0.9665]\n"
     ]
    },
    {
     "name": "stdout",
     "output_type": "stream",
     "text": [
      "\u001b[32m2025-01-07 17:02:32.469\u001b[0m | \u001b[1mINFO    \u001b[0m | \u001b[36m__main__\u001b[0m:\u001b[36mon_epoch_end\u001b[0m:\u001b[36m53\u001b[0m - \u001b[1mEpoch 9 completed - Loss: 0.0498, Val Family Accuracy: \u001b[35m0.9264\u001b[0m, Val Genus Accuracy: \u001b[32m0.9105\u001b[0m, Val Species Accuracy: \u001b[32m0.8934\u001b[0m\u001b[0m\n"
     ]
    },
    {
     "name": "stderr",
     "output_type": "stream",
     "text": [
      "Epoch 10/10: 100%|██████████| 92/92 [01:01<00:00,  1.50batch/s, loss=0.0410, family_acc=0.9735, genus_acc=0.9777, species_acc=0.9717]"
     ]
    },
    {
     "name": "stdout",
     "output_type": "stream",
     "text": [
      "\u001b[32m2025-01-07 17:03:33.783\u001b[0m | \u001b[1mINFO    \u001b[0m | \u001b[36m__main__\u001b[0m:\u001b[36mon_epoch_end\u001b[0m:\u001b[36m53\u001b[0m - \u001b[1mEpoch 10 completed - Loss: 0.0410, Val Family Accuracy: \u001b[35m0.9316\u001b[0m, Val Genus Accuracy: \u001b[32m0.9136\u001b[0m, Val Species Accuracy: \u001b[32m0.8949\u001b[0m\u001b[0m\n"
     ]
    },
    {
     "name": "stderr",
     "output_type": "stream",
     "text": [
      "\n"
     ]
    }
   ],
   "source": [
    "base_model = EfficientNetV2B0(include_top=False, weights='imagenet', input_shape=image_shape)\n",
    "base_model.trainable = False\n",
    "preprocess = efficientnet_preprocess\n",
    "\n",
    "inputs = Input(shape=image_shape, name='input')\n",
    "x = preprocess(inputs)\n",
    "x = base_model(x, training=False)\n",
    "\n",
    "# PreTrain Model Features Extractor\n",
    "features = GlobalAveragePooling2D()(x)\n",
    "\n",
    "shared_layer = Dense(2048,name='shared_layer')(features)\n",
    "shared_layer = BatchNormalization()(shared_layer)\n",
    "shared_layer = Activation('relu')(shared_layer)\n",
    "\n",
    "# Family Output\n",
    "family_output = Dense(len(names['family']), activation='softmax', name='family')(shared_layer)\n",
    "\n",
    "# Genus Output\n",
    "genus_output = Dense(len(names['genus']), activation='softmax', name='genus')(shared_layer)\n",
    "\n",
    "# Species Output\n",
    "species_output = Dense(len(names['species']), activation='softmax', name='species')(shared_layer)\n",
    "\n",
    "name = f\"ModelShared_EFFV2B0\"\n",
    "model_shared_eff = tf.keras.Model(inputs, [family_output, genus_output, species_output], name=name)\n",
    "\n",
    "model_shared_eff.compile(\n",
    "    optimizer=tf.keras.optimizers.Adam(learning_rate=0.0001),\n",
    "    loss=tf.keras.losses.CategoricalFocalCrossentropy(),\n",
    "    metrics = {\n",
    "        'family': [\"accuracy\", \"AUC\", \"Precision\", \"Recall\"],\n",
    "        'genus': [\"accuracy\", \"AUC\", \"Precision\", \"Recall\"],\n",
    "        'species': [\"accuracy\", \"AUC\", \"Precision\", \"Recall\"],\n",
    "    },\n",
    ")\n",
    "\n",
    "history = model_shared_eff.fit(\n",
    "    train_ds,\n",
    "    validation_data=val_ds,\n",
    "    epochs=10,\n",
    "    callbacks=callbacks,\n",
    "    verbose=0\n",
    ")"
   ]
  },
  {
   "cell_type": "code",
   "execution_count": null,
   "metadata": {},
   "outputs": [
    {
     "name": "stderr",
     "output_type": "stream",
     "text": [
      "Epoch 1/10:   0%|          | 0/92 [00:00<?, ?batch/s]2025-01-07 17:13:11.786297: I tensorflow/core/grappler/optimizers/custom_graph_optimizer_registry.cc:117] Plugin optimizer for device_type GPU is enabled.\n",
      "2025-01-07 17:13:26.331652: I tensorflow/core/kernels/data/shuffle_dataset_op.cc:450] ShuffleDatasetV3:5: Filling up shuffle buffer (this may take a while): 31 of 11722\n",
      "2025-01-07 17:13:36.438051: I tensorflow/core/kernels/data/shuffle_dataset_op.cc:450] ShuffleDatasetV3:5: Filling up shuffle buffer (this may take a while): 64 of 11722\n",
      "2025-01-07 17:13:45.433185: I tensorflow/core/kernels/data/shuffle_dataset_op.cc:480] Shuffle buffer filled.\n",
      "2025-01-07 17:13:45.433274: I tensorflow/core/kernels/data/shuffle_dataset_op.cc:480] Shuffle buffer filled.\n",
      "Epoch 1/10: 100%|██████████| 92/92 [01:54<00:00,  1.25s/batch, loss=1.0677, family_acc=0.6611, genus_acc=0.5621, species_acc=0.4936] \n"
     ]
    },
    {
     "name": "stdout",
     "output_type": "stream",
     "text": [
      "\u001b[32m2025-01-07 17:15:03.249\u001b[0m | \u001b[1mINFO    \u001b[0m | \u001b[36m__main__\u001b[0m:\u001b[36mon_epoch_end\u001b[0m:\u001b[36m53\u001b[0m - \u001b[1mEpoch 1 completed - Loss: 1.0677, Val Family Accuracy: \u001b[33m0.8094\u001b[0m, Val Genus Accuracy: \u001b[33m0.7740\u001b[0m, Val Species Accuracy: \u001b[31m0.7191\u001b[0m\u001b[0m\n"
     ]
    },
    {
     "name": "stderr",
     "output_type": "stream",
     "text": [
      "Epoch 2/10: 100%|██████████| 92/92 [01:05<00:00,  1.41batch/s, loss=0.3425, family_acc=0.8627, genus_acc=0.8325, species_acc=0.8006]\n"
     ]
    },
    {
     "name": "stdout",
     "output_type": "stream",
     "text": [
      "\u001b[32m2025-01-07 17:16:08.677\u001b[0m | \u001b[1mINFO    \u001b[0m | \u001b[36m__main__\u001b[0m:\u001b[36mon_epoch_end\u001b[0m:\u001b[36m53\u001b[0m - \u001b[1mEpoch 2 completed - Loss: 0.3425, Val Family Accuracy: \u001b[32m0.8647\u001b[0m, Val Genus Accuracy: \u001b[32m0.8548\u001b[0m, Val Species Accuracy: \u001b[33m0.8289\u001b[0m\u001b[0m\n"
     ]
    },
    {
     "name": "stderr",
     "output_type": "stream",
     "text": [
      "Epoch 3/10: 100%|██████████| 92/92 [01:03<00:00,  1.44batch/s, loss=0.2155, family_acc=0.9026, genus_acc=0.8898, species_acc=0.8679]\n"
     ]
    },
    {
     "name": "stdout",
     "output_type": "stream",
     "text": [
      "\u001b[32m2025-01-07 17:17:12.602\u001b[0m | \u001b[1mINFO    \u001b[0m | \u001b[36m__main__\u001b[0m:\u001b[36mon_epoch_end\u001b[0m:\u001b[36m53\u001b[0m - \u001b[1mEpoch 3 completed - Loss: 0.2155, Val Family Accuracy: \u001b[32m0.8902\u001b[0m, Val Genus Accuracy: \u001b[32m0.8766\u001b[0m, Val Species Accuracy: \u001b[32m0.8627\u001b[0m\u001b[0m\n"
     ]
    },
    {
     "name": "stderr",
     "output_type": "stream",
     "text": [
      "Epoch 4/10: 100%|██████████| 92/92 [00:59<00:00,  1.56batch/s, loss=0.1550, family_acc=0.9249, genus_acc=0.9172, species_acc=0.9037]\n"
     ]
    },
    {
     "name": "stdout",
     "output_type": "stream",
     "text": [
      "\u001b[32m2025-01-07 17:18:11.667\u001b[0m | \u001b[1mINFO    \u001b[0m | \u001b[36m__main__\u001b[0m:\u001b[36mon_epoch_end\u001b[0m:\u001b[36m53\u001b[0m - \u001b[1mEpoch 4 completed - Loss: 0.1550, Val Family Accuracy: \u001b[32m0.9081\u001b[0m, Val Genus Accuracy: \u001b[32m0.8926\u001b[0m, Val Species Accuracy: \u001b[32m0.8715\u001b[0m\u001b[0m\n"
     ]
    },
    {
     "name": "stderr",
     "output_type": "stream",
     "text": [
      "Epoch 5/10: 100%|██████████| 92/92 [01:00<00:00,  1.52batch/s, loss=0.1168, family_acc=0.9382, genus_acc=0.9370, species_acc=0.9249]\n"
     ]
    },
    {
     "name": "stdout",
     "output_type": "stream",
     "text": [
      "\u001b[32m2025-01-07 17:19:12.338\u001b[0m | \u001b[1mINFO    \u001b[0m | \u001b[36m__main__\u001b[0m:\u001b[36mon_epoch_end\u001b[0m:\u001b[36m53\u001b[0m - \u001b[1mEpoch 5 completed - Loss: 0.1168, Val Family Accuracy: \u001b[32m0.9160\u001b[0m, Val Genus Accuracy: \u001b[32m0.9005\u001b[0m, Val Species Accuracy: \u001b[32m0.8762\u001b[0m\u001b[0m\n"
     ]
    },
    {
     "name": "stderr",
     "output_type": "stream",
     "text": [
      "Epoch 6/10: 100%|██████████| 92/92 [00:59<00:00,  1.54batch/s, loss=0.0911, family_acc=0.9511, genus_acc=0.9511, species_acc=0.9395]\n"
     ]
    },
    {
     "name": "stdout",
     "output_type": "stream",
     "text": [
      "\u001b[32m2025-01-07 17:20:12.014\u001b[0m | \u001b[1mINFO    \u001b[0m | \u001b[36m__main__\u001b[0m:\u001b[36mon_epoch_end\u001b[0m:\u001b[36m53\u001b[0m - \u001b[1mEpoch 6 completed - Loss: 0.0911, Val Family Accuracy: \u001b[35m0.9240\u001b[0m, Val Genus Accuracy: \u001b[32m0.9029\u001b[0m, Val Species Accuracy: \u001b[32m0.8834\u001b[0m\u001b[0m\n"
     ]
    },
    {
     "name": "stderr",
     "output_type": "stream",
     "text": [
      "Epoch 7/10: 100%|██████████| 92/92 [01:01<00:00,  1.49batch/s, loss=0.0683, family_acc=0.9608, genus_acc=0.9629, species_acc=0.9525]\n"
     ]
    },
    {
     "name": "stdout",
     "output_type": "stream",
     "text": [
      "\u001b[32m2025-01-07 17:21:13.806\u001b[0m | \u001b[1mINFO    \u001b[0m | \u001b[36m__main__\u001b[0m:\u001b[36mon_epoch_end\u001b[0m:\u001b[36m53\u001b[0m - \u001b[1mEpoch 7 completed - Loss: 0.0683, Val Family Accuracy: \u001b[35m0.9296\u001b[0m, Val Genus Accuracy: \u001b[32m0.9101\u001b[0m, Val Species Accuracy: \u001b[32m0.8854\u001b[0m\u001b[0m\n"
     ]
    },
    {
     "name": "stderr",
     "output_type": "stream",
     "text": [
      "Epoch 8/10: 100%|██████████| 92/92 [01:03<00:00,  1.45batch/s, loss=0.0575, family_acc=0.9653, genus_acc=0.9672, species_acc=0.9602]\n"
     ]
    },
    {
     "name": "stdout",
     "output_type": "stream",
     "text": [
      "\u001b[32m2025-01-07 17:22:17.139\u001b[0m | \u001b[1mINFO    \u001b[0m | \u001b[36m__main__\u001b[0m:\u001b[36mon_epoch_end\u001b[0m:\u001b[36m53\u001b[0m - \u001b[1mEpoch 8 completed - Loss: 0.0575, Val Family Accuracy: \u001b[35m0.9327\u001b[0m, Val Genus Accuracy: \u001b[32m0.9113\u001b[0m, Val Species Accuracy: \u001b[32m0.8918\u001b[0m\u001b[0m\n"
     ]
    },
    {
     "name": "stderr",
     "output_type": "stream",
     "text": [
      "Epoch 9/10: 100%|██████████| 92/92 [01:03<00:00,  1.45batch/s, loss=0.0442, family_acc=0.9738, genus_acc=0.9747, species_acc=0.9706]\n"
     ]
    },
    {
     "name": "stdout",
     "output_type": "stream",
     "text": [
      "\u001b[32m2025-01-07 17:23:20.772\u001b[0m | \u001b[1mINFO    \u001b[0m | \u001b[36m__main__\u001b[0m:\u001b[36mon_epoch_end\u001b[0m:\u001b[36m53\u001b[0m - \u001b[1mEpoch 9 completed - Loss: 0.0442, Val Family Accuracy: \u001b[35m0.9343\u001b[0m, Val Genus Accuracy: \u001b[32m0.9133\u001b[0m, Val Species Accuracy: \u001b[32m0.8930\u001b[0m\u001b[0m\n"
     ]
    },
    {
     "name": "stderr",
     "output_type": "stream",
     "text": [
      "Epoch 10/10: 100%|██████████| 92/92 [01:04<00:00,  1.43batch/s, loss=0.0373, family_acc=0.9750, genus_acc=0.9816, species_acc=0.9736]"
     ]
    },
    {
     "name": "stdout",
     "output_type": "stream",
     "text": [
      "\u001b[32m2025-01-07 17:24:25.297\u001b[0m | \u001b[1mINFO    \u001b[0m | \u001b[36m__main__\u001b[0m:\u001b[36mon_epoch_end\u001b[0m:\u001b[36m53\u001b[0m - \u001b[1mEpoch 10 completed - Loss: 0.0373, Val Family Accuracy: \u001b[35m0.9387\u001b[0m, Val Genus Accuracy: \u001b[32m0.9129\u001b[0m, Val Species Accuracy: \u001b[32m0.8945\u001b[0m\u001b[0m\n"
     ]
    },
    {
     "name": "stderr",
     "output_type": "stream",
     "text": [
      "\n"
     ]
    }
   ],
   "source": [
    "base_model = EfficientNetV2B0(include_top=False, weights='imagenet', input_shape=image_shape)\n",
    "base_model.trainable = False\n",
    "preprocess = efficientnet_preprocess\n",
    "\n",
    "inputs = Input(shape=image_shape, name='input')\n",
    "x = preprocess(inputs)\n",
    "x = base_model(x, training=False)\n",
    "\n",
    "# attention\n",
    "x = squeeze_excite_block(x)\n",
    "\n",
    "# PreTrain Model Features Extractor\n",
    "features = GlobalAveragePooling2D()(x)\n",
    "\n",
    "shared_layer = Dense(2048,name='shared_layer')(features)\n",
    "shared_layer = BatchNormalization()(shared_layer)\n",
    "shared_layer = Activation('relu')(shared_layer)\n",
    "\n",
    "# Family Output\n",
    "family_output = Dense(len(names['family']), activation='softmax', name='family')(shared_layer)\n",
    "\n",
    "# Genus Output\n",
    "genus_output = Dense(len(names['genus']), activation='softmax', name='genus')(shared_layer)\n",
    "\n",
    "# Species Output\n",
    "species_output = Dense(len(names['species']), activation='softmax', name='species')(shared_layer)\n",
    "\n",
    "name = f\"ModelShared_EFFV2B0\"\n",
    "model_shared_eff = tf.keras.Model(inputs, [family_output, genus_output, species_output], name=name)\n",
    "\n",
    "model_shared_eff.compile(\n",
    "    optimizer=tf.keras.optimizers.Adam(learning_rate=0.0001),\n",
    "    loss=tf.keras.losses.CategoricalFocalCrossentropy(),\n",
    "    metrics = {\n",
    "        'family': [\"accuracy\", \"AUC\", \"Precision\", \"Recall\"],\n",
    "        'genus': [\"accuracy\", \"AUC\", \"Precision\", \"Recall\"],\n",
    "        'species': [\"accuracy\", \"AUC\", \"Precision\", \"Recall\"],\n",
    "    },\n",
    ")\n",
    "\n",
    "history = model_shared_eff.fit(\n",
    "    train_ds,\n",
    "    validation_data=val_ds,\n",
    "    epochs=10,\n",
    "    callbacks=callbacks,\n",
    "    verbose=0\n",
    ")"
   ]
  },
  {
   "cell_type": "code",
   "execution_count": 8,
   "metadata": {},
   "outputs": [
    {
     "name": "stderr",
     "output_type": "stream",
     "text": [
      "Epoch 1/10:   0%|          | 0/92 [00:00<?, ?batch/s]2025-01-07 17:29:13.480022: I tensorflow/core/grappler/optimizers/custom_graph_optimizer_registry.cc:117] Plugin optimizer for device_type GPU is enabled.\n",
      "2025-01-07 17:29:28.064973: I tensorflow/core/kernels/data/shuffle_dataset_op.cc:450] ShuffleDatasetV3:5: Filling up shuffle buffer (this may take a while): 31 of 11722\n",
      "2025-01-07 17:29:38.291212: I tensorflow/core/kernels/data/shuffle_dataset_op.cc:450] ShuffleDatasetV3:5: Filling up shuffle buffer (this may take a while): 65 of 11722\n",
      "2025-01-07 17:29:46.384515: I tensorflow/core/kernels/data/shuffle_dataset_op.cc:480] Shuffle buffer filled.\n",
      "2025-01-07 17:29:46.384601: I tensorflow/core/kernels/data/shuffle_dataset_op.cc:480] Shuffle buffer filled.\n",
      "Epoch 1/10: 100%|██████████| 92/92 [02:09<00:00,  1.40s/batch, loss=0.9595, family_acc=0.6820, genus_acc=0.6064, species_acc=0.5415]\n"
     ]
    },
    {
     "name": "stdout",
     "output_type": "stream",
     "text": [
      "\u001b[32m2025-01-07 17:31:19.067\u001b[0m | \u001b[1mINFO    \u001b[0m | \u001b[36m__main__\u001b[0m:\u001b[36mon_epoch_end\u001b[0m:\u001b[36m53\u001b[0m - \u001b[1mEpoch 1 completed - Loss: 0.9595, Val Family Accuracy: \u001b[33m0.8496\u001b[0m, Val Genus Accuracy: \u001b[33m0.8277\u001b[0m, Val Species Accuracy: \u001b[33m0.7971\u001b[0m\u001b[0m\n"
     ]
    },
    {
     "name": "stderr",
     "output_type": "stream",
     "text": [
      "Epoch 2/10: 100%|██████████| 92/92 [01:19<00:00,  1.16batch/s, loss=0.2616, family_acc=0.8872, genus_acc=0.8676, species_acc=0.8444]\n"
     ]
    },
    {
     "name": "stdout",
     "output_type": "stream",
     "text": [
      "\u001b[32m2025-01-07 17:32:38.352\u001b[0m | \u001b[1mINFO    \u001b[0m | \u001b[36m__main__\u001b[0m:\u001b[36mon_epoch_end\u001b[0m:\u001b[36m53\u001b[0m - \u001b[1mEpoch 2 completed - Loss: 0.2616, Val Family Accuracy: \u001b[32m0.8914\u001b[0m, Val Genus Accuracy: \u001b[32m0.8790\u001b[0m, Val Species Accuracy: \u001b[32m0.8536\u001b[0m\u001b[0m\n"
     ]
    },
    {
     "name": "stderr",
     "output_type": "stream",
     "text": [
      "Epoch 3/10: 100%|██████████| 92/92 [01:15<00:00,  1.21batch/s, loss=0.1567, family_acc=0.9229, genus_acc=0.9170, species_acc=0.8980]\n"
     ]
    },
    {
     "name": "stdout",
     "output_type": "stream",
     "text": [
      "\u001b[32m2025-01-07 17:33:54.212\u001b[0m | \u001b[1mINFO    \u001b[0m | \u001b[36m__main__\u001b[0m:\u001b[36mon_epoch_end\u001b[0m:\u001b[36m53\u001b[0m - \u001b[1mEpoch 3 completed - Loss: 0.1567, Val Family Accuracy: \u001b[32m0.9136\u001b[0m, Val Genus Accuracy: \u001b[32m0.8989\u001b[0m, Val Species Accuracy: \u001b[32m0.8802\u001b[0m\u001b[0m\n"
     ]
    },
    {
     "name": "stderr",
     "output_type": "stream",
     "text": [
      "Epoch 4/10: 100%|██████████| 92/92 [01:16<00:00,  1.20batch/s, loss=0.1077, family_acc=0.9413, genus_acc=0.9405, species_acc=0.9266]\n"
     ]
    },
    {
     "name": "stdout",
     "output_type": "stream",
     "text": [
      "\u001b[32m2025-01-07 17:35:10.961\u001b[0m | \u001b[1mINFO    \u001b[0m | \u001b[36m__main__\u001b[0m:\u001b[36mon_epoch_end\u001b[0m:\u001b[36m53\u001b[0m - \u001b[1mEpoch 4 completed - Loss: 0.1077, Val Family Accuracy: \u001b[32m0.9184\u001b[0m, Val Genus Accuracy: \u001b[32m0.9105\u001b[0m, Val Species Accuracy: \u001b[32m0.8914\u001b[0m\u001b[0m\n"
     ]
    },
    {
     "name": "stderr",
     "output_type": "stream",
     "text": [
      "Epoch 5/10: 100%|██████████| 92/92 [01:15<00:00,  1.21batch/s, loss=0.0763, family_acc=0.9550, genus_acc=0.9583, species_acc=0.9449]\n"
     ]
    },
    {
     "name": "stdout",
     "output_type": "stream",
     "text": [
      "\u001b[32m2025-01-07 17:36:26.722\u001b[0m | \u001b[1mINFO    \u001b[0m | \u001b[36m__main__\u001b[0m:\u001b[36mon_epoch_end\u001b[0m:\u001b[36m53\u001b[0m - \u001b[1mEpoch 5 completed - Loss: 0.0763, Val Family Accuracy: \u001b[35m0.9232\u001b[0m, Val Genus Accuracy: \u001b[32m0.9109\u001b[0m, Val Species Accuracy: \u001b[32m0.8926\u001b[0m\u001b[0m\n"
     ]
    },
    {
     "name": "stderr",
     "output_type": "stream",
     "text": [
      "Epoch 6/10: 100%|██████████| 92/92 [01:14<00:00,  1.23batch/s, loss=0.0562, family_acc=0.9654, genus_acc=0.9656, species_acc=0.9597]\n"
     ]
    },
    {
     "name": "stdout",
     "output_type": "stream",
     "text": [
      "\u001b[32m2025-01-07 17:37:41.537\u001b[0m | \u001b[1mINFO    \u001b[0m | \u001b[36m__main__\u001b[0m:\u001b[36mon_epoch_end\u001b[0m:\u001b[36m53\u001b[0m - \u001b[1mEpoch 6 completed - Loss: 0.0562, Val Family Accuracy: \u001b[35m0.9212\u001b[0m, Val Genus Accuracy: \u001b[32m0.9164\u001b[0m, Val Species Accuracy: \u001b[32m0.8961\u001b[0m\u001b[0m\n"
     ]
    },
    {
     "name": "stderr",
     "output_type": "stream",
     "text": [
      "Epoch 7/10: 100%|██████████| 92/92 [01:13<00:00,  1.25batch/s, loss=0.0428, family_acc=0.9713, genus_acc=0.9742, species_acc=0.9673]\n"
     ]
    },
    {
     "name": "stdout",
     "output_type": "stream",
     "text": [
      "\u001b[32m2025-01-07 17:38:54.867\u001b[0m | \u001b[1mINFO    \u001b[0m | \u001b[36m__main__\u001b[0m:\u001b[36mon_epoch_end\u001b[0m:\u001b[36m53\u001b[0m - \u001b[1mEpoch 7 completed - Loss: 0.0428, Val Family Accuracy: \u001b[35m0.9260\u001b[0m, Val Genus Accuracy: \u001b[32m0.9125\u001b[0m, Val Species Accuracy: \u001b[32m0.9013\u001b[0m\u001b[0m\n"
     ]
    },
    {
     "name": "stderr",
     "output_type": "stream",
     "text": [
      "Epoch 8/10: 100%|██████████| 92/92 [01:12<00:00,  1.27batch/s, loss=0.0342, family_acc=0.9770, genus_acc=0.9784, species_acc=0.9741]\n"
     ]
    },
    {
     "name": "stdout",
     "output_type": "stream",
     "text": [
      "\u001b[32m2025-01-07 17:40:07.331\u001b[0m | \u001b[1mINFO    \u001b[0m | \u001b[36m__main__\u001b[0m:\u001b[36mon_epoch_end\u001b[0m:\u001b[36m53\u001b[0m - \u001b[1mEpoch 8 completed - Loss: 0.0342, Val Family Accuracy: \u001b[35m0.9339\u001b[0m, Val Genus Accuracy: \u001b[32m0.9129\u001b[0m, Val Species Accuracy: \u001b[32m0.9021\u001b[0m\u001b[0m\n"
     ]
    },
    {
     "name": "stderr",
     "output_type": "stream",
     "text": [
      "Epoch 9/10: 100%|██████████| 92/92 [01:12<00:00,  1.26batch/s, loss=0.0278, family_acc=0.9795, genus_acc=0.9809, species_acc=0.9793]\n"
     ]
    },
    {
     "name": "stdout",
     "output_type": "stream",
     "text": [
      "\u001b[32m2025-01-07 17:41:20.106\u001b[0m | \u001b[1mINFO    \u001b[0m | \u001b[36m__main__\u001b[0m:\u001b[36mon_epoch_end\u001b[0m:\u001b[36m53\u001b[0m - \u001b[1mEpoch 9 completed - Loss: 0.0278, Val Family Accuracy: \u001b[35m0.9292\u001b[0m, Val Genus Accuracy: \u001b[32m0.9160\u001b[0m, Val Species Accuracy: \u001b[32m0.9049\u001b[0m\u001b[0m\n"
     ]
    },
    {
     "name": "stderr",
     "output_type": "stream",
     "text": [
      "Epoch 10/10: 100%|██████████| 92/92 [01:13<00:00,  1.25batch/s, loss=0.0228, family_acc=0.9829, genus_acc=0.9858, species_acc=0.9826]"
     ]
    },
    {
     "name": "stdout",
     "output_type": "stream",
     "text": [
      "\u001b[32m2025-01-07 17:42:33.867\u001b[0m | \u001b[1mINFO    \u001b[0m | \u001b[36m__main__\u001b[0m:\u001b[36mon_epoch_end\u001b[0m:\u001b[36m53\u001b[0m - \u001b[1mEpoch 10 completed - Loss: 0.0228, Val Family Accuracy: \u001b[35m0.9308\u001b[0m, Val Genus Accuracy: \u001b[32m0.9144\u001b[0m, Val Species Accuracy: \u001b[32m0.8989\u001b[0m\u001b[0m\n"
     ]
    },
    {
     "name": "stderr",
     "output_type": "stream",
     "text": [
      "\n"
     ]
    }
   ],
   "source": [
    "base_model = EfficientNetV2B0(include_top=False, weights='imagenet', input_shape=image_shape)\n",
    "base_model.trainable = False\n",
    "preprocess = efficientnet_preprocess\n",
    "\n",
    "inputs = Input(shape=image_shape, name='input')\n",
    "x = preprocess(inputs)\n",
    "x = base_model(x, training=False)\n",
    "\n",
    "# attention\n",
    "x = SelfAttention()(x)\n",
    "\n",
    "# PreTrain Model Features Extractor\n",
    "features = GlobalAveragePooling2D()(x)\n",
    "\n",
    "shared_layer = Dense(2048,name='shared_layer')(features)\n",
    "shared_layer = BatchNormalization()(shared_layer)\n",
    "shared_layer = Activation('relu')(shared_layer)\n",
    "\n",
    "# Family Output\n",
    "family_output = Dense(len(names['family']), activation='softmax', name='family')(shared_layer)\n",
    "\n",
    "# Genus Output\n",
    "genus_output = Dense(len(names['genus']), activation='softmax', name='genus')(shared_layer)\n",
    "\n",
    "# Species Output\n",
    "species_output = Dense(len(names['species']), activation='softmax', name='species')(shared_layer)\n",
    "\n",
    "name = f\"ModelSelfAttention\"\n",
    "model = tf.keras.Model(inputs, [family_output, genus_output, species_output], name=name)\n",
    "\n",
    "model.compile(\n",
    "    optimizer=tf.keras.optimizers.Adam(learning_rate=0.0001),\n",
    "    loss=tf.keras.losses.CategoricalFocalCrossentropy(),\n",
    "    metrics = {\n",
    "        'family': [\"accuracy\", \"AUC\", \"Precision\", \"Recall\"],\n",
    "        'genus': [\"accuracy\", \"AUC\", \"Precision\", \"Recall\"],\n",
    "        'species': [\"accuracy\", \"AUC\", \"Precision\", \"Recall\"],\n",
    "    },\n",
    ")\n",
    "\n",
    "history = model.fit(\n",
    "    train_ds,\n",
    "    validation_data=val_ds,\n",
    "    epochs=10,\n",
    "    callbacks=callbacks,\n",
    "    verbose=0\n",
    ")"
   ]
  },
  {
   "cell_type": "code",
   "execution_count": 8,
   "metadata": {},
   "outputs": [
    {
     "data": {
      "text/html": [
       "<pre style=\"white-space:pre;overflow-x:auto;line-height:normal;font-family:Menlo,'DejaVu Sans Mono',consolas,'Courier New',monospace\"><span style=\"font-weight: bold\">Model: \"ModelSelfAttention\"</span>\n",
       "</pre>\n"
      ],
      "text/plain": [
       "\u001b[1mModel: \"ModelSelfAttention\"\u001b[0m\n"
      ]
     },
     "metadata": {},
     "output_type": "display_data"
    },
    {
     "data": {
      "text/html": [
       "<pre style=\"white-space:pre;overflow-x:auto;line-height:normal;font-family:Menlo,'DejaVu Sans Mono',consolas,'Courier New',monospace\">┏━━━━━━━━━━━━━━━━━━━━━┳━━━━━━━━━━━━━━━━━━━┳━━━━━━━━━━━━┳━━━━━━━━━━━━━━━━━━━┓\n",
       "┃<span style=\"font-weight: bold\"> Layer (type)        </span>┃<span style=\"font-weight: bold\"> Output Shape      </span>┃<span style=\"font-weight: bold\">    Param # </span>┃<span style=\"font-weight: bold\"> Connected to      </span>┃\n",
       "┡━━━━━━━━━━━━━━━━━━━━━╇━━━━━━━━━━━━━━━━━━━╇━━━━━━━━━━━━╇━━━━━━━━━━━━━━━━━━━┩\n",
       "│ input (<span style=\"color: #0087ff; text-decoration-color: #0087ff\">InputLayer</span>)  │ (<span style=\"color: #00d7ff; text-decoration-color: #00d7ff\">None</span>, <span style=\"color: #00af00; text-decoration-color: #00af00\">224</span>, <span style=\"color: #00af00; text-decoration-color: #00af00\">224</span>,  │          <span style=\"color: #00af00; text-decoration-color: #00af00\">0</span> │ -                 │\n",
       "│                     │ <span style=\"color: #00af00; text-decoration-color: #00af00\">3</span>)                │            │                   │\n",
       "├─────────────────────┼───────────────────┼────────────┼───────────────────┤\n",
       "│ cast_1 (<span style=\"color: #0087ff; text-decoration-color: #0087ff\">Cast</span>)       │ (<span style=\"color: #00d7ff; text-decoration-color: #00d7ff\">None</span>, <span style=\"color: #00af00; text-decoration-color: #00af00\">224</span>, <span style=\"color: #00af00; text-decoration-color: #00af00\">224</span>,  │          <span style=\"color: #00af00; text-decoration-color: #00af00\">0</span> │ input[<span style=\"color: #00af00; text-decoration-color: #00af00\">0</span>][<span style=\"color: #00af00; text-decoration-color: #00af00\">0</span>]       │\n",
       "│                     │ <span style=\"color: #00af00; text-decoration-color: #00af00\">3</span>)                │            │                   │\n",
       "├─────────────────────┼───────────────────┼────────────┼───────────────────┤\n",
       "│ data_augmentation   │ (<span style=\"color: #00d7ff; text-decoration-color: #00d7ff\">None</span>, <span style=\"color: #00af00; text-decoration-color: #00af00\">224</span>, <span style=\"color: #00af00; text-decoration-color: #00af00\">224</span>,  │          <span style=\"color: #00af00; text-decoration-color: #00af00\">0</span> │ cast_1[<span style=\"color: #00af00; text-decoration-color: #00af00\">0</span>][<span style=\"color: #00af00; text-decoration-color: #00af00\">0</span>]      │\n",
       "│ (<span style=\"color: #0087ff; text-decoration-color: #0087ff\">Sequential</span>)        │ <span style=\"color: #00af00; text-decoration-color: #00af00\">3</span>)                │            │                   │\n",
       "├─────────────────────┼───────────────────┼────────────┼───────────────────┤\n",
       "│ efficientnetv2-b0   │ (<span style=\"color: #00d7ff; text-decoration-color: #00d7ff\">None</span>, <span style=\"color: #00af00; text-decoration-color: #00af00\">7</span>, <span style=\"color: #00af00; text-decoration-color: #00af00\">7</span>,      │  <span style=\"color: #00af00; text-decoration-color: #00af00\">5,919,312</span> │ data_augmentatio… │\n",
       "│ (<span style=\"color: #0087ff; text-decoration-color: #0087ff\">Functional</span>)        │ <span style=\"color: #00af00; text-decoration-color: #00af00\">1280</span>)             │            │                   │\n",
       "├─────────────────────┼───────────────────┼────────────┼───────────────────┤\n",
       "│ self_attention      │ (<span style=\"color: #00d7ff; text-decoration-color: #00d7ff\">None</span>, <span style=\"color: #00af00; text-decoration-color: #00af00\">7</span>, <span style=\"color: #00af00; text-decoration-color: #00af00\">7</span>,      │  <span style=\"color: #00af00; text-decoration-color: #00af00\">4,919,040</span> │ efficientnetv2-b… │\n",
       "│ (<span style=\"color: #0087ff; text-decoration-color: #0087ff\">SelfAttention</span>)     │ <span style=\"color: #00af00; text-decoration-color: #00af00\">1280</span>)             │            │                   │\n",
       "├─────────────────────┼───────────────────┼────────────┼───────────────────┤\n",
       "│ global_average_poo… │ (<span style=\"color: #00d7ff; text-decoration-color: #00d7ff\">None</span>, <span style=\"color: #00af00; text-decoration-color: #00af00\">1280</span>)      │          <span style=\"color: #00af00; text-decoration-color: #00af00\">0</span> │ self_attention[<span style=\"color: #00af00; text-decoration-color: #00af00\">0</span>… │\n",
       "│ (<span style=\"color: #0087ff; text-decoration-color: #0087ff\">GlobalAveragePool…</span> │                   │            │                   │\n",
       "├─────────────────────┼───────────────────┼────────────┼───────────────────┤\n",
       "│ shared_layer        │ (<span style=\"color: #00d7ff; text-decoration-color: #00d7ff\">None</span>, <span style=\"color: #00af00; text-decoration-color: #00af00\">2048</span>)      │  <span style=\"color: #00af00; text-decoration-color: #00af00\">2,623,488</span> │ global_average_p… │\n",
       "│ (<span style=\"color: #0087ff; text-decoration-color: #0087ff\">Dense</span>)             │                   │            │                   │\n",
       "├─────────────────────┼───────────────────┼────────────┼───────────────────┤\n",
       "│ batch_normalization │ (<span style=\"color: #00d7ff; text-decoration-color: #00d7ff\">None</span>, <span style=\"color: #00af00; text-decoration-color: #00af00\">2048</span>)      │      <span style=\"color: #00af00; text-decoration-color: #00af00\">8,192</span> │ shared_layer[<span style=\"color: #00af00; text-decoration-color: #00af00\">0</span>][<span style=\"color: #00af00; text-decoration-color: #00af00\">…</span> │\n",
       "│ (<span style=\"color: #0087ff; text-decoration-color: #0087ff\">BatchNormalizatio…</span> │                   │            │                   │\n",
       "├─────────────────────┼───────────────────┼────────────┼───────────────────┤\n",
       "│ activation          │ (<span style=\"color: #00d7ff; text-decoration-color: #00d7ff\">None</span>, <span style=\"color: #00af00; text-decoration-color: #00af00\">2048</span>)      │          <span style=\"color: #00af00; text-decoration-color: #00af00\">0</span> │ batch_normalizat… │\n",
       "│ (<span style=\"color: #0087ff; text-decoration-color: #0087ff\">Activation</span>)        │                   │            │                   │\n",
       "├─────────────────────┼───────────────────┼────────────┼───────────────────┤\n",
       "│ family (<span style=\"color: #0087ff; text-decoration-color: #0087ff\">Dense</span>)      │ (<span style=\"color: #00d7ff; text-decoration-color: #00d7ff\">None</span>, <span style=\"color: #00af00; text-decoration-color: #00af00\">18</span>)        │     <span style=\"color: #00af00; text-decoration-color: #00af00\">36,882</span> │ activation[<span style=\"color: #00af00; text-decoration-color: #00af00\">0</span>][<span style=\"color: #00af00; text-decoration-color: #00af00\">0</span>]  │\n",
       "├─────────────────────┼───────────────────┼────────────┼───────────────────┤\n",
       "│ genus_hidden        │ (<span style=\"color: #00d7ff; text-decoration-color: #00d7ff\">None</span>, <span style=\"color: #00af00; text-decoration-color: #00af00\">2066</span>)      │          <span style=\"color: #00af00; text-decoration-color: #00af00\">0</span> │ activation[<span style=\"color: #00af00; text-decoration-color: #00af00\">0</span>][<span style=\"color: #00af00; text-decoration-color: #00af00\">0</span>], │\n",
       "│ (<span style=\"color: #0087ff; text-decoration-color: #0087ff\">Concatenate</span>)       │                   │            │ family[<span style=\"color: #00af00; text-decoration-color: #00af00\">0</span>][<span style=\"color: #00af00; text-decoration-color: #00af00\">0</span>]      │\n",
       "├─────────────────────┼───────────────────┼────────────┼───────────────────┤\n",
       "│ genus (<span style=\"color: #0087ff; text-decoration-color: #0087ff\">Dense</span>)       │ (<span style=\"color: #00d7ff; text-decoration-color: #00d7ff\">None</span>, <span style=\"color: #00af00; text-decoration-color: #00af00\">43</span>)        │     <span style=\"color: #00af00; text-decoration-color: #00af00\">88,881</span> │ genus_hidden[<span style=\"color: #00af00; text-decoration-color: #00af00\">0</span>][<span style=\"color: #00af00; text-decoration-color: #00af00\">…</span> │\n",
       "├─────────────────────┼───────────────────┼────────────┼───────────────────┤\n",
       "│ species_hidden      │ (<span style=\"color: #00d7ff; text-decoration-color: #00d7ff\">None</span>, <span style=\"color: #00af00; text-decoration-color: #00af00\">2109</span>)      │          <span style=\"color: #00af00; text-decoration-color: #00af00\">0</span> │ activation[<span style=\"color: #00af00; text-decoration-color: #00af00\">0</span>][<span style=\"color: #00af00; text-decoration-color: #00af00\">0</span>], │\n",
       "│ (<span style=\"color: #0087ff; text-decoration-color: #0087ff\">Concatenate</span>)       │                   │            │ family[<span style=\"color: #00af00; text-decoration-color: #00af00\">0</span>][<span style=\"color: #00af00; text-decoration-color: #00af00\">0</span>],     │\n",
       "│                     │                   │            │ genus[<span style=\"color: #00af00; text-decoration-color: #00af00\">0</span>][<span style=\"color: #00af00; text-decoration-color: #00af00\">0</span>]       │\n",
       "├─────────────────────┼───────────────────┼────────────┼───────────────────┤\n",
       "│ species (<span style=\"color: #0087ff; text-decoration-color: #0087ff\">Dense</span>)     │ (<span style=\"color: #00d7ff; text-decoration-color: #00d7ff\">None</span>, <span style=\"color: #00af00; text-decoration-color: #00af00\">61</span>)        │    <span style=\"color: #00af00; text-decoration-color: #00af00\">128,710</span> │ species_hidden[<span style=\"color: #00af00; text-decoration-color: #00af00\">0</span>… │\n",
       "└─────────────────────┴───────────────────┴────────────┴───────────────────┘\n",
       "</pre>\n"
      ],
      "text/plain": [
       "┏━━━━━━━━━━━━━━━━━━━━━┳━━━━━━━━━━━━━━━━━━━┳━━━━━━━━━━━━┳━━━━━━━━━━━━━━━━━━━┓\n",
       "┃\u001b[1m \u001b[0m\u001b[1mLayer (type)       \u001b[0m\u001b[1m \u001b[0m┃\u001b[1m \u001b[0m\u001b[1mOutput Shape     \u001b[0m\u001b[1m \u001b[0m┃\u001b[1m \u001b[0m\u001b[1m   Param #\u001b[0m\u001b[1m \u001b[0m┃\u001b[1m \u001b[0m\u001b[1mConnected to     \u001b[0m\u001b[1m \u001b[0m┃\n",
       "┡━━━━━━━━━━━━━━━━━━━━━╇━━━━━━━━━━━━━━━━━━━╇━━━━━━━━━━━━╇━━━━━━━━━━━━━━━━━━━┩\n",
       "│ input (\u001b[38;5;33mInputLayer\u001b[0m)  │ (\u001b[38;5;45mNone\u001b[0m, \u001b[38;5;34m224\u001b[0m, \u001b[38;5;34m224\u001b[0m,  │          \u001b[38;5;34m0\u001b[0m │ -                 │\n",
       "│                     │ \u001b[38;5;34m3\u001b[0m)                │            │                   │\n",
       "├─────────────────────┼───────────────────┼────────────┼───────────────────┤\n",
       "│ cast_1 (\u001b[38;5;33mCast\u001b[0m)       │ (\u001b[38;5;45mNone\u001b[0m, \u001b[38;5;34m224\u001b[0m, \u001b[38;5;34m224\u001b[0m,  │          \u001b[38;5;34m0\u001b[0m │ input[\u001b[38;5;34m0\u001b[0m][\u001b[38;5;34m0\u001b[0m]       │\n",
       "│                     │ \u001b[38;5;34m3\u001b[0m)                │            │                   │\n",
       "├─────────────────────┼───────────────────┼────────────┼───────────────────┤\n",
       "│ data_augmentation   │ (\u001b[38;5;45mNone\u001b[0m, \u001b[38;5;34m224\u001b[0m, \u001b[38;5;34m224\u001b[0m,  │          \u001b[38;5;34m0\u001b[0m │ cast_1[\u001b[38;5;34m0\u001b[0m][\u001b[38;5;34m0\u001b[0m]      │\n",
       "│ (\u001b[38;5;33mSequential\u001b[0m)        │ \u001b[38;5;34m3\u001b[0m)                │            │                   │\n",
       "├─────────────────────┼───────────────────┼────────────┼───────────────────┤\n",
       "│ efficientnetv2-b0   │ (\u001b[38;5;45mNone\u001b[0m, \u001b[38;5;34m7\u001b[0m, \u001b[38;5;34m7\u001b[0m,      │  \u001b[38;5;34m5,919,312\u001b[0m │ data_augmentatio… │\n",
       "│ (\u001b[38;5;33mFunctional\u001b[0m)        │ \u001b[38;5;34m1280\u001b[0m)             │            │                   │\n",
       "├─────────────────────┼───────────────────┼────────────┼───────────────────┤\n",
       "│ self_attention      │ (\u001b[38;5;45mNone\u001b[0m, \u001b[38;5;34m7\u001b[0m, \u001b[38;5;34m7\u001b[0m,      │  \u001b[38;5;34m4,919,040\u001b[0m │ efficientnetv2-b… │\n",
       "│ (\u001b[38;5;33mSelfAttention\u001b[0m)     │ \u001b[38;5;34m1280\u001b[0m)             │            │                   │\n",
       "├─────────────────────┼───────────────────┼────────────┼───────────────────┤\n",
       "│ global_average_poo… │ (\u001b[38;5;45mNone\u001b[0m, \u001b[38;5;34m1280\u001b[0m)      │          \u001b[38;5;34m0\u001b[0m │ self_attention[\u001b[38;5;34m0\u001b[0m… │\n",
       "│ (\u001b[38;5;33mGlobalAveragePool…\u001b[0m │                   │            │                   │\n",
       "├─────────────────────┼───────────────────┼────────────┼───────────────────┤\n",
       "│ shared_layer        │ (\u001b[38;5;45mNone\u001b[0m, \u001b[38;5;34m2048\u001b[0m)      │  \u001b[38;5;34m2,623,488\u001b[0m │ global_average_p… │\n",
       "│ (\u001b[38;5;33mDense\u001b[0m)             │                   │            │                   │\n",
       "├─────────────────────┼───────────────────┼────────────┼───────────────────┤\n",
       "│ batch_normalization │ (\u001b[38;5;45mNone\u001b[0m, \u001b[38;5;34m2048\u001b[0m)      │      \u001b[38;5;34m8,192\u001b[0m │ shared_layer[\u001b[38;5;34m0\u001b[0m][\u001b[38;5;34m…\u001b[0m │\n",
       "│ (\u001b[38;5;33mBatchNormalizatio…\u001b[0m │                   │            │                   │\n",
       "├─────────────────────┼───────────────────┼────────────┼───────────────────┤\n",
       "│ activation          │ (\u001b[38;5;45mNone\u001b[0m, \u001b[38;5;34m2048\u001b[0m)      │          \u001b[38;5;34m0\u001b[0m │ batch_normalizat… │\n",
       "│ (\u001b[38;5;33mActivation\u001b[0m)        │                   │            │                   │\n",
       "├─────────────────────┼───────────────────┼────────────┼───────────────────┤\n",
       "│ family (\u001b[38;5;33mDense\u001b[0m)      │ (\u001b[38;5;45mNone\u001b[0m, \u001b[38;5;34m18\u001b[0m)        │     \u001b[38;5;34m36,882\u001b[0m │ activation[\u001b[38;5;34m0\u001b[0m][\u001b[38;5;34m0\u001b[0m]  │\n",
       "├─────────────────────┼───────────────────┼────────────┼───────────────────┤\n",
       "│ genus_hidden        │ (\u001b[38;5;45mNone\u001b[0m, \u001b[38;5;34m2066\u001b[0m)      │          \u001b[38;5;34m0\u001b[0m │ activation[\u001b[38;5;34m0\u001b[0m][\u001b[38;5;34m0\u001b[0m], │\n",
       "│ (\u001b[38;5;33mConcatenate\u001b[0m)       │                   │            │ family[\u001b[38;5;34m0\u001b[0m][\u001b[38;5;34m0\u001b[0m]      │\n",
       "├─────────────────────┼───────────────────┼────────────┼───────────────────┤\n",
       "│ genus (\u001b[38;5;33mDense\u001b[0m)       │ (\u001b[38;5;45mNone\u001b[0m, \u001b[38;5;34m43\u001b[0m)        │     \u001b[38;5;34m88,881\u001b[0m │ genus_hidden[\u001b[38;5;34m0\u001b[0m][\u001b[38;5;34m…\u001b[0m │\n",
       "├─────────────────────┼───────────────────┼────────────┼───────────────────┤\n",
       "│ species_hidden      │ (\u001b[38;5;45mNone\u001b[0m, \u001b[38;5;34m2109\u001b[0m)      │          \u001b[38;5;34m0\u001b[0m │ activation[\u001b[38;5;34m0\u001b[0m][\u001b[38;5;34m0\u001b[0m], │\n",
       "│ (\u001b[38;5;33mConcatenate\u001b[0m)       │                   │            │ family[\u001b[38;5;34m0\u001b[0m][\u001b[38;5;34m0\u001b[0m],     │\n",
       "│                     │                   │            │ genus[\u001b[38;5;34m0\u001b[0m][\u001b[38;5;34m0\u001b[0m]       │\n",
       "├─────────────────────┼───────────────────┼────────────┼───────────────────┤\n",
       "│ species (\u001b[38;5;33mDense\u001b[0m)     │ (\u001b[38;5;45mNone\u001b[0m, \u001b[38;5;34m61\u001b[0m)        │    \u001b[38;5;34m128,710\u001b[0m │ species_hidden[\u001b[38;5;34m0\u001b[0m… │\n",
       "└─────────────────────┴───────────────────┴────────────┴───────────────────┘\n"
      ]
     },
     "metadata": {},
     "output_type": "display_data"
    },
    {
     "data": {
      "text/html": [
       "<pre style=\"white-space:pre;overflow-x:auto;line-height:normal;font-family:Menlo,'DejaVu Sans Mono',consolas,'Courier New',monospace\"><span style=\"font-weight: bold\"> Total params: </span><span style=\"color: #00af00; text-decoration-color: #00af00\">13,724,505</span> (52.35 MB)\n",
       "</pre>\n"
      ],
      "text/plain": [
       "\u001b[1m Total params: \u001b[0m\u001b[38;5;34m13,724,505\u001b[0m (52.35 MB)\n"
      ]
     },
     "metadata": {},
     "output_type": "display_data"
    },
    {
     "data": {
      "text/html": [
       "<pre style=\"white-space:pre;overflow-x:auto;line-height:normal;font-family:Menlo,'DejaVu Sans Mono',consolas,'Courier New',monospace\"><span style=\"font-weight: bold\"> Trainable params: </span><span style=\"color: #00af00; text-decoration-color: #00af00\">7,801,097</span> (29.76 MB)\n",
       "</pre>\n"
      ],
      "text/plain": [
       "\u001b[1m Trainable params: \u001b[0m\u001b[38;5;34m7,801,097\u001b[0m (29.76 MB)\n"
      ]
     },
     "metadata": {},
     "output_type": "display_data"
    },
    {
     "data": {
      "text/html": [
       "<pre style=\"white-space:pre;overflow-x:auto;line-height:normal;font-family:Menlo,'DejaVu Sans Mono',consolas,'Courier New',monospace\"><span style=\"font-weight: bold\"> Non-trainable params: </span><span style=\"color: #00af00; text-decoration-color: #00af00\">5,923,408</span> (22.60 MB)\n",
       "</pre>\n"
      ],
      "text/plain": [
       "\u001b[1m Non-trainable params: \u001b[0m\u001b[38;5;34m5,923,408\u001b[0m (22.60 MB)\n"
      ]
     },
     "metadata": {},
     "output_type": "display_data"
    }
   ],
   "source": [
    "base_model = EfficientNetV2B0(include_top=False, weights='imagenet', input_shape=image_shape)\n",
    "base_model.trainable = False\n",
    "preprocess = efficientnet_preprocess\n",
    "\n",
    "inputs = Input(shape=image_shape, name='input')\n",
    "x = data_augmentation(inputs)\n",
    "x = preprocess(x)\n",
    "x = base_model(x, training=False)\n",
    "\n",
    "# attention\n",
    "x = SelfAttention()(x)\n",
    "\n",
    "# PreTrain Model Features Extractor\n",
    "features = GlobalAveragePooling2D()(x)\n",
    "\n",
    "shared_layer = Dense(2048,name='shared_layer')(features)\n",
    "shared_layer = BatchNormalization()(shared_layer)\n",
    "shared_layer = Activation('relu')(shared_layer)\n",
    "\n",
    "# Family Output\n",
    "family_output = Dense(len(names['family']), activation='softmax', name='family')(shared_layer)\n",
    "\n",
    "# Genus Output\n",
    "genus_hidden = Concatenate(name='genus_hidden')([shared_layer, family_output])\n",
    "genus_output = Dense(len(names['genus']), activation='softmax', name='genus')(genus_hidden)\n",
    "\n",
    "# Species Output\n",
    "species_hidden = Concatenate(name='species_hidden')([shared_layer, family_output, genus_output])\n",
    "species_output = Dense(len(names['species']), activation='softmax', name='species')(species_hidden)\n",
    "\n",
    "name = f\"ModelSelfAttention\"\n",
    "model = tf.keras.Model(inputs, [family_output, genus_output, species_output], name=name)\n",
    "\n",
    "model.compile(\n",
    "    optimizer=tf.keras.optimizers.Adam(learning_rate=0.0001),\n",
    "    loss=tf.keras.losses.CategoricalFocalCrossentropy(),\n",
    "    metrics = {\n",
    "        'family': [\"accuracy\", \"AUC\", \"Precision\", \"Recall\"],\n",
    "        'genus': [\"accuracy\", \"AUC\", \"Precision\", \"Recall\"],\n",
    "        'species': [\"accuracy\", \"AUC\", \"Precision\", \"Recall\"],\n",
    "    },\n",
    ")\n",
    "\n",
    "model.summary()"
   ]
  },
  {
   "cell_type": "code",
   "execution_count": 10,
   "metadata": {},
   "outputs": [
    {
     "name": "stderr",
     "output_type": "stream",
     "text": [
      "Epoch 1/5:   0%|          | 0/92 [00:00<?, ?batch/s]"
     ]
    },
    {
     "name": "stderr",
     "output_type": "stream",
     "text": [
      "Epoch 1/5: 100%|██████████| 92/92 [00:48<00:00,  1.89batch/s, loss=1.8944, family_acc=0.3975, genus_acc=0.2690, species_acc=0.2164]\n",
      "\n",
      "\u001b[A                                                                                                                                "
     ]
    },
    {
     "name": "stdout",
     "output_type": "stream",
     "text": [
      "\u001b[32m2025-01-08 11:36:05.580\u001b[0m | \u001b[1mINFO    \u001b[0m | \u001b[36m__main__\u001b[0m:\u001b[36mon_epoch_end\u001b[0m:\u001b[36m53\u001b[0m - \u001b[1mEpoch 1 completed - Loss: 1.8944, Val Family Accuracy: \u001b[31m0.4620\u001b[0m, Val Genus Accuracy: \u001b[31m0.3526\u001b[0m, Val Species Accuracy: \u001b[31m0.3104\u001b[0m\u001b[0m\n"
     ]
    },
    {
     "name": "stderr",
     "output_type": "stream",
     "text": [
      "Epoch 2/5: 100%|██████████| 92/92 [00:30<00:00,  3.02batch/s, loss=1.6269, family_acc=0.4640, genus_acc=0.3602, species_acc=0.3118]\n",
      "\n",
      "\u001b[A                                                                                                                                "
     ]
    },
    {
     "name": "stdout",
     "output_type": "stream",
     "text": [
      "\u001b[32m2025-01-08 11:36:36.088\u001b[0m | \u001b[1mINFO    \u001b[0m | \u001b[36m__main__\u001b[0m:\u001b[36mon_epoch_end\u001b[0m:\u001b[36m53\u001b[0m - \u001b[1mEpoch 2 completed - Loss: 1.6269, Val Family Accuracy: \u001b[31m0.5360\u001b[0m, Val Genus Accuracy: \u001b[31m0.4337\u001b[0m, Val Species Accuracy: \u001b[31m0.3792\u001b[0m\u001b[0m\n"
     ]
    },
    {
     "name": "stderr",
     "output_type": "stream",
     "text": [
      "Epoch 3/5: 100%|██████████| 92/92 [00:28<00:00,  3.20batch/s, loss=1.4327, family_acc=0.5218, genus_acc=0.4293, species_acc=0.3791]\n",
      "\n",
      "\u001b[A                                                                                                                                "
     ]
    },
    {
     "name": "stdout",
     "output_type": "stream",
     "text": [
      "\u001b[32m2025-01-08 11:37:04.872\u001b[0m | \u001b[1mINFO    \u001b[0m | \u001b[36m__main__\u001b[0m:\u001b[36mon_epoch_end\u001b[0m:\u001b[36m53\u001b[0m - \u001b[1mEpoch 3 completed - Loss: 1.4327, Val Family Accuracy: \u001b[31m0.5750\u001b[0m, Val Genus Accuracy: \u001b[31m0.5002\u001b[0m, Val Species Accuracy: \u001b[31m0.4329\u001b[0m\u001b[0m\n"
     ]
    },
    {
     "name": "stderr",
     "output_type": "stream",
     "text": [
      "Epoch 4/5: 100%|██████████| 92/92 [00:32<00:00,  2.86batch/s, loss=1.2840, family_acc=0.5531, genus_acc=0.4871, species_acc=0.4325]\n",
      "\n",
      "\u001b[A                                                                                                                                "
     ]
    },
    {
     "name": "stdout",
     "output_type": "stream",
     "text": [
      "\u001b[32m2025-01-08 11:37:37.034\u001b[0m | \u001b[1mINFO    \u001b[0m | \u001b[36m__main__\u001b[0m:\u001b[36mon_epoch_end\u001b[0m:\u001b[36m53\u001b[0m - \u001b[1mEpoch 4 completed - Loss: 1.2840, Val Family Accuracy: \u001b[31m0.6152\u001b[0m, Val Genus Accuracy: \u001b[31m0.5499\u001b[0m, Val Species Accuracy: \u001b[31m0.4787\u001b[0m\u001b[0m\n"
     ]
    },
    {
     "name": "stderr",
     "output_type": "stream",
     "text": [
      "Epoch 5/5:  34%|███▎      | 31/92 [00:08<00:18,  3.38batch/s, loss=1.2092, family_acc=0.5841, genus_acc=0.5158, species_acc=0.4571]"
     ]
    },
    {
     "ename": "KeyboardInterrupt",
     "evalue": "",
     "output_type": "error",
     "traceback": [
      "\u001b[0;31m---------------------------------------------------------------------------\u001b[0m",
      "\u001b[0;31mKeyboardInterrupt\u001b[0m                         Traceback (most recent call last)",
      "Cell \u001b[0;32mIn[10], line 15\u001b[0m\n\u001b[1;32m      1\u001b[0m model_simple\u001b[38;5;241m.\u001b[39mcompile(\n\u001b[1;32m      2\u001b[0m     optimizer\u001b[38;5;241m=\u001b[39mtf\u001b[38;5;241m.\u001b[39mkeras\u001b[38;5;241m.\u001b[39moptimizers\u001b[38;5;241m.\u001b[39mAdam(learning_rate\u001b[38;5;241m=\u001b[39m\u001b[38;5;241m0.0001\u001b[39m),\n\u001b[1;32m      3\u001b[0m     loss\u001b[38;5;241m=\u001b[39mtf\u001b[38;5;241m.\u001b[39mkeras\u001b[38;5;241m.\u001b[39mlosses\u001b[38;5;241m.\u001b[39mCategoricalFocalCrossentropy(),\n\u001b[0;32m   (...)\u001b[0m\n\u001b[1;32m      8\u001b[0m     },\n\u001b[1;32m      9\u001b[0m )\n\u001b[1;32m     11\u001b[0m callbacks \u001b[38;5;241m=\u001b[39m [\n\u001b[1;32m     12\u001b[0m     TQDMProgressBar(),\n\u001b[1;32m     13\u001b[0m ]\n\u001b[0;32m---> 15\u001b[0m history \u001b[38;5;241m=\u001b[39m \u001b[43mmodel_simple\u001b[49m\u001b[38;5;241;43m.\u001b[39;49m\u001b[43mfit\u001b[49m\u001b[43m(\u001b[49m\n\u001b[1;32m     16\u001b[0m \u001b[43m    \u001b[49m\u001b[43mtrain_ds\u001b[49m\u001b[43m,\u001b[49m\n\u001b[1;32m     17\u001b[0m \u001b[43m    \u001b[49m\u001b[43mvalidation_data\u001b[49m\u001b[38;5;241;43m=\u001b[39;49m\u001b[43mval_ds\u001b[49m\u001b[43m,\u001b[49m\n\u001b[1;32m     18\u001b[0m \u001b[43m    \u001b[49m\u001b[43mepochs\u001b[49m\u001b[38;5;241;43m=\u001b[39;49m\u001b[38;5;241;43m5\u001b[39;49m\u001b[43m,\u001b[49m\n\u001b[1;32m     19\u001b[0m \u001b[43m    \u001b[49m\u001b[43mcallbacks\u001b[49m\u001b[38;5;241;43m=\u001b[39;49m\u001b[43m[\u001b[49m\n\u001b[1;32m     20\u001b[0m \u001b[43m        \u001b[49m\u001b[43mTQDMProgressBar\u001b[49m\u001b[43m(\u001b[49m\u001b[43m)\u001b[49m\u001b[43m,\u001b[49m\u001b[43m   \u001b[49m\n\u001b[1;32m     21\u001b[0m \u001b[43m    \u001b[49m\u001b[43m]\u001b[49m\u001b[43m,\u001b[49m\n\u001b[1;32m     22\u001b[0m \u001b[43m    \u001b[49m\u001b[43mverbose\u001b[49m\u001b[38;5;241;43m=\u001b[39;49m\u001b[38;5;241;43m0\u001b[39;49m\n\u001b[1;32m     23\u001b[0m \u001b[43m)\u001b[49m\n",
      "File \u001b[0;32m~/miniconda3/envs/cvenv/lib/python3.10/site-packages/keras/src/utils/traceback_utils.py:117\u001b[0m, in \u001b[0;36mfilter_traceback.<locals>.error_handler\u001b[0;34m(*args, **kwargs)\u001b[0m\n\u001b[1;32m    115\u001b[0m filtered_tb \u001b[38;5;241m=\u001b[39m \u001b[38;5;28;01mNone\u001b[39;00m\n\u001b[1;32m    116\u001b[0m \u001b[38;5;28;01mtry\u001b[39;00m:\n\u001b[0;32m--> 117\u001b[0m     \u001b[38;5;28;01mreturn\u001b[39;00m \u001b[43mfn\u001b[49m\u001b[43m(\u001b[49m\u001b[38;5;241;43m*\u001b[39;49m\u001b[43margs\u001b[49m\u001b[43m,\u001b[49m\u001b[43m \u001b[49m\u001b[38;5;241;43m*\u001b[39;49m\u001b[38;5;241;43m*\u001b[39;49m\u001b[43mkwargs\u001b[49m\u001b[43m)\u001b[49m\n\u001b[1;32m    118\u001b[0m \u001b[38;5;28;01mexcept\u001b[39;00m \u001b[38;5;167;01mException\u001b[39;00m \u001b[38;5;28;01mas\u001b[39;00m e:\n\u001b[1;32m    119\u001b[0m     filtered_tb \u001b[38;5;241m=\u001b[39m _process_traceback_frames(e\u001b[38;5;241m.\u001b[39m__traceback__)\n",
      "File \u001b[0;32m~/miniconda3/envs/cvenv/lib/python3.10/site-packages/keras/src/backend/tensorflow/trainer.py:320\u001b[0m, in \u001b[0;36mTensorFlowTrainer.fit\u001b[0;34m(self, x, y, batch_size, epochs, verbose, callbacks, validation_split, validation_data, shuffle, class_weight, sample_weight, initial_epoch, steps_per_epoch, validation_steps, validation_batch_size, validation_freq)\u001b[0m\n\u001b[1;32m    318\u001b[0m \u001b[38;5;28;01mfor\u001b[39;00m step, iterator \u001b[38;5;129;01min\u001b[39;00m epoch_iterator\u001b[38;5;241m.\u001b[39menumerate_epoch():\n\u001b[1;32m    319\u001b[0m     callbacks\u001b[38;5;241m.\u001b[39mon_train_batch_begin(step)\n\u001b[0;32m--> 320\u001b[0m     logs \u001b[38;5;241m=\u001b[39m \u001b[38;5;28;43mself\u001b[39;49m\u001b[38;5;241;43m.\u001b[39;49m\u001b[43mtrain_function\u001b[49m\u001b[43m(\u001b[49m\u001b[43miterator\u001b[49m\u001b[43m)\u001b[49m\n\u001b[1;32m    321\u001b[0m     logs \u001b[38;5;241m=\u001b[39m \u001b[38;5;28mself\u001b[39m\u001b[38;5;241m.\u001b[39m_pythonify_logs(logs)\n\u001b[1;32m    322\u001b[0m     callbacks\u001b[38;5;241m.\u001b[39mon_train_batch_end(step, logs)\n",
      "File \u001b[0;32m~/miniconda3/envs/cvenv/lib/python3.10/site-packages/tensorflow/python/util/traceback_utils.py:150\u001b[0m, in \u001b[0;36mfilter_traceback.<locals>.error_handler\u001b[0;34m(*args, **kwargs)\u001b[0m\n\u001b[1;32m    148\u001b[0m filtered_tb \u001b[38;5;241m=\u001b[39m \u001b[38;5;28;01mNone\u001b[39;00m\n\u001b[1;32m    149\u001b[0m \u001b[38;5;28;01mtry\u001b[39;00m:\n\u001b[0;32m--> 150\u001b[0m   \u001b[38;5;28;01mreturn\u001b[39;00m \u001b[43mfn\u001b[49m\u001b[43m(\u001b[49m\u001b[38;5;241;43m*\u001b[39;49m\u001b[43margs\u001b[49m\u001b[43m,\u001b[49m\u001b[43m \u001b[49m\u001b[38;5;241;43m*\u001b[39;49m\u001b[38;5;241;43m*\u001b[39;49m\u001b[43mkwargs\u001b[49m\u001b[43m)\u001b[49m\n\u001b[1;32m    151\u001b[0m \u001b[38;5;28;01mexcept\u001b[39;00m \u001b[38;5;167;01mException\u001b[39;00m \u001b[38;5;28;01mas\u001b[39;00m e:\n\u001b[1;32m    152\u001b[0m   filtered_tb \u001b[38;5;241m=\u001b[39m _process_traceback_frames(e\u001b[38;5;241m.\u001b[39m__traceback__)\n",
      "File \u001b[0;32m~/miniconda3/envs/cvenv/lib/python3.10/site-packages/tensorflow/python/eager/polymorphic_function/polymorphic_function.py:833\u001b[0m, in \u001b[0;36mFunction.__call__\u001b[0;34m(self, *args, **kwds)\u001b[0m\n\u001b[1;32m    830\u001b[0m compiler \u001b[38;5;241m=\u001b[39m \u001b[38;5;124m\"\u001b[39m\u001b[38;5;124mxla\u001b[39m\u001b[38;5;124m\"\u001b[39m \u001b[38;5;28;01mif\u001b[39;00m \u001b[38;5;28mself\u001b[39m\u001b[38;5;241m.\u001b[39m_jit_compile \u001b[38;5;28;01melse\u001b[39;00m \u001b[38;5;124m\"\u001b[39m\u001b[38;5;124mnonXla\u001b[39m\u001b[38;5;124m\"\u001b[39m\n\u001b[1;32m    832\u001b[0m \u001b[38;5;28;01mwith\u001b[39;00m OptionalXlaContext(\u001b[38;5;28mself\u001b[39m\u001b[38;5;241m.\u001b[39m_jit_compile):\n\u001b[0;32m--> 833\u001b[0m   result \u001b[38;5;241m=\u001b[39m \u001b[38;5;28;43mself\u001b[39;49m\u001b[38;5;241;43m.\u001b[39;49m\u001b[43m_call\u001b[49m\u001b[43m(\u001b[49m\u001b[38;5;241;43m*\u001b[39;49m\u001b[43margs\u001b[49m\u001b[43m,\u001b[49m\u001b[43m \u001b[49m\u001b[38;5;241;43m*\u001b[39;49m\u001b[38;5;241;43m*\u001b[39;49m\u001b[43mkwds\u001b[49m\u001b[43m)\u001b[49m\n\u001b[1;32m    835\u001b[0m new_tracing_count \u001b[38;5;241m=\u001b[39m \u001b[38;5;28mself\u001b[39m\u001b[38;5;241m.\u001b[39mexperimental_get_tracing_count()\n\u001b[1;32m    836\u001b[0m without_tracing \u001b[38;5;241m=\u001b[39m (tracing_count \u001b[38;5;241m==\u001b[39m new_tracing_count)\n",
      "File \u001b[0;32m~/miniconda3/envs/cvenv/lib/python3.10/site-packages/tensorflow/python/eager/polymorphic_function/polymorphic_function.py:878\u001b[0m, in \u001b[0;36mFunction._call\u001b[0;34m(self, *args, **kwds)\u001b[0m\n\u001b[1;32m    875\u001b[0m \u001b[38;5;28mself\u001b[39m\u001b[38;5;241m.\u001b[39m_lock\u001b[38;5;241m.\u001b[39mrelease()\n\u001b[1;32m    876\u001b[0m \u001b[38;5;66;03m# In this case we have not created variables on the first call. So we can\u001b[39;00m\n\u001b[1;32m    877\u001b[0m \u001b[38;5;66;03m# run the first trace but we should fail if variables are created.\u001b[39;00m\n\u001b[0;32m--> 878\u001b[0m results \u001b[38;5;241m=\u001b[39m \u001b[43mtracing_compilation\u001b[49m\u001b[38;5;241;43m.\u001b[39;49m\u001b[43mcall_function\u001b[49m\u001b[43m(\u001b[49m\n\u001b[1;32m    879\u001b[0m \u001b[43m    \u001b[49m\u001b[43margs\u001b[49m\u001b[43m,\u001b[49m\u001b[43m \u001b[49m\u001b[43mkwds\u001b[49m\u001b[43m,\u001b[49m\u001b[43m \u001b[49m\u001b[38;5;28;43mself\u001b[39;49m\u001b[38;5;241;43m.\u001b[39;49m\u001b[43m_variable_creation_config\u001b[49m\n\u001b[1;32m    880\u001b[0m \u001b[43m\u001b[49m\u001b[43m)\u001b[49m\n\u001b[1;32m    881\u001b[0m \u001b[38;5;28;01mif\u001b[39;00m \u001b[38;5;28mself\u001b[39m\u001b[38;5;241m.\u001b[39m_created_variables:\n\u001b[1;32m    882\u001b[0m   \u001b[38;5;28;01mraise\u001b[39;00m \u001b[38;5;167;01mValueError\u001b[39;00m(\u001b[38;5;124m\"\u001b[39m\u001b[38;5;124mCreating variables on a non-first call to a function\u001b[39m\u001b[38;5;124m\"\u001b[39m\n\u001b[1;32m    883\u001b[0m                    \u001b[38;5;124m\"\u001b[39m\u001b[38;5;124m decorated with tf.function.\u001b[39m\u001b[38;5;124m\"\u001b[39m)\n",
      "File \u001b[0;32m~/miniconda3/envs/cvenv/lib/python3.10/site-packages/tensorflow/python/eager/polymorphic_function/tracing_compilation.py:139\u001b[0m, in \u001b[0;36mcall_function\u001b[0;34m(args, kwargs, tracing_options)\u001b[0m\n\u001b[1;32m    137\u001b[0m bound_args \u001b[38;5;241m=\u001b[39m function\u001b[38;5;241m.\u001b[39mfunction_type\u001b[38;5;241m.\u001b[39mbind(\u001b[38;5;241m*\u001b[39margs, \u001b[38;5;241m*\u001b[39m\u001b[38;5;241m*\u001b[39mkwargs)\n\u001b[1;32m    138\u001b[0m flat_inputs \u001b[38;5;241m=\u001b[39m function\u001b[38;5;241m.\u001b[39mfunction_type\u001b[38;5;241m.\u001b[39munpack_inputs(bound_args)\n\u001b[0;32m--> 139\u001b[0m \u001b[38;5;28;01mreturn\u001b[39;00m \u001b[43mfunction\u001b[49m\u001b[38;5;241;43m.\u001b[39;49m\u001b[43m_call_flat\u001b[49m\u001b[43m(\u001b[49m\u001b[43m  \u001b[49m\u001b[38;5;66;43;03m# pylint: disable=protected-access\u001b[39;49;00m\n\u001b[1;32m    140\u001b[0m \u001b[43m    \u001b[49m\u001b[43mflat_inputs\u001b[49m\u001b[43m,\u001b[49m\u001b[43m \u001b[49m\u001b[43mcaptured_inputs\u001b[49m\u001b[38;5;241;43m=\u001b[39;49m\u001b[43mfunction\u001b[49m\u001b[38;5;241;43m.\u001b[39;49m\u001b[43mcaptured_inputs\u001b[49m\n\u001b[1;32m    141\u001b[0m \u001b[43m\u001b[49m\u001b[43m)\u001b[49m\n",
      "File \u001b[0;32m~/miniconda3/envs/cvenv/lib/python3.10/site-packages/tensorflow/python/eager/polymorphic_function/concrete_function.py:1322\u001b[0m, in \u001b[0;36mConcreteFunction._call_flat\u001b[0;34m(self, tensor_inputs, captured_inputs)\u001b[0m\n\u001b[1;32m   1318\u001b[0m possible_gradient_type \u001b[38;5;241m=\u001b[39m gradients_util\u001b[38;5;241m.\u001b[39mPossibleTapeGradientTypes(args)\n\u001b[1;32m   1319\u001b[0m \u001b[38;5;28;01mif\u001b[39;00m (possible_gradient_type \u001b[38;5;241m==\u001b[39m gradients_util\u001b[38;5;241m.\u001b[39mPOSSIBLE_GRADIENT_TYPES_NONE\n\u001b[1;32m   1320\u001b[0m     \u001b[38;5;129;01mand\u001b[39;00m executing_eagerly):\n\u001b[1;32m   1321\u001b[0m   \u001b[38;5;66;03m# No tape is watching; skip to running the function.\u001b[39;00m\n\u001b[0;32m-> 1322\u001b[0m   \u001b[38;5;28;01mreturn\u001b[39;00m \u001b[38;5;28;43mself\u001b[39;49m\u001b[38;5;241;43m.\u001b[39;49m\u001b[43m_inference_function\u001b[49m\u001b[38;5;241;43m.\u001b[39;49m\u001b[43mcall_preflattened\u001b[49m\u001b[43m(\u001b[49m\u001b[43margs\u001b[49m\u001b[43m)\u001b[49m\n\u001b[1;32m   1323\u001b[0m forward_backward \u001b[38;5;241m=\u001b[39m \u001b[38;5;28mself\u001b[39m\u001b[38;5;241m.\u001b[39m_select_forward_and_backward_functions(\n\u001b[1;32m   1324\u001b[0m     args,\n\u001b[1;32m   1325\u001b[0m     possible_gradient_type,\n\u001b[1;32m   1326\u001b[0m     executing_eagerly)\n\u001b[1;32m   1327\u001b[0m forward_function, args_with_tangents \u001b[38;5;241m=\u001b[39m forward_backward\u001b[38;5;241m.\u001b[39mforward()\n",
      "File \u001b[0;32m~/miniconda3/envs/cvenv/lib/python3.10/site-packages/tensorflow/python/eager/polymorphic_function/atomic_function.py:216\u001b[0m, in \u001b[0;36mAtomicFunction.call_preflattened\u001b[0;34m(self, args)\u001b[0m\n\u001b[1;32m    214\u001b[0m \u001b[38;5;28;01mdef\u001b[39;00m \u001b[38;5;21mcall_preflattened\u001b[39m(\u001b[38;5;28mself\u001b[39m, args: Sequence[core\u001b[38;5;241m.\u001b[39mTensor]) \u001b[38;5;241m-\u001b[39m\u001b[38;5;241m>\u001b[39m Any:\n\u001b[1;32m    215\u001b[0m \u001b[38;5;250m  \u001b[39m\u001b[38;5;124;03m\"\"\"Calls with flattened tensor inputs and returns the structured output.\"\"\"\u001b[39;00m\n\u001b[0;32m--> 216\u001b[0m   flat_outputs \u001b[38;5;241m=\u001b[39m \u001b[38;5;28;43mself\u001b[39;49m\u001b[38;5;241;43m.\u001b[39;49m\u001b[43mcall_flat\u001b[49m\u001b[43m(\u001b[49m\u001b[38;5;241;43m*\u001b[39;49m\u001b[43margs\u001b[49m\u001b[43m)\u001b[49m\n\u001b[1;32m    217\u001b[0m   \u001b[38;5;28;01mreturn\u001b[39;00m \u001b[38;5;28mself\u001b[39m\u001b[38;5;241m.\u001b[39mfunction_type\u001b[38;5;241m.\u001b[39mpack_output(flat_outputs)\n",
      "File \u001b[0;32m~/miniconda3/envs/cvenv/lib/python3.10/site-packages/tensorflow/python/eager/polymorphic_function/atomic_function.py:251\u001b[0m, in \u001b[0;36mAtomicFunction.call_flat\u001b[0;34m(self, *args)\u001b[0m\n\u001b[1;32m    249\u001b[0m \u001b[38;5;28;01mwith\u001b[39;00m record\u001b[38;5;241m.\u001b[39mstop_recording():\n\u001b[1;32m    250\u001b[0m   \u001b[38;5;28;01mif\u001b[39;00m \u001b[38;5;28mself\u001b[39m\u001b[38;5;241m.\u001b[39m_bound_context\u001b[38;5;241m.\u001b[39mexecuting_eagerly():\n\u001b[0;32m--> 251\u001b[0m     outputs \u001b[38;5;241m=\u001b[39m \u001b[38;5;28;43mself\u001b[39;49m\u001b[38;5;241;43m.\u001b[39;49m\u001b[43m_bound_context\u001b[49m\u001b[38;5;241;43m.\u001b[39;49m\u001b[43mcall_function\u001b[49m\u001b[43m(\u001b[49m\n\u001b[1;32m    252\u001b[0m \u001b[43m        \u001b[49m\u001b[38;5;28;43mself\u001b[39;49m\u001b[38;5;241;43m.\u001b[39;49m\u001b[43mname\u001b[49m\u001b[43m,\u001b[49m\n\u001b[1;32m    253\u001b[0m \u001b[43m        \u001b[49m\u001b[38;5;28;43mlist\u001b[39;49m\u001b[43m(\u001b[49m\u001b[43margs\u001b[49m\u001b[43m)\u001b[49m\u001b[43m,\u001b[49m\n\u001b[1;32m    254\u001b[0m \u001b[43m        \u001b[49m\u001b[38;5;28;43mlen\u001b[39;49m\u001b[43m(\u001b[49m\u001b[38;5;28;43mself\u001b[39;49m\u001b[38;5;241;43m.\u001b[39;49m\u001b[43mfunction_type\u001b[49m\u001b[38;5;241;43m.\u001b[39;49m\u001b[43mflat_outputs\u001b[49m\u001b[43m)\u001b[49m\u001b[43m,\u001b[49m\n\u001b[1;32m    255\u001b[0m \u001b[43m    \u001b[49m\u001b[43m)\u001b[49m\n\u001b[1;32m    256\u001b[0m   \u001b[38;5;28;01melse\u001b[39;00m:\n\u001b[1;32m    257\u001b[0m     outputs \u001b[38;5;241m=\u001b[39m make_call_op_in_graph(\n\u001b[1;32m    258\u001b[0m         \u001b[38;5;28mself\u001b[39m,\n\u001b[1;32m    259\u001b[0m         \u001b[38;5;28mlist\u001b[39m(args),\n\u001b[1;32m    260\u001b[0m         \u001b[38;5;28mself\u001b[39m\u001b[38;5;241m.\u001b[39m_bound_context\u001b[38;5;241m.\u001b[39mfunction_call_options\u001b[38;5;241m.\u001b[39mas_attrs(),\n\u001b[1;32m    261\u001b[0m     )\n",
      "File \u001b[0;32m~/miniconda3/envs/cvenv/lib/python3.10/site-packages/tensorflow/python/eager/context.py:1552\u001b[0m, in \u001b[0;36mContext.call_function\u001b[0;34m(self, name, tensor_inputs, num_outputs)\u001b[0m\n\u001b[1;32m   1550\u001b[0m cancellation_context \u001b[38;5;241m=\u001b[39m cancellation\u001b[38;5;241m.\u001b[39mcontext()\n\u001b[1;32m   1551\u001b[0m \u001b[38;5;28;01mif\u001b[39;00m cancellation_context \u001b[38;5;129;01mis\u001b[39;00m \u001b[38;5;28;01mNone\u001b[39;00m:\n\u001b[0;32m-> 1552\u001b[0m   outputs \u001b[38;5;241m=\u001b[39m \u001b[43mexecute\u001b[49m\u001b[38;5;241;43m.\u001b[39;49m\u001b[43mexecute\u001b[49m\u001b[43m(\u001b[49m\n\u001b[1;32m   1553\u001b[0m \u001b[43m      \u001b[49m\u001b[43mname\u001b[49m\u001b[38;5;241;43m.\u001b[39;49m\u001b[43mdecode\u001b[49m\u001b[43m(\u001b[49m\u001b[38;5;124;43m\"\u001b[39;49m\u001b[38;5;124;43mutf-8\u001b[39;49m\u001b[38;5;124;43m\"\u001b[39;49m\u001b[43m)\u001b[49m\u001b[43m,\u001b[49m\n\u001b[1;32m   1554\u001b[0m \u001b[43m      \u001b[49m\u001b[43mnum_outputs\u001b[49m\u001b[38;5;241;43m=\u001b[39;49m\u001b[43mnum_outputs\u001b[49m\u001b[43m,\u001b[49m\n\u001b[1;32m   1555\u001b[0m \u001b[43m      \u001b[49m\u001b[43minputs\u001b[49m\u001b[38;5;241;43m=\u001b[39;49m\u001b[43mtensor_inputs\u001b[49m\u001b[43m,\u001b[49m\n\u001b[1;32m   1556\u001b[0m \u001b[43m      \u001b[49m\u001b[43mattrs\u001b[49m\u001b[38;5;241;43m=\u001b[39;49m\u001b[43mattrs\u001b[49m\u001b[43m,\u001b[49m\n\u001b[1;32m   1557\u001b[0m \u001b[43m      \u001b[49m\u001b[43mctx\u001b[49m\u001b[38;5;241;43m=\u001b[39;49m\u001b[38;5;28;43mself\u001b[39;49m\u001b[43m,\u001b[49m\n\u001b[1;32m   1558\u001b[0m \u001b[43m  \u001b[49m\u001b[43m)\u001b[49m\n\u001b[1;32m   1559\u001b[0m \u001b[38;5;28;01melse\u001b[39;00m:\n\u001b[1;32m   1560\u001b[0m   outputs \u001b[38;5;241m=\u001b[39m execute\u001b[38;5;241m.\u001b[39mexecute_with_cancellation(\n\u001b[1;32m   1561\u001b[0m       name\u001b[38;5;241m.\u001b[39mdecode(\u001b[38;5;124m\"\u001b[39m\u001b[38;5;124mutf-8\u001b[39m\u001b[38;5;124m\"\u001b[39m),\n\u001b[1;32m   1562\u001b[0m       num_outputs\u001b[38;5;241m=\u001b[39mnum_outputs,\n\u001b[0;32m   (...)\u001b[0m\n\u001b[1;32m   1566\u001b[0m       cancellation_manager\u001b[38;5;241m=\u001b[39mcancellation_context,\n\u001b[1;32m   1567\u001b[0m   )\n",
      "File \u001b[0;32m~/miniconda3/envs/cvenv/lib/python3.10/site-packages/tensorflow/python/eager/execute.py:53\u001b[0m, in \u001b[0;36mquick_execute\u001b[0;34m(op_name, num_outputs, inputs, attrs, ctx, name)\u001b[0m\n\u001b[1;32m     51\u001b[0m \u001b[38;5;28;01mtry\u001b[39;00m:\n\u001b[1;32m     52\u001b[0m   ctx\u001b[38;5;241m.\u001b[39mensure_initialized()\n\u001b[0;32m---> 53\u001b[0m   tensors \u001b[38;5;241m=\u001b[39m \u001b[43mpywrap_tfe\u001b[49m\u001b[38;5;241;43m.\u001b[39;49m\u001b[43mTFE_Py_Execute\u001b[49m\u001b[43m(\u001b[49m\u001b[43mctx\u001b[49m\u001b[38;5;241;43m.\u001b[39;49m\u001b[43m_handle\u001b[49m\u001b[43m,\u001b[49m\u001b[43m \u001b[49m\u001b[43mdevice_name\u001b[49m\u001b[43m,\u001b[49m\u001b[43m \u001b[49m\u001b[43mop_name\u001b[49m\u001b[43m,\u001b[49m\n\u001b[1;32m     54\u001b[0m \u001b[43m                                      \u001b[49m\u001b[43minputs\u001b[49m\u001b[43m,\u001b[49m\u001b[43m \u001b[49m\u001b[43mattrs\u001b[49m\u001b[43m,\u001b[49m\u001b[43m \u001b[49m\u001b[43mnum_outputs\u001b[49m\u001b[43m)\u001b[49m\n\u001b[1;32m     55\u001b[0m \u001b[38;5;28;01mexcept\u001b[39;00m core\u001b[38;5;241m.\u001b[39m_NotOkStatusException \u001b[38;5;28;01mas\u001b[39;00m e:\n\u001b[1;32m     56\u001b[0m   \u001b[38;5;28;01mif\u001b[39;00m name \u001b[38;5;129;01mis\u001b[39;00m \u001b[38;5;129;01mnot\u001b[39;00m \u001b[38;5;28;01mNone\u001b[39;00m:\n",
      "\u001b[0;31mKeyboardInterrupt\u001b[0m: "
     ]
    }
   ],
   "source": [
    "model_simple.compile(\n",
    "    optimizer=tf.keras.optimizers.Adam(learning_rate=0.0001),\n",
    "    loss=tf.keras.losses.CategoricalFocalCrossentropy(),\n",
    "    metrics = {\n",
    "        'family': [\"accuracy\", \"AUC\", \"Precision\", \"Recall\"],\n",
    "        'genus': [\"accuracy\", \"AUC\", \"Precision\", \"Recall\"],\n",
    "        'species': [\"accuracy\", \"AUC\", \"Precision\", \"Recall\"],\n",
    "    },\n",
    ")\n",
    "\n",
    "callbacks = [\n",
    "    TQDMProgressBar(),\n",
    "]\n",
    "\n",
    "history = model_simple.fit(\n",
    "    train_ds,\n",
    "    validation_data=val_ds,\n",
    "    epochs=5,\n",
    "    callbacks=[\n",
    "        TQDMProgressBar(),   \n",
    "    ],\n",
    "    verbose=0\n",
    ")"
   ]
  },
  {
   "cell_type": "code",
   "execution_count": 10,
   "metadata": {},
   "outputs": [
    {
     "name": "stdout",
     "output_type": "stream",
     "text": [
      "\u001b[1m20/20\u001b[0m \u001b[32m━━━━━━━━━━━━━━━━━━━━\u001b[0m\u001b[37m\u001b[0m \u001b[1m18s\u001b[0m 542ms/step - family_AUC: 0.9951 - family_Precision: 0.9492 - family_Recall: 0.8212 - family_accuracy: 0.8854 - family_loss: 0.0496 - genus_AUC: 0.9944 - genus_Precision: 0.9568 - genus_Recall: 0.7990 - genus_accuracy: 0.8809 - genus_loss: 0.0725 - loss: 0.2171 - species_AUC: 0.9924 - species_Precision: 0.9447 - species_Recall: 0.7426 - species_accuracy: 0.8528 - species_loss: 0.0957\n",
      "\n",
      "Family Accuracy: 0.899 / Loss: 0.045\n",
      "\n",
      "Genus Accuracy: 0.889 / Loss: 0.063\n",
      "\n",
      "Species Accuracy: 0.858 / Loss: 0.085\n",
      "\n"
     ]
    }
   ],
   "source": [
    "results = model.evaluate(test_ds, return_dict=True)\n",
    "\n",
    "print(f\"\"\"\n",
    "Family Accuracy: {results['family_accuracy']:.3f} / Loss: {results['family_loss']:.3f}\\n\n",
    "Genus Accuracy: {results['genus_accuracy']:.3f} / Loss: {results['genus_loss']:.3f}\\n\n",
    "Species Accuracy: {results['species_accuracy']:.3f} / Loss: {results['species_loss']:.3f}\n",
    "\"\"\")"
   ]
  },
  {
   "cell_type": "code",
   "execution_count": 12,
   "metadata": {},
   "outputs": [
    {
     "name": "stderr",
     "output_type": "stream",
     "text": [
      "Epoch 1/10: 100%|██████████| 92/92 [01:11<00:00,  1.29batch/s, loss=1.3927, family_acc=0.5786, genus_acc=0.4594, species_acc=0.3795]\n"
     ]
    },
    {
     "name": "stdout",
     "output_type": "stream",
     "text": [
      "\u001b[32m2025-01-07 16:23:24.095\u001b[0m | \u001b[1mINFO    \u001b[0m | \u001b[36m__main__\u001b[0m:\u001b[36mon_epoch_end\u001b[0m:\u001b[36m53\u001b[0m - \u001b[1mEpoch 1 completed - Loss: 1.3927, Val Family Accuracy: \u001b[33m0.7573\u001b[0m, Val Genus Accuracy: \u001b[31m0.6801\u001b[0m, Val Species Accuracy: \u001b[31m0.6041\u001b[0m\u001b[0m\n"
     ]
    },
    {
     "name": "stderr",
     "output_type": "stream",
     "text": [
      "Epoch 2/10: 100%|██████████| 92/92 [00:59<00:00,  1.56batch/s, loss=0.5378, family_acc=0.8177, genus_acc=0.7643, species_acc=0.7175]\n"
     ]
    },
    {
     "name": "stdout",
     "output_type": "stream",
     "text": [
      "\u001b[32m2025-01-07 16:24:23.228\u001b[0m | \u001b[1mINFO    \u001b[0m | \u001b[36m__main__\u001b[0m:\u001b[36mon_epoch_end\u001b[0m:\u001b[36m53\u001b[0m - \u001b[1mEpoch 2 completed - Loss: 0.5378, Val Family Accuracy: \u001b[33m0.8185\u001b[0m, Val Genus Accuracy: \u001b[33m0.7776\u001b[0m, Val Species Accuracy: \u001b[31m0.7322\u001b[0m\u001b[0m\n"
     ]
    },
    {
     "name": "stderr",
     "output_type": "stream",
     "text": [
      "Epoch 3/10: 100%|██████████| 92/92 [01:00<00:00,  1.53batch/s, loss=0.3507, family_acc=0.8681, genus_acc=0.8389, species_acc=0.8045]\n"
     ]
    },
    {
     "name": "stdout",
     "output_type": "stream",
     "text": [
      "\u001b[32m2025-01-07 16:25:23.268\u001b[0m | \u001b[1mINFO    \u001b[0m | \u001b[36m__main__\u001b[0m:\u001b[36mon_epoch_end\u001b[0m:\u001b[36m53\u001b[0m - \u001b[1mEpoch 3 completed - Loss: 0.3507, Val Family Accuracy: \u001b[33m0.8432\u001b[0m, Val Genus Accuracy: \u001b[33m0.8098\u001b[0m, Val Species Accuracy: \u001b[33m0.7756\u001b[0m\u001b[0m\n"
     ]
    },
    {
     "name": "stderr",
     "output_type": "stream",
     "text": [
      "Epoch 4/10: 100%|██████████| 92/92 [00:58<00:00,  1.56batch/s, loss=0.2572, family_acc=0.8976, genus_acc=0.8771, species_acc=0.8550]\n"
     ]
    },
    {
     "name": "stdout",
     "output_type": "stream",
     "text": [
      "\u001b[32m2025-01-07 16:26:22.267\u001b[0m | \u001b[1mINFO    \u001b[0m | \u001b[36m__main__\u001b[0m:\u001b[36mon_epoch_end\u001b[0m:\u001b[36m53\u001b[0m - \u001b[1mEpoch 4 completed - Loss: 0.2572, Val Family Accuracy: \u001b[32m0.8559\u001b[0m, Val Genus Accuracy: \u001b[33m0.8245\u001b[0m, Val Species Accuracy: \u001b[33m0.7939\u001b[0m\u001b[0m\n"
     ]
    },
    {
     "name": "stderr",
     "output_type": "stream",
     "text": [
      "Epoch 5/10: 100%|██████████| 92/92 [00:58<00:00,  1.58batch/s, loss=0.1975, family_acc=0.9196, genus_acc=0.9041, species_acc=0.8887]"
     ]
    },
    {
     "name": "stdout",
     "output_type": "stream",
     "text": [
      "\u001b[32m2025-01-07 16:27:20.520\u001b[0m | \u001b[1mINFO    \u001b[0m | \u001b[36m__main__\u001b[0m:\u001b[36mon_epoch_end\u001b[0m:\u001b[36m53\u001b[0m - \u001b[1mEpoch 5 completed - Loss: 0.1975, Val Family Accuracy: \u001b[32m0.8651\u001b[0m, Val Genus Accuracy: \u001b[33m0.8353\u001b[0m, Val Species Accuracy: \u001b[33m0.8034\u001b[0m\u001b[0m\n"
     ]
    },
    {
     "name": "stderr",
     "output_type": "stream",
     "text": [
      "\n"
     ]
    }
   ],
   "source": [
    "base_model = ResNet50V2(include_top=False, weights='imagenet', input_shape=image_shape)\n",
    "base_model.trainable = False\n",
    "preprocess = resnet_preprocess\n",
    "\n",
    "inputs = Input(shape=image_shape, name='input')\n",
    "x = preprocess(inputs)\n",
    "x = base_model(x, training=False)\n",
    "\n",
    "# PreTrain Model Features Extractor\n",
    "features = GlobalAveragePooling2D()(x)\n",
    "\n",
    "shared_layer = Dense(1024,name='shared_layer')(features)\n",
    "shared_layer = BatchNormalization()(shared_layer)\n",
    "shared_layer = Activation('relu')(shared_layer)\n",
    "\n",
    "# Family Output\n",
    "family_output = Dense(len(names['family']), activation='softmax', name='family')(shared_layer)\n",
    "\n",
    "# Genus Output\n",
    "genus_output = Dense(len(names['genus']), activation='softmax', name='genus')(shared_layer)\n",
    "\n",
    "# Species Output\n",
    "species_output = Dense(len(names['species']), activation='softmax', name='species')(shared_layer)\n",
    "\n",
    "name = f\"CryptoVisionModel\"\n",
    "model = tf.keras.Model(inputs, [family_output, genus_output, species_output], name=name)\n",
    "\n",
    "model.compile(\n",
    "    optimizer=tf.keras.optimizers.Adam(learning_rate=0.0001),\n",
    "    loss=tf.keras.losses.CategoricalFocalCrossentropy(),\n",
    "    metrics = {\n",
    "        'family': [\"accuracy\", \"AUC\", \"Precision\", \"Recall\"],\n",
    "        'genus': [\"accuracy\", \"AUC\", \"Precision\", \"Recall\"],\n",
    "        'species': [\"accuracy\", \"AUC\", \"Precision\", \"Recall\"],\n",
    "    },\n",
    ")\n",
    "\n",
    "history = model.fit(\n",
    "    train_ds,\n",
    "    validation_data=val_ds,\n",
    "    epochs=10,\n",
    "    callbacks=callbacks,\n",
    "    verbose=0\n",
    ")"
   ]
  },
  {
   "cell_type": "code",
   "execution_count": 10,
   "metadata": {},
   "outputs": [
    {
     "data": {
      "image/png": "[encoded data removed]",
      "text/plain": [
       "<Figure size 2000x800 with 2 Axes>"
      ]
     },
     "metadata": {},
     "output_type": "display_data"
    }
   ],
   "source": [
    "# Using history to plot the training and validation loss and accuracy\n",
    "plt.figure(figsize=(20, 8))\n",
    "plt.subplot(1, 2, 1)\n",
    "plt.plot(history.history['loss'], label='Loss')\n",
    "plt.plot(history.history['val_loss'], label='Val Loss')\n",
    "plt.legend()\n",
    "plt.title('Loss Evolution')\n",
    "\n",
    "plt.subplot(1, 2, 2)\n",
    "plt.plot(history.history['val_family_accuracy'], label='Val Family Accuracy')\n",
    "plt.plot(history.history['val_genus_accuracy'], label='Val Genus Accuracy')\n",
    "plt.plot(history.history['val_species_accuracy'], label='Val Species Accuracy')\n",
    "plt.legend()\n",
    "plt.title('Accuracy Evolution')\n",
    "plt.show()\n",
    "\n"
   ]
  },
  {
   "cell_type": "code",
   "execution_count": 7,
   "metadata": {},
   "outputs": [
    {
     "name": "stdout",
     "output_type": "stream",
     "text": [
      "Unfreezing the last 20 layers\n"
     ]
    },
    {
     "name": "stderr",
     "output_type": "stream",
     "text": [
      "Epoch 11/15: 100%|██████████| 92/92 [01:24<00:00,  1.09batch/s, loss=0.0717, family_acc=0.9631, genus_acc=0.9633, species_acc=0.9541]\n"
     ]
    },
    {
     "name": "stdout",
     "output_type": "stream",
     "text": [
      "\u001b[32m2025-01-07 15:52:35.021\u001b[0m | \u001b[1mINFO    \u001b[0m | \u001b[36m__main__\u001b[0m:\u001b[36mon_epoch_end\u001b[0m:\u001b[36m53\u001b[0m - \u001b[1mEpoch 11 completed - Loss: 0.0717, Val Family Accuracy: \u001b[32m0.9156\u001b[0m, Val Genus Accuracy: \u001b[32m0.9049\u001b[0m, Val Species Accuracy: \u001b[32m0.8906\u001b[0m\u001b[0m\n"
     ]
    },
    {
     "name": "stderr",
     "output_type": "stream",
     "text": [
      "Epoch 12/15: 100%|██████████| 92/92 [01:06<00:00,  1.39batch/s, loss=0.0691, family_acc=0.9622, genus_acc=0.9640, species_acc=0.9565]\n"
     ]
    },
    {
     "name": "stdout",
     "output_type": "stream",
     "text": [
      "\u001b[32m2025-01-07 15:53:41.307\u001b[0m | \u001b[1mINFO    \u001b[0m | \u001b[36m__main__\u001b[0m:\u001b[36mon_epoch_end\u001b[0m:\u001b[36m53\u001b[0m - \u001b[1mEpoch 12 completed - Loss: 0.0691, Val Family Accuracy: \u001b[32m0.9176\u001b[0m, Val Genus Accuracy: \u001b[32m0.9049\u001b[0m, Val Species Accuracy: \u001b[32m0.8918\u001b[0m\u001b[0m\n"
     ]
    },
    {
     "name": "stderr",
     "output_type": "stream",
     "text": [
      "Epoch 13/15: 100%|██████████| 92/92 [01:07<00:00,  1.36batch/s, loss=0.0659, family_acc=0.9657, genus_acc=0.9666, species_acc=0.9564]\n"
     ]
    },
    {
     "name": "stdout",
     "output_type": "stream",
     "text": [
      "\u001b[32m2025-01-07 15:54:48.727\u001b[0m | \u001b[1mINFO    \u001b[0m | \u001b[36m__main__\u001b[0m:\u001b[36mon_epoch_end\u001b[0m:\u001b[36m53\u001b[0m - \u001b[1mEpoch 13 completed - Loss: 0.0659, Val Family Accuracy: \u001b[32m0.9184\u001b[0m, Val Genus Accuracy: \u001b[32m0.9041\u001b[0m, Val Species Accuracy: \u001b[32m0.8930\u001b[0m\u001b[0m\n"
     ]
    },
    {
     "name": "stderr",
     "output_type": "stream",
     "text": [
      "Epoch 14/15: 100%|██████████| 92/92 [01:06<00:00,  1.38batch/s, loss=0.0636, family_acc=0.9633, genus_acc=0.9686, species_acc=0.9590]\n"
     ]
    },
    {
     "name": "stdout",
     "output_type": "stream",
     "text": [
      "\u001b[32m2025-01-07 15:55:55.509\u001b[0m | \u001b[1mINFO    \u001b[0m | \u001b[36m__main__\u001b[0m:\u001b[36mon_epoch_end\u001b[0m:\u001b[36m53\u001b[0m - \u001b[1mEpoch 14 completed - Loss: 0.0636, Val Family Accuracy: \u001b[32m0.9184\u001b[0m, Val Genus Accuracy: \u001b[32m0.9065\u001b[0m, Val Species Accuracy: \u001b[32m0.8945\u001b[0m\u001b[0m\n"
     ]
    },
    {
     "name": "stderr",
     "output_type": "stream",
     "text": [
      "Epoch 15/15: 100%|██████████| 92/92 [01:07<00:00,  1.36batch/s, loss=0.0607, family_acc=0.9665, genus_acc=0.9689, species_acc=0.9593]"
     ]
    },
    {
     "name": "stdout",
     "output_type": "stream",
     "text": [
      "\u001b[32m2025-01-07 15:57:03.031\u001b[0m | \u001b[1mINFO    \u001b[0m | \u001b[36m__main__\u001b[0m:\u001b[36mon_epoch_end\u001b[0m:\u001b[36m53\u001b[0m - \u001b[1mEpoch 15 completed - Loss: 0.0607, Val Family Accuracy: \u001b[32m0.9196\u001b[0m, Val Genus Accuracy: \u001b[32m0.9065\u001b[0m, Val Species Accuracy: \u001b[32m0.8953\u001b[0m\u001b[0m\n"
     ]
    },
    {
     "name": "stderr",
     "output_type": "stream",
     "text": [
      "\n"
     ]
    }
   ],
   "source": [
    "from keras import layers\n",
    "\n",
    "# Fine-tuning\n",
    "base_model = model_shared_eff.layers[1]\n",
    "\n",
    "for layer in base_model.layers[-20:]:\n",
    "    if not isinstance(layer, layers.BatchNormalization):\n",
    "        layer.trainable = True\n",
    "    \n",
    "print(f\"Unfreezing the last {20} layers\")\n",
    "\n",
    "model_shared_eff.compile(\n",
    "    optimizer=tf.keras.optimizers.RMSprop(learning_rate=0.00001),\n",
    "    loss = 'categorical_focal_crossentropy',\n",
    "    metrics = {\n",
    "        'family': [\"accuracy\", \"AUC\", \"Precision\", \"Recall\"],\n",
    "        'genus': [\"accuracy\", \"AUC\", \"Precision\", \"Recall\"],\n",
    "        'species': [\"accuracy\", \"AUC\", \"Precision\", \"Recall\"],\n",
    "    },\n",
    ")\n",
    "\n",
    "\n",
    "\n",
    "\n",
    "total_epochs =  15\n",
    "\n",
    "history_fine = model_shared_eff.fit(\n",
    "    train_ds,\n",
    "    epochs=total_epochs,\n",
    "    initial_epoch=len(history.epoch),\n",
    "    validation_data=val_ds,\n",
    "    callbacks=callbacks,\n",
    "    verbose=0  # Suppress TensorFlow default output\n",
    ")"
   ]
  },
  {
   "cell_type": "code",
   "execution_count": 8,
   "metadata": {},
   "outputs": [],
   "source": [
    "def plot_training_history(history, history_fine, fine_tune_at):\n",
    "    \"\"\"\n",
    "    Plot the training history of accuracy and loss for each output.\n",
    "    \n",
    "    Args:\n",
    "    - history (History): History object from the initial training.\n",
    "    - history_fine (History): History object from the fine-tuning phase.\n",
    "    - fine_tune_at (int): Epoch at which fine-tuning began.\n",
    "    \"\"\"\n",
    "    # Combine initial training history and fine-tuning history\n",
    "    accuracy_keys = ['family_accuracy', 'genus_accuracy', 'species_accuracy']\n",
    "    val_accuracy_keys = ['val_family_accuracy', 'val_genus_accuracy', 'val_species_accuracy']\n",
    "    loss_keys = ['family_loss', 'genus_loss', 'species_loss']\n",
    "    val_loss_keys = ['val_family_loss', 'val_genus_loss', 'val_species_loss']\n",
    "\n",
    "    # Combine the data from the initial training and fine-tuning phases\n",
    "    combined_history = {}\n",
    "    for key in accuracy_keys + val_accuracy_keys + loss_keys + val_loss_keys:\n",
    "        combined_history[key] = history.history.get(key, []) + history_fine.history.get(key, [])\n",
    "\n",
    "    total_epochs = len(combined_history[accuracy_keys[0]])  # Total number of epochs including fine-tuning\n",
    "    \n",
    "    # Create subplots for accuracy and loss\n",
    "    fig, axs = plt.subplots(2, 3, figsize=(18, 10))\n",
    "    \n",
    "    # Plot accuracy for each output\n",
    "    for idx, key in enumerate(accuracy_keys):\n",
    "        axs[0, idx].plot(combined_history[key], label='Training Accuracy')\n",
    "        axs[0, idx].plot(combined_history[val_accuracy_keys[idx]], label='Validation Accuracy')\n",
    "        axs[0, idx].axvline(x=fine_tune_at, color='r', linestyle='--', label='Fine-Tuning Start')\n",
    "        axs[0, idx].set_title(f'{key.replace(\"_accuracy\", \"\").capitalize()} Accuracy')\n",
    "        axs[0, idx].set_xlabel('Epochs')\n",
    "        axs[0, idx].set_ylabel('Accuracy')\n",
    "        axs[0, idx].legend()\n",
    "        axs[0, idx].grid(True)\n",
    "    \n",
    "    # Plot loss for each output\n",
    "    for idx, key in enumerate(loss_keys):\n",
    "        axs[1, idx].plot(combined_history[key], label='Training Loss')\n",
    "        axs[1, idx].plot(combined_history[val_loss_keys[idx]], label='Validation Loss')\n",
    "        axs[1, idx].axvline(x=fine_tune_at, color='r', linestyle='--', label='Fine-Tuning Start')\n",
    "        axs[1, idx].set_title(f'{key.replace(\"_loss\", \"\").capitalize()} Loss')\n",
    "        axs[1, idx].set_xlabel('Epochs')\n",
    "        axs[1, idx].set_ylabel('Loss')\n",
    "        axs[1, idx].legend()\n",
    "        axs[1, idx].grid(True)\n",
    "    \n",
    "    # Adjust layout\n",
    "    plt.tight_layout()\n",
    "    plt.show()"
   ]
  },
  {
   "cell_type": "code",
   "execution_count": 11,
   "metadata": {},
   "outputs": [
    {
     "ename": "NameError",
     "evalue": "name 'history_fine' is not defined",
     "output_type": "error",
     "traceback": [
      "\u001b[0;31m---------------------------------------------------------------------------\u001b[0m",
      "\u001b[0;31mNameError\u001b[0m                                 Traceback (most recent call last)",
      "Cell \u001b[0;32mIn[11], line 1\u001b[0m\n\u001b[0;32m----> 1\u001b[0m plot_training_history(history, \u001b[43mhistory_fine\u001b[49m, fine_tune_at\u001b[38;5;241m=\u001b[39m\u001b[38;5;241m0\u001b[39m)\n",
      "\u001b[0;31mNameError\u001b[0m: name 'history_fine' is not defined"
     ]
    }
   ],
   "source": [
    "plot_training_history(history, history_fine, fine_tune_at=0)"
   ]
  },
  {
   "cell_type": "code",
   "execution_count": null,
   "metadata": {},
   "outputs": [],
   "source": [
    "base_model = ResNet50V2(include_top=False, weights='imagenet', input_shape=(224, 224, 3))\n",
    "base_model.trainable = False\n",
    "\n",
    "inputs = Input(shape=(224, 224, 3), name='input_layer')\n",
    "x = data_augmentation(inputs)\n",
    "x = resnet_preprocess(x)\n",
    "x = base_model(x, training=False)\n",
    "\n",
    "def model_hierarchical_v01(inputs, x, features=None):\n",
    "    \n",
    "    if not features:\n",
    "        features = GlobalAveragePooling2D()(x)\n",
    "        \n",
    "    shared_layer = Dense(1024,name='shared_layer')(features)\n",
    "    shared_layer = BatchNormalization()(shared_layer)\n",
    "    shared_layer = Activation('relu')(shared_layer)\n",
    "        \n",
    "    # Family Output\n",
    "    family_hidden = Dense(64,name='family_hidden')(shared_layer)\n",
    "    family_hidden = BatchNormalization()(family_hidden)\n",
    "    family_hidden = Activation('relu')(family_hidden)\n",
    "    family_output = Dense(len(names['family']), activation='softmax',name='family')(family_hidden)\n",
    "\n",
    "    # Genus Output\n",
    "    genus_hidden = Concatenate()([shared_layer, family_hidden])\n",
    "    genus_hidden = BatchNormalization()(genus_hidden)\n",
    "    genus_output = Dense(len(names['genus']), activation='softmax',name='genus')(genus_hidden)\n",
    "\n",
    "    # Species Output\n",
    "    species_hidden = Concatenate()([shared_layer, genus_hidden])\n",
    "    species_hidden = BatchNormalization()(species_hidden)\n",
    "    species_output = Dense(len(names['species']), activation='softmax',name='species')(species_hidden)\n",
    "\n",
    "    model = tf.keras.Model(\n",
    "        inputs, \n",
    "        [family_output, genus_output, species_output], \n",
    "        name='cryptovision_resnet50v2'\n",
    "    )\n",
    "\n",
    "    model.compile(\n",
    "        optimizer=tf.keras.optimizers.Adam(learning_rate=0.0001),\n",
    "        loss=tf.keras.losses.CategoricalFocalCrossentropy(),\n",
    "        metrics = {\n",
    "            'family': [\"accuracy\", \"AUC\", \"Precision\", \"Recall\"],\n",
    "            'genus': [\"accuracy\", \"AUC\", \"Precision\", \"Recall\"],\n",
    "            'species': [\"accuracy\", \"AUC\", \"Precision\", \"Recall\"],\n",
    "        },\n",
    "    )\n",
    "    \n",
    "    return model\n",
    "\n",
    "model_hier_v01 = model_hierarchical_v01(inputs, x)\n",
    "\n",
    "model_hier_v01.summary()"
   ]
  }
 ],
 "metadata": {
  "kernelspec": {
   "display_name": "cvenv",
   "language": "python",
   "name": "python3"
  },
  "language_info": {
   "codemirror_mode": {
    "name": "ipython",
    "version": 3
   },
   "file_extension": ".py",
   "mimetype": "text/x-python",
   "name": "python",
   "nbconvert_exporter": "python",
   "pygments_lexer": "ipython3",
   "version": "3.10.14"
  }
 },
 "nbformat": 4,
 "nbformat_minor": 2
}

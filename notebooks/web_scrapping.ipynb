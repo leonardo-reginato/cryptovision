{
 "cells": [
  {
   "cell_type": "code",
   "execution_count": 6,
   "metadata": {},
   "outputs": [],
   "source": [
    "import os\n",
    "import requests\n",
    "from bs4 import BeautifulSoup\n",
    "from urllib.parse import urljoin, urlparse"
   ]
  },
  {
   "cell_type": "code",
   "execution_count": 8,
   "metadata": {},
   "outputs": [],
   "source": [
    "\n",
    "def fetch_observations(species_name, per_page=30, page=1):\n",
    "    \"\"\"\n",
    "    Fetch observations for a given species name from iNaturalist.\n",
    "    \"\"\"\n",
    "    url = \"https://api.inaturalist.org/v1/observations\"\n",
    "    params = {\n",
    "        \"q\": species_name,\n",
    "        \"per_page\": per_page,\n",
    "        \"page\": page,\n",
    "        \"photos\": True,\n",
    "        \"taxon_name\": species_name,\n",
    "        \"iconic_taxa\": \"Actinopterygii\"  # Ray-finned fishes\n",
    "    }\n",
    "    response = requests.get(url, params=params)\n",
    "    if response.status_code == 200:\n",
    "        return response.json()\n",
    "    else:\n",
    "        print(f\"Error: {response.status_code}\")\n",
    "        return None\n",
    "\n",
    "def download_image(url, save_path):\n",
    "    \"\"\"\n",
    "    Download an image from a URL and save it to the specified path.\n",
    "    \"\"\"\n",
    "    response = requests.get(url, stream=True)\n",
    "    if response.status_code == 200:\n",
    "        with open(save_path, 'wb') as file:\n",
    "            for chunk in response.iter_content(1024):\n",
    "                file.write(chunk)\n",
    "    else:\n",
    "        print(f\"Failed to download image: {url}\")\n",
    "        \n",
    "def download_fish_images(species_name, download_dir, max_images=10):\n",
    "    \"\"\"\n",
    "    Download images of a specific fish species from iNaturalist.\n",
    "    \"\"\"\n",
    "    if not os.path.exists(download_dir):\n",
    "        os.makedirs(download_dir)\n",
    "\n",
    "    observations = fetch_observations(species_name)\n",
    "    if not observations:\n",
    "        print(\"No observations found.\")\n",
    "        return\n",
    "\n",
    "    count = 0\n",
    "    for result in observations.get('results', []):\n",
    "        if count >= max_images:\n",
    "            break\n",
    "        for photo in result.get('photos', []):\n",
    "            image_url = photo.get('url')\n",
    "            if image_url:\n",
    "                # Construct the URL for the original-sized image\n",
    "                original_url = image_url.replace(\"square\", \"original\")\n",
    "                image_id = photo.get('id')\n",
    "                extension = original_url.split('.')[-1]\n",
    "                save_path = os.path.join(download_dir, f\"{species_name}_{image_id}.{extension}\")\n",
    "                download_image(original_url, save_path)\n",
    "                print(f\"Downloaded: {save_path}\")\n",
    "                count += 1\n",
    "                if count >= max_images:\n",
    "                    break\n",
    "                \n"
   ]
  },
  {
   "cell_type": "code",
   "execution_count": 17,
   "metadata": {},
   "outputs": [
    {
     "name": "stdout",
     "output_type": "stream",
     "text": [
      "Downloaded: /Users/leonardo/Documents/Projects/cryptovision/data/raw/Aioliops megastigma/Aioliops megastigma_378303673.jpeg\n",
      "Downloaded: /Users/leonardo/Documents/Projects/cryptovision/data/raw/Aioliops megastigma/Aioliops megastigma_375067369.jpeg\n",
      "Downloaded: /Users/leonardo/Documents/Projects/cryptovision/data/raw/Aioliops megastigma/Aioliops megastigma_374002336.jpeg\n",
      "Downloaded: /Users/leonardo/Documents/Projects/cryptovision/data/raw/Aioliops megastigma/Aioliops megastigma_369743489.jpeg\n",
      "Downloaded: /Users/leonardo/Documents/Projects/cryptovision/data/raw/Aioliops megastigma/Aioliops megastigma_369571026.jpeg\n",
      "Downloaded: /Users/leonardo/Documents/Projects/cryptovision/data/raw/Aioliops megastigma/Aioliops megastigma_367127662.jpeg\n",
      "Downloaded: /Users/leonardo/Documents/Projects/cryptovision/data/raw/Aioliops megastigma/Aioliops megastigma_366405313.jpeg\n",
      "Downloaded: /Users/leonardo/Documents/Projects/cryptovision/data/raw/Aioliops megastigma/Aioliops megastigma_366364738.jpeg\n",
      "Downloaded: /Users/leonardo/Documents/Projects/cryptovision/data/raw/Aioliops megastigma/Aioliops megastigma_364038324.jpeg\n",
      "Downloaded: /Users/leonardo/Documents/Projects/cryptovision/data/raw/Aioliops megastigma/Aioliops megastigma_364046914.jpeg\n"
     ]
    }
   ],
   "source": [
    "species = \"Aioliops megastigma\"  # Replace with your target species name\n",
    "download_directory = f\"/Users/leonardo/Documents/Projects/cryptovision/data/raw/{species}\"  # Replace with your desired local path\n",
    "max_images_to_download = 1000  # Set the maximum number of images to download\n",
    "download_fish_images(species, download_directory, max_images_to_download)"
   ]
  }
 ],
 "metadata": {
  "kernelspec": {
   "display_name": "cvenv",
   "language": "python",
   "name": "python3"
  },
  "language_info": {
   "codemirror_mode": {
    "name": "ipython",
    "version": 3
   },
   "file_extension": ".py",
   "mimetype": "text/x-python",
   "name": "python",
   "nbconvert_exporter": "python",
   "pygments_lexer": "ipython3",
   "version": "3.10.14"
  }
 },
 "nbformat": 4,
 "nbformat_minor": 2
}
